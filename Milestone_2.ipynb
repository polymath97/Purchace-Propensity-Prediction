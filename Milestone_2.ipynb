{
  "nbformat": 4,
  "nbformat_minor": 0,
  "metadata": {
    "colab": {
      "provenance": [],
      "collapsed_sections": [
        "vCTM49kR5DLR"
      ]
    },
    "kernelspec": {
      "name": "python3",
      "display_name": "Python 3"
    },
    "language_info": {
      "name": "python"
    }
  },
  "cells": [
    {
      "cell_type": "markdown",
      "source": [
        "https://github.com/FTDS-assignment-bay/p1-ftds022-rmt-m2-polymath97"
      ],
      "metadata": {
        "id": "E8y1FHkghQ3i"
      }
    },
    {
      "cell_type": "markdown",
      "source": [
        "https://www.kaggle.com/code/jianwenzhao/espresso-churn-prediction\n",
        "\n",
        "https://www.kaggle.com/code/meisyavira/machine-learning-xgboost-svm-random-forest\n",
        "\n",
        "https://www.kaggle.com/code/benpowis/customer-propensity-to-purchase"
      ],
      "metadata": {
        "id": "gzYtQptBcTvF"
      }
    },
    {
      "cell_type": "markdown",
      "source": [
        "# I. INTRODUCTION\n",
        "\n",
        "Name : Gheddi\n",
        "\n",
        "Batch : RMT-022\n",
        "\n",
        "Objective : This project aims to predict the purchase propensity of a customer in an online store. The purpose of the project is offer business the advantage of knowing when their customer are highly likely to order from the online store, so business can develop a profitable strategy on top of this. To achieve this purpose, 5 model will be compared and the best model will be evaluated using precision metric and auc score."
      ],
      "metadata": {
        "id": "BFlVcdlbVUeR"
      }
    },
    {
      "cell_type": "markdown",
      "source": [
        "# II. IMPORT LIBRARIES"
      ],
      "metadata": {
        "id": "YNgIox2PCW88"
      }
    },
    {
      "cell_type": "code",
      "source": [
        "# essentials\n",
        "import pandas as pd\n",
        "import seaborn as sns\n",
        "import numpy as np\n",
        "import matplotlib.pyplot as plt\n",
        "import plotly.express as px\n",
        "\n",
        "# preprocessing\n",
        "from sklearn.model_selection import train_test_split\n",
        "from sklearn.compose import ColumnTransformer\n",
        "from sklearn.preprocessing import RobustScaler\n",
        "from sklearn.pipeline import Pipeline\n",
        "from imblearn.over_sampling import SMOTE\n",
        "from sklearn.decomposition import PCA, KernelPCA\n",
        "from statsmodels.stats.outliers_influence import variance_inflation_factor\n",
        "from imblearn.over_sampling import SMOTE\n",
        "\n",
        "# model\n",
        "from sklearn.svm import SVC\n",
        "from sklearn.neighbors import KNeighborsClassifier\n",
        "from sklearn.tree import DecisionTreeClassifier\n",
        "from xgboost import XGBClassifier\n",
        "from sklearn.ensemble import RandomForestClassifier\n",
        "\n",
        "\n",
        "# Hyperparameter Tuning\n",
        "from sklearn.model_selection import GridSearchCV\n",
        "\n",
        "# evaluation\n",
        "from sklearn.metrics import classification_report, f1_score, ConfusionMatrixDisplay, confusion_matrix\n",
        "from sklearn.model_selection import KFold, cross_val_score\n",
        "\n",
        "# model saving\n",
        "import joblib\n",
        "import json\n",
        "\n",
        "# Colab packages\n",
        "from google.colab import auth\n",
        "from google.cloud import bigquery\n",
        "from google.colab import drive\n",
        "drive.mount('/content/drive')\n",
        "\n",
        "import warnings\n",
        "warnings.filterwarnings('ignore')"
      ],
      "metadata": {
        "colab": {
          "base_uri": "https://localhost:8080/"
        },
        "id": "Um7ord6RSTcR",
        "outputId": "400f7d46-2856-429f-e6c9-2c02ea0210c4"
      },
      "execution_count": 1,
      "outputs": [
        {
          "output_type": "stream",
          "name": "stdout",
          "text": [
            "Drive already mounted at /content/drive; to attempt to forcibly remount, call drive.mount(\"/content/drive\", force_remount=True).\n"
          ]
        }
      ]
    },
    {
      "cell_type": "markdown",
      "source": [
        "## < Conceptual Problem >\n",
        "\n",
        "1. Jelaskan latar belakang adanya bagging dan cara kerja bagging !\n",
        "citation : 1;2;3\n",
        "https://www.ibm.com/topics/bagging\n",
        "\n",
        "2. Jelaskan perbedaan cara kerja algoritma Random Forest dengan algoritma boosting yang Anda pilih !\n",
        "citation : 1;2;3\n",
        "\n",
        "3. Jelaskan apa yang dimaksud dengan Cross Validation !\n",
        "citation : 1;2;3"
      ],
      "metadata": {
        "id": "oV-n7g2SHdZ1"
      }
    },
    {
      "cell_type": "markdown",
      "source": [
        "1. bagging is an ensemble method where it has multiple base classifier learning from different subset of data and the final prediction of bagging classifier/model is the average or aggregated prediction of the different base classifier."
      ],
      "metadata": {
        "id": "v4IQMRotYb1X"
      }
    },
    {
      "cell_type": "markdown",
      "source": [
        "2. Random forest which is a type of bagging algorithm is where the base learners learn independently from each other in parallel manner, while on the boosting algorithm the base learner learn in sequential like manner where newer base learner is influenced by the performance of previous base learner."
      ],
      "metadata": {
        "id": "AiLwVDbhbJA6"
      }
    },
    {
      "cell_type": "markdown",
      "source": [
        "3. Cross validation is evaluation technique to make sure that the performance of the model on different fold of data is stable"
      ],
      "metadata": {
        "id": "cUPqJVTjcsGU"
      }
    },
    {
      "cell_type": "markdown",
      "source": [
        "# III. DATA LOADING"
      ],
      "metadata": {
        "id": "I5irWpJlRA8_"
      }
    },
    {
      "cell_type": "code",
      "source": [
        "df_original = pd.read_csv('/content/drive/MyDrive/# Hacktiv8 Data Science/Milestone/propensity.csv')"
      ],
      "metadata": {
        "id": "u4brhIxVRWrp"
      },
      "execution_count": 2,
      "outputs": []
    },
    {
      "cell_type": "code",
      "source": [
        "df = df_original.copy()"
      ],
      "metadata": {
        "id": "zcmU3R6WUlcv"
      },
      "execution_count": 3,
      "outputs": []
    },
    {
      "cell_type": "markdown",
      "source": [
        "# IV. EXPLORATORY DATA ANALYSIS"
      ],
      "metadata": {
        "id": "ozFl4yyOTWm0"
      }
    },
    {
      "cell_type": "code",
      "source": [
        "df.info()"
      ],
      "metadata": {
        "colab": {
          "base_uri": "https://localhost:8080/"
        },
        "id": "hp1yZKBsUyv8",
        "outputId": "8481938b-7571-4c57-dcad-57d77175c47a"
      },
      "execution_count": null,
      "outputs": [
        {
          "output_type": "stream",
          "name": "stdout",
          "text": [
            "<class 'pandas.core.frame.DataFrame'>\n",
            "RangeIndex: 455401 entries, 0 to 455400\n",
            "Data columns (total 25 columns):\n",
            " #   Column                   Non-Null Count   Dtype \n",
            "---  ------                   --------------   ----- \n",
            " 0   UserID                   455401 non-null  object\n",
            " 1   basket_icon_click        455401 non-null  int64 \n",
            " 2   basket_add_list          455401 non-null  int64 \n",
            " 3   basket_add_detail        455401 non-null  int64 \n",
            " 4   sort_by                  455401 non-null  int64 \n",
            " 5   image_picker             455401 non-null  int64 \n",
            " 6   account_page_click       455401 non-null  int64 \n",
            " 7   promo_banner_click       455401 non-null  int64 \n",
            " 8   detail_wishlist_add      455401 non-null  int64 \n",
            " 9   list_size_dropdown       455401 non-null  int64 \n",
            " 10  closed_minibasket_click  455401 non-null  int64 \n",
            " 11  checked_delivery_detail  455401 non-null  int64 \n",
            " 12  checked_returns_detail   455401 non-null  int64 \n",
            " 13  sign_in                  455401 non-null  int64 \n",
            " 14  saw_checkout             455401 non-null  int64 \n",
            " 15  saw_sizecharts           455401 non-null  int64 \n",
            " 16  saw_delivery             455401 non-null  int64 \n",
            " 17  saw_account_upgrade      455401 non-null  int64 \n",
            " 18  saw_homepage             455401 non-null  int64 \n",
            " 19  device_mobile            455401 non-null  int64 \n",
            " 20  device_computer          455401 non-null  int64 \n",
            " 21  device_tablet            455401 non-null  int64 \n",
            " 22  returning_user           455401 non-null  int64 \n",
            " 23  loc_uk                   455401 non-null  int64 \n",
            " 24  ordered                  455401 non-null  int64 \n",
            "dtypes: int64(24), object(1)\n",
            "memory usage: 86.9+ MB\n"
          ]
        }
      ]
    },
    {
      "cell_type": "code",
      "source": [
        "df.sample(5)"
      ],
      "metadata": {
        "colab": {
          "base_uri": "https://localhost:8080/",
          "height": 272
        },
        "id": "Ut4qBcHTU-QK",
        "outputId": "5b7dc6cb-7853-441b-8a6b-fc3a9c248272"
      },
      "execution_count": null,
      "outputs": [
        {
          "output_type": "execute_result",
          "data": {
            "text/plain": [
              "        basket_icon_click  basket_add_list  basket_add_detail  sort_by  \\\n",
              "125851                  0                0                  0        0   \n",
              "55279                   0                0                  0        0   \n",
              "101956                  0                0                  0        0   \n",
              "372647                  0                0                  0        0   \n",
              "171520                  0                0                  0        0   \n",
              "\n",
              "        image_picker  account_page_click  promo_banner_click  \\\n",
              "125851             0                   0                   0   \n",
              "55279              0                   0                   0   \n",
              "101956             0                   0                   0   \n",
              "372647             0                   0                   0   \n",
              "171520             0                   0                   0   \n",
              "\n",
              "        detail_wishlist_add  list_size_dropdown  closed_minibasket_click  ...  \\\n",
              "125851                    0                   0                        0  ...   \n",
              "55279                     0                   0                        0  ...   \n",
              "101956                    0                   0                        0  ...   \n",
              "372647                    0                   1                        0  ...   \n",
              "171520                    0                   0                        0  ...   \n",
              "\n",
              "        saw_sizecharts  saw_delivery  saw_account_upgrade  saw_homepage  \\\n",
              "125851               0             0                    0             0   \n",
              "55279                0             0                    0             1   \n",
              "101956               0             0                    0             1   \n",
              "372647               0             0                    0             0   \n",
              "171520               0             0                    0             0   \n",
              "\n",
              "        device_mobile  device_computer  device_tablet  returning_user  loc_uk  \\\n",
              "125851              1                0              0               0       1   \n",
              "55279               1                0              0               0       1   \n",
              "101956              1                0              0               0       1   \n",
              "372647              1                0              0               0       1   \n",
              "171520              0                0              1               1       1   \n",
              "\n",
              "        ordered  \n",
              "125851        0  \n",
              "55279         0  \n",
              "101956        0  \n",
              "372647        0  \n",
              "171520        0  \n",
              "\n",
              "[5 rows x 24 columns]"
            ],
            "text/html": [
              "\n",
              "  <div id=\"df-dabce481-d957-4d31-9bdc-fb0d5914554d\" class=\"colab-df-container\">\n",
              "    <div>\n",
              "<style scoped>\n",
              "    .dataframe tbody tr th:only-of-type {\n",
              "        vertical-align: middle;\n",
              "    }\n",
              "\n",
              "    .dataframe tbody tr th {\n",
              "        vertical-align: top;\n",
              "    }\n",
              "\n",
              "    .dataframe thead th {\n",
              "        text-align: right;\n",
              "    }\n",
              "</style>\n",
              "<table border=\"1\" class=\"dataframe\">\n",
              "  <thead>\n",
              "    <tr style=\"text-align: right;\">\n",
              "      <th></th>\n",
              "      <th>basket_icon_click</th>\n",
              "      <th>basket_add_list</th>\n",
              "      <th>basket_add_detail</th>\n",
              "      <th>sort_by</th>\n",
              "      <th>image_picker</th>\n",
              "      <th>account_page_click</th>\n",
              "      <th>promo_banner_click</th>\n",
              "      <th>detail_wishlist_add</th>\n",
              "      <th>list_size_dropdown</th>\n",
              "      <th>closed_minibasket_click</th>\n",
              "      <th>...</th>\n",
              "      <th>saw_sizecharts</th>\n",
              "      <th>saw_delivery</th>\n",
              "      <th>saw_account_upgrade</th>\n",
              "      <th>saw_homepage</th>\n",
              "      <th>device_mobile</th>\n",
              "      <th>device_computer</th>\n",
              "      <th>device_tablet</th>\n",
              "      <th>returning_user</th>\n",
              "      <th>loc_uk</th>\n",
              "      <th>ordered</th>\n",
              "    </tr>\n",
              "  </thead>\n",
              "  <tbody>\n",
              "    <tr>\n",
              "      <th>125851</th>\n",
              "      <td>0</td>\n",
              "      <td>0</td>\n",
              "      <td>0</td>\n",
              "      <td>0</td>\n",
              "      <td>0</td>\n",
              "      <td>0</td>\n",
              "      <td>0</td>\n",
              "      <td>0</td>\n",
              "      <td>0</td>\n",
              "      <td>0</td>\n",
              "      <td>...</td>\n",
              "      <td>0</td>\n",
              "      <td>0</td>\n",
              "      <td>0</td>\n",
              "      <td>0</td>\n",
              "      <td>1</td>\n",
              "      <td>0</td>\n",
              "      <td>0</td>\n",
              "      <td>0</td>\n",
              "      <td>1</td>\n",
              "      <td>0</td>\n",
              "    </tr>\n",
              "    <tr>\n",
              "      <th>55279</th>\n",
              "      <td>0</td>\n",
              "      <td>0</td>\n",
              "      <td>0</td>\n",
              "      <td>0</td>\n",
              "      <td>0</td>\n",
              "      <td>0</td>\n",
              "      <td>0</td>\n",
              "      <td>0</td>\n",
              "      <td>0</td>\n",
              "      <td>0</td>\n",
              "      <td>...</td>\n",
              "      <td>0</td>\n",
              "      <td>0</td>\n",
              "      <td>0</td>\n",
              "      <td>1</td>\n",
              "      <td>1</td>\n",
              "      <td>0</td>\n",
              "      <td>0</td>\n",
              "      <td>0</td>\n",
              "      <td>1</td>\n",
              "      <td>0</td>\n",
              "    </tr>\n",
              "    <tr>\n",
              "      <th>101956</th>\n",
              "      <td>0</td>\n",
              "      <td>0</td>\n",
              "      <td>0</td>\n",
              "      <td>0</td>\n",
              "      <td>0</td>\n",
              "      <td>0</td>\n",
              "      <td>0</td>\n",
              "      <td>0</td>\n",
              "      <td>0</td>\n",
              "      <td>0</td>\n",
              "      <td>...</td>\n",
              "      <td>0</td>\n",
              "      <td>0</td>\n",
              "      <td>0</td>\n",
              "      <td>1</td>\n",
              "      <td>1</td>\n",
              "      <td>0</td>\n",
              "      <td>0</td>\n",
              "      <td>0</td>\n",
              "      <td>1</td>\n",
              "      <td>0</td>\n",
              "    </tr>\n",
              "    <tr>\n",
              "      <th>372647</th>\n",
              "      <td>0</td>\n",
              "      <td>0</td>\n",
              "      <td>0</td>\n",
              "      <td>0</td>\n",
              "      <td>0</td>\n",
              "      <td>0</td>\n",
              "      <td>0</td>\n",
              "      <td>0</td>\n",
              "      <td>1</td>\n",
              "      <td>0</td>\n",
              "      <td>...</td>\n",
              "      <td>0</td>\n",
              "      <td>0</td>\n",
              "      <td>0</td>\n",
              "      <td>0</td>\n",
              "      <td>1</td>\n",
              "      <td>0</td>\n",
              "      <td>0</td>\n",
              "      <td>0</td>\n",
              "      <td>1</td>\n",
              "      <td>0</td>\n",
              "    </tr>\n",
              "    <tr>\n",
              "      <th>171520</th>\n",
              "      <td>0</td>\n",
              "      <td>0</td>\n",
              "      <td>0</td>\n",
              "      <td>0</td>\n",
              "      <td>0</td>\n",
              "      <td>0</td>\n",
              "      <td>0</td>\n",
              "      <td>0</td>\n",
              "      <td>0</td>\n",
              "      <td>0</td>\n",
              "      <td>...</td>\n",
              "      <td>0</td>\n",
              "      <td>0</td>\n",
              "      <td>0</td>\n",
              "      <td>0</td>\n",
              "      <td>0</td>\n",
              "      <td>0</td>\n",
              "      <td>1</td>\n",
              "      <td>1</td>\n",
              "      <td>1</td>\n",
              "      <td>0</td>\n",
              "    </tr>\n",
              "  </tbody>\n",
              "</table>\n",
              "<p>5 rows × 24 columns</p>\n",
              "</div>\n",
              "    <div class=\"colab-df-buttons\">\n",
              "\n",
              "  <div class=\"colab-df-container\">\n",
              "    <button class=\"colab-df-convert\" onclick=\"convertToInteractive('df-dabce481-d957-4d31-9bdc-fb0d5914554d')\"\n",
              "            title=\"Convert this dataframe to an interactive table.\"\n",
              "            style=\"display:none;\">\n",
              "\n",
              "  <svg xmlns=\"http://www.w3.org/2000/svg\" height=\"24px\" viewBox=\"0 -960 960 960\">\n",
              "    <path d=\"M120-120v-720h720v720H120Zm60-500h600v-160H180v160Zm220 220h160v-160H400v160Zm0 220h160v-160H400v160ZM180-400h160v-160H180v160Zm440 0h160v-160H620v160ZM180-180h160v-160H180v160Zm440 0h160v-160H620v160Z\"/>\n",
              "  </svg>\n",
              "    </button>\n",
              "\n",
              "  <style>\n",
              "    .colab-df-container {\n",
              "      display:flex;\n",
              "      gap: 12px;\n",
              "    }\n",
              "\n",
              "    .colab-df-convert {\n",
              "      background-color: #E8F0FE;\n",
              "      border: none;\n",
              "      border-radius: 50%;\n",
              "      cursor: pointer;\n",
              "      display: none;\n",
              "      fill: #1967D2;\n",
              "      height: 32px;\n",
              "      padding: 0 0 0 0;\n",
              "      width: 32px;\n",
              "    }\n",
              "\n",
              "    .colab-df-convert:hover {\n",
              "      background-color: #E2EBFA;\n",
              "      box-shadow: 0px 1px 2px rgba(60, 64, 67, 0.3), 0px 1px 3px 1px rgba(60, 64, 67, 0.15);\n",
              "      fill: #174EA6;\n",
              "    }\n",
              "\n",
              "    .colab-df-buttons div {\n",
              "      margin-bottom: 4px;\n",
              "    }\n",
              "\n",
              "    [theme=dark] .colab-df-convert {\n",
              "      background-color: #3B4455;\n",
              "      fill: #D2E3FC;\n",
              "    }\n",
              "\n",
              "    [theme=dark] .colab-df-convert:hover {\n",
              "      background-color: #434B5C;\n",
              "      box-shadow: 0px 1px 3px 1px rgba(0, 0, 0, 0.15);\n",
              "      filter: drop-shadow(0px 1px 2px rgba(0, 0, 0, 0.3));\n",
              "      fill: #FFFFFF;\n",
              "    }\n",
              "  </style>\n",
              "\n",
              "    <script>\n",
              "      const buttonEl =\n",
              "        document.querySelector('#df-dabce481-d957-4d31-9bdc-fb0d5914554d button.colab-df-convert');\n",
              "      buttonEl.style.display =\n",
              "        google.colab.kernel.accessAllowed ? 'block' : 'none';\n",
              "\n",
              "      async function convertToInteractive(key) {\n",
              "        const element = document.querySelector('#df-dabce481-d957-4d31-9bdc-fb0d5914554d');\n",
              "        const dataTable =\n",
              "          await google.colab.kernel.invokeFunction('convertToInteractive',\n",
              "                                                    [key], {});\n",
              "        if (!dataTable) return;\n",
              "\n",
              "        const docLinkHtml = 'Like what you see? Visit the ' +\n",
              "          '<a target=\"_blank\" href=https://colab.research.google.com/notebooks/data_table.ipynb>data table notebook</a>'\n",
              "          + ' to learn more about interactive tables.';\n",
              "        element.innerHTML = '';\n",
              "        dataTable['output_type'] = 'display_data';\n",
              "        await google.colab.output.renderOutput(dataTable, element);\n",
              "        const docLink = document.createElement('div');\n",
              "        docLink.innerHTML = docLinkHtml;\n",
              "        element.appendChild(docLink);\n",
              "      }\n",
              "    </script>\n",
              "  </div>\n",
              "\n",
              "\n",
              "<div id=\"df-db345720-976c-419a-bbff-03d01d9dadfa\">\n",
              "  <button class=\"colab-df-quickchart\" onclick=\"quickchart('df-db345720-976c-419a-bbff-03d01d9dadfa')\"\n",
              "            title=\"Suggest charts.\"\n",
              "            style=\"display:none;\">\n",
              "\n",
              "<svg xmlns=\"http://www.w3.org/2000/svg\" height=\"24px\"viewBox=\"0 0 24 24\"\n",
              "     width=\"24px\">\n",
              "    <g>\n",
              "        <path d=\"M19 3H5c-1.1 0-2 .9-2 2v14c0 1.1.9 2 2 2h14c1.1 0 2-.9 2-2V5c0-1.1-.9-2-2-2zM9 17H7v-7h2v7zm4 0h-2V7h2v10zm4 0h-2v-4h2v4z\"/>\n",
              "    </g>\n",
              "</svg>\n",
              "  </button>\n",
              "\n",
              "<style>\n",
              "  .colab-df-quickchart {\n",
              "      --bg-color: #E8F0FE;\n",
              "      --fill-color: #1967D2;\n",
              "      --hover-bg-color: #E2EBFA;\n",
              "      --hover-fill-color: #174EA6;\n",
              "      --disabled-fill-color: #AAA;\n",
              "      --disabled-bg-color: #DDD;\n",
              "  }\n",
              "\n",
              "  [theme=dark] .colab-df-quickchart {\n",
              "      --bg-color: #3B4455;\n",
              "      --fill-color: #D2E3FC;\n",
              "      --hover-bg-color: #434B5C;\n",
              "      --hover-fill-color: #FFFFFF;\n",
              "      --disabled-bg-color: #3B4455;\n",
              "      --disabled-fill-color: #666;\n",
              "  }\n",
              "\n",
              "  .colab-df-quickchart {\n",
              "    background-color: var(--bg-color);\n",
              "    border: none;\n",
              "    border-radius: 50%;\n",
              "    cursor: pointer;\n",
              "    display: none;\n",
              "    fill: var(--fill-color);\n",
              "    height: 32px;\n",
              "    padding: 0;\n",
              "    width: 32px;\n",
              "  }\n",
              "\n",
              "  .colab-df-quickchart:hover {\n",
              "    background-color: var(--hover-bg-color);\n",
              "    box-shadow: 0 1px 2px rgba(60, 64, 67, 0.3), 0 1px 3px 1px rgba(60, 64, 67, 0.15);\n",
              "    fill: var(--button-hover-fill-color);\n",
              "  }\n",
              "\n",
              "  .colab-df-quickchart-complete:disabled,\n",
              "  .colab-df-quickchart-complete:disabled:hover {\n",
              "    background-color: var(--disabled-bg-color);\n",
              "    fill: var(--disabled-fill-color);\n",
              "    box-shadow: none;\n",
              "  }\n",
              "\n",
              "  .colab-df-spinner {\n",
              "    border: 2px solid var(--fill-color);\n",
              "    border-color: transparent;\n",
              "    border-bottom-color: var(--fill-color);\n",
              "    animation:\n",
              "      spin 1s steps(1) infinite;\n",
              "  }\n",
              "\n",
              "  @keyframes spin {\n",
              "    0% {\n",
              "      border-color: transparent;\n",
              "      border-bottom-color: var(--fill-color);\n",
              "      border-left-color: var(--fill-color);\n",
              "    }\n",
              "    20% {\n",
              "      border-color: transparent;\n",
              "      border-left-color: var(--fill-color);\n",
              "      border-top-color: var(--fill-color);\n",
              "    }\n",
              "    30% {\n",
              "      border-color: transparent;\n",
              "      border-left-color: var(--fill-color);\n",
              "      border-top-color: var(--fill-color);\n",
              "      border-right-color: var(--fill-color);\n",
              "    }\n",
              "    40% {\n",
              "      border-color: transparent;\n",
              "      border-right-color: var(--fill-color);\n",
              "      border-top-color: var(--fill-color);\n",
              "    }\n",
              "    60% {\n",
              "      border-color: transparent;\n",
              "      border-right-color: var(--fill-color);\n",
              "    }\n",
              "    80% {\n",
              "      border-color: transparent;\n",
              "      border-right-color: var(--fill-color);\n",
              "      border-bottom-color: var(--fill-color);\n",
              "    }\n",
              "    90% {\n",
              "      border-color: transparent;\n",
              "      border-bottom-color: var(--fill-color);\n",
              "    }\n",
              "  }\n",
              "</style>\n",
              "\n",
              "  <script>\n",
              "    async function quickchart(key) {\n",
              "      const quickchartButtonEl =\n",
              "        document.querySelector('#' + key + ' button');\n",
              "      quickchartButtonEl.disabled = true;  // To prevent multiple clicks.\n",
              "      quickchartButtonEl.classList.add('colab-df-spinner');\n",
              "      try {\n",
              "        const charts = await google.colab.kernel.invokeFunction(\n",
              "            'suggestCharts', [key], {});\n",
              "      } catch (error) {\n",
              "        console.error('Error during call to suggestCharts:', error);\n",
              "      }\n",
              "      quickchartButtonEl.classList.remove('colab-df-spinner');\n",
              "      quickchartButtonEl.classList.add('colab-df-quickchart-complete');\n",
              "    }\n",
              "    (() => {\n",
              "      let quickchartButtonEl =\n",
              "        document.querySelector('#df-db345720-976c-419a-bbff-03d01d9dadfa button');\n",
              "      quickchartButtonEl.style.display =\n",
              "        google.colab.kernel.accessAllowed ? 'block' : 'none';\n",
              "    })();\n",
              "  </script>\n",
              "</div>\n",
              "    </div>\n",
              "  </div>\n"
            ]
          },
          "metadata": {},
          "execution_count": 11
        }
      ]
    },
    {
      "cell_type": "markdown",
      "source": [
        "1. checking duplicates"
      ],
      "metadata": {
        "id": "l0fE617cDa10"
      }
    },
    {
      "cell_type": "code",
      "source": [
        "df.duplicated().sum()"
      ],
      "metadata": {
        "colab": {
          "base_uri": "https://localhost:8080/"
        },
        "id": "PfFq62wWDeIF",
        "outputId": "4bcf1a8a-8c7b-4e3e-afe3-be198d185fad"
      },
      "execution_count": 6,
      "outputs": [
        {
          "output_type": "execute_result",
          "data": {
            "text/plain": [
              "0"
            ]
          },
          "metadata": {},
          "execution_count": 6
        }
      ]
    },
    {
      "cell_type": "markdown",
      "source": [
        "2. checking missing value"
      ],
      "metadata": {
        "id": "AtX8VwYrDj_7"
      }
    },
    {
      "cell_type": "code",
      "source": [
        "df.isna().sum()"
      ],
      "metadata": {
        "id": "muN-Sxo1DmsI"
      },
      "execution_count": null,
      "outputs": []
    },
    {
      "cell_type": "markdown",
      "source": [
        "3. descriptive statistic of the dataset"
      ],
      "metadata": {
        "id": "4q5Qm2M3DqIF"
      }
    },
    {
      "cell_type": "code",
      "source": [
        "df.describe()"
      ],
      "metadata": {
        "colab": {
          "base_uri": "https://localhost:8080/",
          "height": 374
        },
        "id": "LyQnO-rJVCRd",
        "outputId": "dcdbb24f-03bf-46ec-8bcf-17dd7437820a"
      },
      "execution_count": null,
      "outputs": [
        {
          "output_type": "execute_result",
          "data": {
            "text/plain": [
              "       basket_icon_click  basket_add_list  basket_add_detail        sort_by  \\\n",
              "count      455401.000000    455401.000000      455401.000000  455401.000000   \n",
              "mean            0.099150         0.074521           0.112916       0.036849   \n",
              "std             0.298864         0.262617           0.316490       0.188391   \n",
              "min             0.000000         0.000000           0.000000       0.000000   \n",
              "25%             0.000000         0.000000           0.000000       0.000000   \n",
              "50%             0.000000         0.000000           0.000000       0.000000   \n",
              "75%             0.000000         0.000000           0.000000       0.000000   \n",
              "max             1.000000         1.000000           1.000000       1.000000   \n",
              "\n",
              "        image_picker  account_page_click  promo_banner_click  \\\n",
              "count  455401.000000       455401.000000       455401.000000   \n",
              "mean        0.026735            0.003570            0.016208   \n",
              "std         0.161307            0.059647            0.126274   \n",
              "min         0.000000            0.000000            0.000000   \n",
              "25%         0.000000            0.000000            0.000000   \n",
              "50%         0.000000            0.000000            0.000000   \n",
              "75%         0.000000            0.000000            0.000000   \n",
              "max         1.000000            1.000000            1.000000   \n",
              "\n",
              "       detail_wishlist_add  list_size_dropdown  closed_minibasket_click  ...  \\\n",
              "count        455401.000000       455401.000000            455401.000000  ...   \n",
              "mean              0.003511            0.230362                 0.017277  ...   \n",
              "std               0.059151            0.421065                 0.130302  ...   \n",
              "min               0.000000            0.000000                 0.000000  ...   \n",
              "25%               0.000000            0.000000                 0.000000  ...   \n",
              "50%               0.000000            0.000000                 0.000000  ...   \n",
              "75%               0.000000            0.000000                 0.000000  ...   \n",
              "max               1.000000            1.000000                 1.000000  ...   \n",
              "\n",
              "       saw_sizecharts   saw_delivery  saw_account_upgrade   saw_homepage  \\\n",
              "count   455401.000000  455401.000000        455401.000000  455401.000000   \n",
              "mean         0.000389       0.005542             0.001096       0.290024   \n",
              "std          0.019711       0.074241             0.033084       0.453773   \n",
              "min          0.000000       0.000000             0.000000       0.000000   \n",
              "25%          0.000000       0.000000             0.000000       0.000000   \n",
              "50%          0.000000       0.000000             0.000000       0.000000   \n",
              "75%          0.000000       0.000000             0.000000       1.000000   \n",
              "max          1.000000       1.000000             1.000000       1.000000   \n",
              "\n",
              "       device_mobile  device_computer  device_tablet  returning_user  \\\n",
              "count  455401.000000    455401.000000  455401.000000   455401.000000   \n",
              "mean        0.680706         0.194220       0.128364        0.534915   \n",
              "std         0.466204         0.395599       0.334495        0.498780   \n",
              "min         0.000000         0.000000       0.000000        0.000000   \n",
              "25%         0.000000         0.000000       0.000000        0.000000   \n",
              "50%         1.000000         0.000000       0.000000        1.000000   \n",
              "75%         1.000000         0.000000       0.000000        1.000000   \n",
              "max         1.000000         1.000000       1.000000        1.000000   \n",
              "\n",
              "              loc_uk        ordered  \n",
              "count  455401.000000  455401.000000  \n",
              "mean        0.933224       0.041926  \n",
              "std         0.249634       0.200420  \n",
              "min         0.000000       0.000000  \n",
              "25%         1.000000       0.000000  \n",
              "50%         1.000000       0.000000  \n",
              "75%         1.000000       0.000000  \n",
              "max         1.000000       1.000000  \n",
              "\n",
              "[8 rows x 24 columns]"
            ],
            "text/html": [
              "\n",
              "  <div id=\"df-9ef297ab-6be0-4d01-9b18-2e2480205fbc\" class=\"colab-df-container\">\n",
              "    <div>\n",
              "<style scoped>\n",
              "    .dataframe tbody tr th:only-of-type {\n",
              "        vertical-align: middle;\n",
              "    }\n",
              "\n",
              "    .dataframe tbody tr th {\n",
              "        vertical-align: top;\n",
              "    }\n",
              "\n",
              "    .dataframe thead th {\n",
              "        text-align: right;\n",
              "    }\n",
              "</style>\n",
              "<table border=\"1\" class=\"dataframe\">\n",
              "  <thead>\n",
              "    <tr style=\"text-align: right;\">\n",
              "      <th></th>\n",
              "      <th>basket_icon_click</th>\n",
              "      <th>basket_add_list</th>\n",
              "      <th>basket_add_detail</th>\n",
              "      <th>sort_by</th>\n",
              "      <th>image_picker</th>\n",
              "      <th>account_page_click</th>\n",
              "      <th>promo_banner_click</th>\n",
              "      <th>detail_wishlist_add</th>\n",
              "      <th>list_size_dropdown</th>\n",
              "      <th>closed_minibasket_click</th>\n",
              "      <th>...</th>\n",
              "      <th>saw_sizecharts</th>\n",
              "      <th>saw_delivery</th>\n",
              "      <th>saw_account_upgrade</th>\n",
              "      <th>saw_homepage</th>\n",
              "      <th>device_mobile</th>\n",
              "      <th>device_computer</th>\n",
              "      <th>device_tablet</th>\n",
              "      <th>returning_user</th>\n",
              "      <th>loc_uk</th>\n",
              "      <th>ordered</th>\n",
              "    </tr>\n",
              "  </thead>\n",
              "  <tbody>\n",
              "    <tr>\n",
              "      <th>count</th>\n",
              "      <td>455401.000000</td>\n",
              "      <td>455401.000000</td>\n",
              "      <td>455401.000000</td>\n",
              "      <td>455401.000000</td>\n",
              "      <td>455401.000000</td>\n",
              "      <td>455401.000000</td>\n",
              "      <td>455401.000000</td>\n",
              "      <td>455401.000000</td>\n",
              "      <td>455401.000000</td>\n",
              "      <td>455401.000000</td>\n",
              "      <td>...</td>\n",
              "      <td>455401.000000</td>\n",
              "      <td>455401.000000</td>\n",
              "      <td>455401.000000</td>\n",
              "      <td>455401.000000</td>\n",
              "      <td>455401.000000</td>\n",
              "      <td>455401.000000</td>\n",
              "      <td>455401.000000</td>\n",
              "      <td>455401.000000</td>\n",
              "      <td>455401.000000</td>\n",
              "      <td>455401.000000</td>\n",
              "    </tr>\n",
              "    <tr>\n",
              "      <th>mean</th>\n",
              "      <td>0.099150</td>\n",
              "      <td>0.074521</td>\n",
              "      <td>0.112916</td>\n",
              "      <td>0.036849</td>\n",
              "      <td>0.026735</td>\n",
              "      <td>0.003570</td>\n",
              "      <td>0.016208</td>\n",
              "      <td>0.003511</td>\n",
              "      <td>0.230362</td>\n",
              "      <td>0.017277</td>\n",
              "      <td>...</td>\n",
              "      <td>0.000389</td>\n",
              "      <td>0.005542</td>\n",
              "      <td>0.001096</td>\n",
              "      <td>0.290024</td>\n",
              "      <td>0.680706</td>\n",
              "      <td>0.194220</td>\n",
              "      <td>0.128364</td>\n",
              "      <td>0.534915</td>\n",
              "      <td>0.933224</td>\n",
              "      <td>0.041926</td>\n",
              "    </tr>\n",
              "    <tr>\n",
              "      <th>std</th>\n",
              "      <td>0.298864</td>\n",
              "      <td>0.262617</td>\n",
              "      <td>0.316490</td>\n",
              "      <td>0.188391</td>\n",
              "      <td>0.161307</td>\n",
              "      <td>0.059647</td>\n",
              "      <td>0.126274</td>\n",
              "      <td>0.059151</td>\n",
              "      <td>0.421065</td>\n",
              "      <td>0.130302</td>\n",
              "      <td>...</td>\n",
              "      <td>0.019711</td>\n",
              "      <td>0.074241</td>\n",
              "      <td>0.033084</td>\n",
              "      <td>0.453773</td>\n",
              "      <td>0.466204</td>\n",
              "      <td>0.395599</td>\n",
              "      <td>0.334495</td>\n",
              "      <td>0.498780</td>\n",
              "      <td>0.249634</td>\n",
              "      <td>0.200420</td>\n",
              "    </tr>\n",
              "    <tr>\n",
              "      <th>min</th>\n",
              "      <td>0.000000</td>\n",
              "      <td>0.000000</td>\n",
              "      <td>0.000000</td>\n",
              "      <td>0.000000</td>\n",
              "      <td>0.000000</td>\n",
              "      <td>0.000000</td>\n",
              "      <td>0.000000</td>\n",
              "      <td>0.000000</td>\n",
              "      <td>0.000000</td>\n",
              "      <td>0.000000</td>\n",
              "      <td>...</td>\n",
              "      <td>0.000000</td>\n",
              "      <td>0.000000</td>\n",
              "      <td>0.000000</td>\n",
              "      <td>0.000000</td>\n",
              "      <td>0.000000</td>\n",
              "      <td>0.000000</td>\n",
              "      <td>0.000000</td>\n",
              "      <td>0.000000</td>\n",
              "      <td>0.000000</td>\n",
              "      <td>0.000000</td>\n",
              "    </tr>\n",
              "    <tr>\n",
              "      <th>25%</th>\n",
              "      <td>0.000000</td>\n",
              "      <td>0.000000</td>\n",
              "      <td>0.000000</td>\n",
              "      <td>0.000000</td>\n",
              "      <td>0.000000</td>\n",
              "      <td>0.000000</td>\n",
              "      <td>0.000000</td>\n",
              "      <td>0.000000</td>\n",
              "      <td>0.000000</td>\n",
              "      <td>0.000000</td>\n",
              "      <td>...</td>\n",
              "      <td>0.000000</td>\n",
              "      <td>0.000000</td>\n",
              "      <td>0.000000</td>\n",
              "      <td>0.000000</td>\n",
              "      <td>0.000000</td>\n",
              "      <td>0.000000</td>\n",
              "      <td>0.000000</td>\n",
              "      <td>0.000000</td>\n",
              "      <td>1.000000</td>\n",
              "      <td>0.000000</td>\n",
              "    </tr>\n",
              "    <tr>\n",
              "      <th>50%</th>\n",
              "      <td>0.000000</td>\n",
              "      <td>0.000000</td>\n",
              "      <td>0.000000</td>\n",
              "      <td>0.000000</td>\n",
              "      <td>0.000000</td>\n",
              "      <td>0.000000</td>\n",
              "      <td>0.000000</td>\n",
              "      <td>0.000000</td>\n",
              "      <td>0.000000</td>\n",
              "      <td>0.000000</td>\n",
              "      <td>...</td>\n",
              "      <td>0.000000</td>\n",
              "      <td>0.000000</td>\n",
              "      <td>0.000000</td>\n",
              "      <td>0.000000</td>\n",
              "      <td>1.000000</td>\n",
              "      <td>0.000000</td>\n",
              "      <td>0.000000</td>\n",
              "      <td>1.000000</td>\n",
              "      <td>1.000000</td>\n",
              "      <td>0.000000</td>\n",
              "    </tr>\n",
              "    <tr>\n",
              "      <th>75%</th>\n",
              "      <td>0.000000</td>\n",
              "      <td>0.000000</td>\n",
              "      <td>0.000000</td>\n",
              "      <td>0.000000</td>\n",
              "      <td>0.000000</td>\n",
              "      <td>0.000000</td>\n",
              "      <td>0.000000</td>\n",
              "      <td>0.000000</td>\n",
              "      <td>0.000000</td>\n",
              "      <td>0.000000</td>\n",
              "      <td>...</td>\n",
              "      <td>0.000000</td>\n",
              "      <td>0.000000</td>\n",
              "      <td>0.000000</td>\n",
              "      <td>1.000000</td>\n",
              "      <td>1.000000</td>\n",
              "      <td>0.000000</td>\n",
              "      <td>0.000000</td>\n",
              "      <td>1.000000</td>\n",
              "      <td>1.000000</td>\n",
              "      <td>0.000000</td>\n",
              "    </tr>\n",
              "    <tr>\n",
              "      <th>max</th>\n",
              "      <td>1.000000</td>\n",
              "      <td>1.000000</td>\n",
              "      <td>1.000000</td>\n",
              "      <td>1.000000</td>\n",
              "      <td>1.000000</td>\n",
              "      <td>1.000000</td>\n",
              "      <td>1.000000</td>\n",
              "      <td>1.000000</td>\n",
              "      <td>1.000000</td>\n",
              "      <td>1.000000</td>\n",
              "      <td>...</td>\n",
              "      <td>1.000000</td>\n",
              "      <td>1.000000</td>\n",
              "      <td>1.000000</td>\n",
              "      <td>1.000000</td>\n",
              "      <td>1.000000</td>\n",
              "      <td>1.000000</td>\n",
              "      <td>1.000000</td>\n",
              "      <td>1.000000</td>\n",
              "      <td>1.000000</td>\n",
              "      <td>1.000000</td>\n",
              "    </tr>\n",
              "  </tbody>\n",
              "</table>\n",
              "<p>8 rows × 24 columns</p>\n",
              "</div>\n",
              "    <div class=\"colab-df-buttons\">\n",
              "\n",
              "  <div class=\"colab-df-container\">\n",
              "    <button class=\"colab-df-convert\" onclick=\"convertToInteractive('df-9ef297ab-6be0-4d01-9b18-2e2480205fbc')\"\n",
              "            title=\"Convert this dataframe to an interactive table.\"\n",
              "            style=\"display:none;\">\n",
              "\n",
              "  <svg xmlns=\"http://www.w3.org/2000/svg\" height=\"24px\" viewBox=\"0 -960 960 960\">\n",
              "    <path d=\"M120-120v-720h720v720H120Zm60-500h600v-160H180v160Zm220 220h160v-160H400v160Zm0 220h160v-160H400v160ZM180-400h160v-160H180v160Zm440 0h160v-160H620v160ZM180-180h160v-160H180v160Zm440 0h160v-160H620v160Z\"/>\n",
              "  </svg>\n",
              "    </button>\n",
              "\n",
              "  <style>\n",
              "    .colab-df-container {\n",
              "      display:flex;\n",
              "      gap: 12px;\n",
              "    }\n",
              "\n",
              "    .colab-df-convert {\n",
              "      background-color: #E8F0FE;\n",
              "      border: none;\n",
              "      border-radius: 50%;\n",
              "      cursor: pointer;\n",
              "      display: none;\n",
              "      fill: #1967D2;\n",
              "      height: 32px;\n",
              "      padding: 0 0 0 0;\n",
              "      width: 32px;\n",
              "    }\n",
              "\n",
              "    .colab-df-convert:hover {\n",
              "      background-color: #E2EBFA;\n",
              "      box-shadow: 0px 1px 2px rgba(60, 64, 67, 0.3), 0px 1px 3px 1px rgba(60, 64, 67, 0.15);\n",
              "      fill: #174EA6;\n",
              "    }\n",
              "\n",
              "    .colab-df-buttons div {\n",
              "      margin-bottom: 4px;\n",
              "    }\n",
              "\n",
              "    [theme=dark] .colab-df-convert {\n",
              "      background-color: #3B4455;\n",
              "      fill: #D2E3FC;\n",
              "    }\n",
              "\n",
              "    [theme=dark] .colab-df-convert:hover {\n",
              "      background-color: #434B5C;\n",
              "      box-shadow: 0px 1px 3px 1px rgba(0, 0, 0, 0.15);\n",
              "      filter: drop-shadow(0px 1px 2px rgba(0, 0, 0, 0.3));\n",
              "      fill: #FFFFFF;\n",
              "    }\n",
              "  </style>\n",
              "\n",
              "    <script>\n",
              "      const buttonEl =\n",
              "        document.querySelector('#df-9ef297ab-6be0-4d01-9b18-2e2480205fbc button.colab-df-convert');\n",
              "      buttonEl.style.display =\n",
              "        google.colab.kernel.accessAllowed ? 'block' : 'none';\n",
              "\n",
              "      async function convertToInteractive(key) {\n",
              "        const element = document.querySelector('#df-9ef297ab-6be0-4d01-9b18-2e2480205fbc');\n",
              "        const dataTable =\n",
              "          await google.colab.kernel.invokeFunction('convertToInteractive',\n",
              "                                                    [key], {});\n",
              "        if (!dataTable) return;\n",
              "\n",
              "        const docLinkHtml = 'Like what you see? Visit the ' +\n",
              "          '<a target=\"_blank\" href=https://colab.research.google.com/notebooks/data_table.ipynb>data table notebook</a>'\n",
              "          + ' to learn more about interactive tables.';\n",
              "        element.innerHTML = '';\n",
              "        dataTable['output_type'] = 'display_data';\n",
              "        await google.colab.output.renderOutput(dataTable, element);\n",
              "        const docLink = document.createElement('div');\n",
              "        docLink.innerHTML = docLinkHtml;\n",
              "        element.appendChild(docLink);\n",
              "      }\n",
              "    </script>\n",
              "  </div>\n",
              "\n",
              "\n",
              "<div id=\"df-b1373a73-a96b-4472-954a-1b50ba33cf7f\">\n",
              "  <button class=\"colab-df-quickchart\" onclick=\"quickchart('df-b1373a73-a96b-4472-954a-1b50ba33cf7f')\"\n",
              "            title=\"Suggest charts.\"\n",
              "            style=\"display:none;\">\n",
              "\n",
              "<svg xmlns=\"http://www.w3.org/2000/svg\" height=\"24px\"viewBox=\"0 0 24 24\"\n",
              "     width=\"24px\">\n",
              "    <g>\n",
              "        <path d=\"M19 3H5c-1.1 0-2 .9-2 2v14c0 1.1.9 2 2 2h14c1.1 0 2-.9 2-2V5c0-1.1-.9-2-2-2zM9 17H7v-7h2v7zm4 0h-2V7h2v10zm4 0h-2v-4h2v4z\"/>\n",
              "    </g>\n",
              "</svg>\n",
              "  </button>\n",
              "\n",
              "<style>\n",
              "  .colab-df-quickchart {\n",
              "      --bg-color: #E8F0FE;\n",
              "      --fill-color: #1967D2;\n",
              "      --hover-bg-color: #E2EBFA;\n",
              "      --hover-fill-color: #174EA6;\n",
              "      --disabled-fill-color: #AAA;\n",
              "      --disabled-bg-color: #DDD;\n",
              "  }\n",
              "\n",
              "  [theme=dark] .colab-df-quickchart {\n",
              "      --bg-color: #3B4455;\n",
              "      --fill-color: #D2E3FC;\n",
              "      --hover-bg-color: #434B5C;\n",
              "      --hover-fill-color: #FFFFFF;\n",
              "      --disabled-bg-color: #3B4455;\n",
              "      --disabled-fill-color: #666;\n",
              "  }\n",
              "\n",
              "  .colab-df-quickchart {\n",
              "    background-color: var(--bg-color);\n",
              "    border: none;\n",
              "    border-radius: 50%;\n",
              "    cursor: pointer;\n",
              "    display: none;\n",
              "    fill: var(--fill-color);\n",
              "    height: 32px;\n",
              "    padding: 0;\n",
              "    width: 32px;\n",
              "  }\n",
              "\n",
              "  .colab-df-quickchart:hover {\n",
              "    background-color: var(--hover-bg-color);\n",
              "    box-shadow: 0 1px 2px rgba(60, 64, 67, 0.3), 0 1px 3px 1px rgba(60, 64, 67, 0.15);\n",
              "    fill: var(--button-hover-fill-color);\n",
              "  }\n",
              "\n",
              "  .colab-df-quickchart-complete:disabled,\n",
              "  .colab-df-quickchart-complete:disabled:hover {\n",
              "    background-color: var(--disabled-bg-color);\n",
              "    fill: var(--disabled-fill-color);\n",
              "    box-shadow: none;\n",
              "  }\n",
              "\n",
              "  .colab-df-spinner {\n",
              "    border: 2px solid var(--fill-color);\n",
              "    border-color: transparent;\n",
              "    border-bottom-color: var(--fill-color);\n",
              "    animation:\n",
              "      spin 1s steps(1) infinite;\n",
              "  }\n",
              "\n",
              "  @keyframes spin {\n",
              "    0% {\n",
              "      border-color: transparent;\n",
              "      border-bottom-color: var(--fill-color);\n",
              "      border-left-color: var(--fill-color);\n",
              "    }\n",
              "    20% {\n",
              "      border-color: transparent;\n",
              "      border-left-color: var(--fill-color);\n",
              "      border-top-color: var(--fill-color);\n",
              "    }\n",
              "    30% {\n",
              "      border-color: transparent;\n",
              "      border-left-color: var(--fill-color);\n",
              "      border-top-color: var(--fill-color);\n",
              "      border-right-color: var(--fill-color);\n",
              "    }\n",
              "    40% {\n",
              "      border-color: transparent;\n",
              "      border-right-color: var(--fill-color);\n",
              "      border-top-color: var(--fill-color);\n",
              "    }\n",
              "    60% {\n",
              "      border-color: transparent;\n",
              "      border-right-color: var(--fill-color);\n",
              "    }\n",
              "    80% {\n",
              "      border-color: transparent;\n",
              "      border-right-color: var(--fill-color);\n",
              "      border-bottom-color: var(--fill-color);\n",
              "    }\n",
              "    90% {\n",
              "      border-color: transparent;\n",
              "      border-bottom-color: var(--fill-color);\n",
              "    }\n",
              "  }\n",
              "</style>\n",
              "\n",
              "  <script>\n",
              "    async function quickchart(key) {\n",
              "      const quickchartButtonEl =\n",
              "        document.querySelector('#' + key + ' button');\n",
              "      quickchartButtonEl.disabled = true;  // To prevent multiple clicks.\n",
              "      quickchartButtonEl.classList.add('colab-df-spinner');\n",
              "      try {\n",
              "        const charts = await google.colab.kernel.invokeFunction(\n",
              "            'suggestCharts', [key], {});\n",
              "      } catch (error) {\n",
              "        console.error('Error during call to suggestCharts:', error);\n",
              "      }\n",
              "      quickchartButtonEl.classList.remove('colab-df-spinner');\n",
              "      quickchartButtonEl.classList.add('colab-df-quickchart-complete');\n",
              "    }\n",
              "    (() => {\n",
              "      let quickchartButtonEl =\n",
              "        document.querySelector('#df-b1373a73-a96b-4472-954a-1b50ba33cf7f button');\n",
              "      quickchartButtonEl.style.display =\n",
              "        google.colab.kernel.accessAllowed ? 'block' : 'none';\n",
              "    })();\n",
              "  </script>\n",
              "</div>\n",
              "    </div>\n",
              "  </div>\n"
            ]
          },
          "metadata": {},
          "execution_count": 43
        }
      ]
    },
    {
      "cell_type": "markdown",
      "source": [
        "4. checking the cardinality of each column"
      ],
      "metadata": {
        "id": "tSkhRfTgDtwe"
      }
    },
    {
      "cell_type": "code",
      "source": [
        "df_cardinality = df.drop('UserID', axis=1)\n",
        "for col in df_cardinality.columns:\n",
        "  print(f'{col} column unique values : {df_cardinality[col].unique()}')"
      ],
      "metadata": {
        "colab": {
          "base_uri": "https://localhost:8080/"
        },
        "id": "OvUhaVqoDzkw",
        "outputId": "6c52f411-2e2a-4857-caa4-2c85da14a135"
      },
      "execution_count": 8,
      "outputs": [
        {
          "output_type": "stream",
          "name": "stdout",
          "text": [
            "basket_icon_click column unique values : [0 1]\n",
            "basket_add_list column unique values : [0 1]\n",
            "basket_add_detail column unique values : [0 1]\n",
            "sort_by column unique values : [0 1]\n",
            "image_picker column unique values : [0 1]\n",
            "account_page_click column unique values : [0 1]\n",
            "promo_banner_click column unique values : [0 1]\n",
            "detail_wishlist_add column unique values : [0 1]\n",
            "list_size_dropdown column unique values : [0 1]\n",
            "closed_minibasket_click column unique values : [0 1]\n",
            "checked_delivery_detail column unique values : [1 0]\n",
            "checked_returns_detail column unique values : [0 1]\n",
            "sign_in column unique values : [0 1]\n",
            "saw_checkout column unique values : [0 1]\n",
            "saw_sizecharts column unique values : [0 1]\n",
            "saw_delivery column unique values : [0 1]\n",
            "saw_account_upgrade column unique values : [0 1]\n",
            "saw_homepage column unique values : [0 1]\n",
            "device_mobile column unique values : [1 0]\n",
            "device_computer column unique values : [0 1]\n",
            "device_tablet column unique values : [0 1]\n",
            "returning_user column unique values : [0 1]\n",
            "loc_uk column unique values : [1 0]\n",
            "ordered column unique values : [0 1]\n"
          ]
        }
      ]
    },
    {
      "cell_type": "markdown",
      "source": [
        "5. correlation heatmap"
      ],
      "metadata": {
        "id": "ccY1uGhVINb2"
      }
    },
    {
      "cell_type": "code",
      "source": [
        "df_corr=df.corr()\n",
        "\n",
        "plt.figure(figsize = (20, 20))\n",
        "sns.heatmap(df_corr,annot=True,cmap='RdPu')\n",
        "plt.show()"
      ],
      "metadata": {
        "id": "k1MgyAXl_5-t"
      },
      "execution_count": null,
      "outputs": []
    },
    {
      "cell_type": "markdown",
      "source": [
        "6. check the balance of target variable"
      ],
      "metadata": {
        "id": "e67NxT3wIbkG"
      }
    },
    {
      "cell_type": "code",
      "source": [
        "df['ordered'].value_counts().plot(kind='bar')"
      ],
      "metadata": {
        "id": "5wHi69yM_w6D"
      },
      "execution_count": null,
      "outputs": []
    },
    {
      "cell_type": "markdown",
      "source": [
        "7. contingency table"
      ],
      "metadata": {
        "id": "rv1JiNHbC7jx"
      }
    },
    {
      "cell_type": "markdown",
      "source": [
        "8. chi squared table"
      ],
      "metadata": {
        "id": "ITGOid8cIEd7"
      }
    },
    {
      "cell_type": "markdown",
      "source": [
        "# V. FEATURE ENGINEERING"
      ],
      "metadata": {
        "id": "juuoc2mvRG2Z"
      }
    },
    {
      "cell_type": "markdown",
      "source": [
        "### < Splitting Data >"
      ],
      "metadata": {
        "id": "W6VUP00ub8tj"
      }
    },
    {
      "cell_type": "code",
      "source": [
        "# split data to train set and test set\n",
        "train, test = train_test_split(df, test_size= 0.2,random_state=5)"
      ],
      "metadata": {
        "id": "N3FtZwImcALX"
      },
      "execution_count": 11,
      "outputs": []
    },
    {
      "cell_type": "code",
      "source": [
        "# separate feature and target\n",
        "X_train = train.drop('ordered',axis=1)\n",
        "Y_train = train['ordered']\n",
        "X_test = test.drop('ordered',axis=1)\n",
        "Y_test = test['ordered']"
      ],
      "metadata": {
        "id": "Ni6Yy0Xj-jfs"
      },
      "execution_count": 12,
      "outputs": []
    },
    {
      "cell_type": "code",
      "source": [
        "# drop unused feature\n",
        "X_train.drop('UserID', axis=1, inplace=True)\n",
        "print(f'Train set shape : {X_train.shape}')\n",
        "print('Total amount of each class of the target :')\n",
        "print(Y_train.value_counts())"
      ],
      "metadata": {
        "colab": {
          "base_uri": "https://localhost:8080/"
        },
        "id": "paP1L7lM-0qz",
        "outputId": "4b1a0211-9889-47b6-eb11-6ad4afe8aa56"
      },
      "execution_count": 21,
      "outputs": [
        {
          "output_type": "stream",
          "name": "stdout",
          "text": [
            "Train set shape : (364320, 23)\n",
            "Total amount of each class of the target :\n",
            "0    349045\n",
            "1     15275\n",
            "Name: ordered, dtype: int64\n"
          ]
        }
      ]
    },
    {
      "cell_type": "code",
      "source": [
        "# use smote to create oversampled train set for future comparison\n",
        "smote = SMOTE(random_state=33)\n",
        "X_train_oversampled, Y_train_oversampled = smote.fit_resample(X_train, Y_train)"
      ],
      "metadata": {
        "id": "IeRcwxID9QU6"
      },
      "execution_count": 14,
      "outputs": []
    },
    {
      "cell_type": "code",
      "source": [
        "print(f'Oversampled train set shape : {X_train_oversampled.shape}')\n",
        "print('Total amount of each class of the target :')\n",
        "print(Y_train_oversampled.value_counts())"
      ],
      "metadata": {
        "colab": {
          "base_uri": "https://localhost:8080/"
        },
        "id": "NhdKoz05a0Vy",
        "outputId": "ee28fc23-7e72-4f9a-fa93-ec2597944418"
      },
      "execution_count": 22,
      "outputs": [
        {
          "output_type": "stream",
          "name": "stdout",
          "text": [
            "Oversampled train set shape : (698090, 23)\n",
            "Total amount of each class of the target :\n",
            "0    349045\n",
            "1    349045\n",
            "Name: ordered, dtype: int64\n"
          ]
        }
      ]
    },
    {
      "cell_type": "markdown",
      "source": [
        "### < Checking Multicollinearity >"
      ],
      "metadata": {
        "id": "aWKejW7hACW4"
      }
    },
    {
      "cell_type": "code",
      "source": [
        "# using VIF score to measure multicollinearity between variable\n",
        "df_float = df.drop('UserID', axis=1).astype(float)\n",
        "\n",
        "vif_data = pd.DataFrame()\n",
        "vif_data[\"feature\"] = df_float.columns\n",
        "\n",
        "# calculating VIF for each feature\n",
        "vif_data[\"VIF\"] = [variance_inflation_factor(df_float.values, i) for i in range(len(df_float.columns))]\n",
        "\n",
        "vif_data"
      ],
      "metadata": {
        "id": "DXQ8pRVKAKp2",
        "colab": {
          "base_uri": "https://localhost:8080/",
          "height": 863
        },
        "outputId": "3f0d0161-6794-4269-e717-cbf669f0a284"
      },
      "execution_count": 25,
      "outputs": [
        {
          "output_type": "execute_result",
          "data": {
            "text/plain": [
              "                    feature        VIF\n",
              "0         basket_icon_click   2.053465\n",
              "1           basket_add_list   1.676683\n",
              "2         basket_add_detail   1.782741\n",
              "3                   sort_by   1.185455\n",
              "4              image_picker   1.138845\n",
              "5        account_page_click   1.130253\n",
              "6        promo_banner_click   1.042686\n",
              "7       detail_wishlist_add   1.067372\n",
              "8        list_size_dropdown   1.765511\n",
              "9   closed_minibasket_click   1.151323\n",
              "10  checked_delivery_detail   3.685911\n",
              "11   checked_returns_detail   1.112418\n",
              "12                  sign_in   9.788029\n",
              "13             saw_checkout   9.995506\n",
              "14           saw_sizecharts   1.001377\n",
              "15             saw_delivery   1.110924\n",
              "16      saw_account_upgrade   1.005759\n",
              "17             saw_homepage   1.579855\n",
              "18            device_mobile  11.798247\n",
              "19          device_computer   3.689901\n",
              "20            device_tablet   3.112389\n",
              "21           returning_user   2.210059\n",
              "22                   loc_uk  14.692042\n",
              "23                  ordered   3.779266"
            ],
            "text/html": [
              "\n",
              "  <div id=\"df-99019633-70ef-4887-ab3e-25f93093c410\" class=\"colab-df-container\">\n",
              "    <div>\n",
              "<style scoped>\n",
              "    .dataframe tbody tr th:only-of-type {\n",
              "        vertical-align: middle;\n",
              "    }\n",
              "\n",
              "    .dataframe tbody tr th {\n",
              "        vertical-align: top;\n",
              "    }\n",
              "\n",
              "    .dataframe thead th {\n",
              "        text-align: right;\n",
              "    }\n",
              "</style>\n",
              "<table border=\"1\" class=\"dataframe\">\n",
              "  <thead>\n",
              "    <tr style=\"text-align: right;\">\n",
              "      <th></th>\n",
              "      <th>feature</th>\n",
              "      <th>VIF</th>\n",
              "    </tr>\n",
              "  </thead>\n",
              "  <tbody>\n",
              "    <tr>\n",
              "      <th>0</th>\n",
              "      <td>basket_icon_click</td>\n",
              "      <td>2.053465</td>\n",
              "    </tr>\n",
              "    <tr>\n",
              "      <th>1</th>\n",
              "      <td>basket_add_list</td>\n",
              "      <td>1.676683</td>\n",
              "    </tr>\n",
              "    <tr>\n",
              "      <th>2</th>\n",
              "      <td>basket_add_detail</td>\n",
              "      <td>1.782741</td>\n",
              "    </tr>\n",
              "    <tr>\n",
              "      <th>3</th>\n",
              "      <td>sort_by</td>\n",
              "      <td>1.185455</td>\n",
              "    </tr>\n",
              "    <tr>\n",
              "      <th>4</th>\n",
              "      <td>image_picker</td>\n",
              "      <td>1.138845</td>\n",
              "    </tr>\n",
              "    <tr>\n",
              "      <th>5</th>\n",
              "      <td>account_page_click</td>\n",
              "      <td>1.130253</td>\n",
              "    </tr>\n",
              "    <tr>\n",
              "      <th>6</th>\n",
              "      <td>promo_banner_click</td>\n",
              "      <td>1.042686</td>\n",
              "    </tr>\n",
              "    <tr>\n",
              "      <th>7</th>\n",
              "      <td>detail_wishlist_add</td>\n",
              "      <td>1.067372</td>\n",
              "    </tr>\n",
              "    <tr>\n",
              "      <th>8</th>\n",
              "      <td>list_size_dropdown</td>\n",
              "      <td>1.765511</td>\n",
              "    </tr>\n",
              "    <tr>\n",
              "      <th>9</th>\n",
              "      <td>closed_minibasket_click</td>\n",
              "      <td>1.151323</td>\n",
              "    </tr>\n",
              "    <tr>\n",
              "      <th>10</th>\n",
              "      <td>checked_delivery_detail</td>\n",
              "      <td>3.685911</td>\n",
              "    </tr>\n",
              "    <tr>\n",
              "      <th>11</th>\n",
              "      <td>checked_returns_detail</td>\n",
              "      <td>1.112418</td>\n",
              "    </tr>\n",
              "    <tr>\n",
              "      <th>12</th>\n",
              "      <td>sign_in</td>\n",
              "      <td>9.788029</td>\n",
              "    </tr>\n",
              "    <tr>\n",
              "      <th>13</th>\n",
              "      <td>saw_checkout</td>\n",
              "      <td>9.995506</td>\n",
              "    </tr>\n",
              "    <tr>\n",
              "      <th>14</th>\n",
              "      <td>saw_sizecharts</td>\n",
              "      <td>1.001377</td>\n",
              "    </tr>\n",
              "    <tr>\n",
              "      <th>15</th>\n",
              "      <td>saw_delivery</td>\n",
              "      <td>1.110924</td>\n",
              "    </tr>\n",
              "    <tr>\n",
              "      <th>16</th>\n",
              "      <td>saw_account_upgrade</td>\n",
              "      <td>1.005759</td>\n",
              "    </tr>\n",
              "    <tr>\n",
              "      <th>17</th>\n",
              "      <td>saw_homepage</td>\n",
              "      <td>1.579855</td>\n",
              "    </tr>\n",
              "    <tr>\n",
              "      <th>18</th>\n",
              "      <td>device_mobile</td>\n",
              "      <td>11.798247</td>\n",
              "    </tr>\n",
              "    <tr>\n",
              "      <th>19</th>\n",
              "      <td>device_computer</td>\n",
              "      <td>3.689901</td>\n",
              "    </tr>\n",
              "    <tr>\n",
              "      <th>20</th>\n",
              "      <td>device_tablet</td>\n",
              "      <td>3.112389</td>\n",
              "    </tr>\n",
              "    <tr>\n",
              "      <th>21</th>\n",
              "      <td>returning_user</td>\n",
              "      <td>2.210059</td>\n",
              "    </tr>\n",
              "    <tr>\n",
              "      <th>22</th>\n",
              "      <td>loc_uk</td>\n",
              "      <td>14.692042</td>\n",
              "    </tr>\n",
              "    <tr>\n",
              "      <th>23</th>\n",
              "      <td>ordered</td>\n",
              "      <td>3.779266</td>\n",
              "    </tr>\n",
              "  </tbody>\n",
              "</table>\n",
              "</div>\n",
              "    <div class=\"colab-df-buttons\">\n",
              "\n",
              "  <div class=\"colab-df-container\">\n",
              "    <button class=\"colab-df-convert\" onclick=\"convertToInteractive('df-99019633-70ef-4887-ab3e-25f93093c410')\"\n",
              "            title=\"Convert this dataframe to an interactive table.\"\n",
              "            style=\"display:none;\">\n",
              "\n",
              "  <svg xmlns=\"http://www.w3.org/2000/svg\" height=\"24px\" viewBox=\"0 -960 960 960\">\n",
              "    <path d=\"M120-120v-720h720v720H120Zm60-500h600v-160H180v160Zm220 220h160v-160H400v160Zm0 220h160v-160H400v160ZM180-400h160v-160H180v160Zm440 0h160v-160H620v160ZM180-180h160v-160H180v160Zm440 0h160v-160H620v160Z\"/>\n",
              "  </svg>\n",
              "    </button>\n",
              "\n",
              "  <style>\n",
              "    .colab-df-container {\n",
              "      display:flex;\n",
              "      gap: 12px;\n",
              "    }\n",
              "\n",
              "    .colab-df-convert {\n",
              "      background-color: #E8F0FE;\n",
              "      border: none;\n",
              "      border-radius: 50%;\n",
              "      cursor: pointer;\n",
              "      display: none;\n",
              "      fill: #1967D2;\n",
              "      height: 32px;\n",
              "      padding: 0 0 0 0;\n",
              "      width: 32px;\n",
              "    }\n",
              "\n",
              "    .colab-df-convert:hover {\n",
              "      background-color: #E2EBFA;\n",
              "      box-shadow: 0px 1px 2px rgba(60, 64, 67, 0.3), 0px 1px 3px 1px rgba(60, 64, 67, 0.15);\n",
              "      fill: #174EA6;\n",
              "    }\n",
              "\n",
              "    .colab-df-buttons div {\n",
              "      margin-bottom: 4px;\n",
              "    }\n",
              "\n",
              "    [theme=dark] .colab-df-convert {\n",
              "      background-color: #3B4455;\n",
              "      fill: #D2E3FC;\n",
              "    }\n",
              "\n",
              "    [theme=dark] .colab-df-convert:hover {\n",
              "      background-color: #434B5C;\n",
              "      box-shadow: 0px 1px 3px 1px rgba(0, 0, 0, 0.15);\n",
              "      filter: drop-shadow(0px 1px 2px rgba(0, 0, 0, 0.3));\n",
              "      fill: #FFFFFF;\n",
              "    }\n",
              "  </style>\n",
              "\n",
              "    <script>\n",
              "      const buttonEl =\n",
              "        document.querySelector('#df-99019633-70ef-4887-ab3e-25f93093c410 button.colab-df-convert');\n",
              "      buttonEl.style.display =\n",
              "        google.colab.kernel.accessAllowed ? 'block' : 'none';\n",
              "\n",
              "      async function convertToInteractive(key) {\n",
              "        const element = document.querySelector('#df-99019633-70ef-4887-ab3e-25f93093c410');\n",
              "        const dataTable =\n",
              "          await google.colab.kernel.invokeFunction('convertToInteractive',\n",
              "                                                    [key], {});\n",
              "        if (!dataTable) return;\n",
              "\n",
              "        const docLinkHtml = 'Like what you see? Visit the ' +\n",
              "          '<a target=\"_blank\" href=https://colab.research.google.com/notebooks/data_table.ipynb>data table notebook</a>'\n",
              "          + ' to learn more about interactive tables.';\n",
              "        element.innerHTML = '';\n",
              "        dataTable['output_type'] = 'display_data';\n",
              "        await google.colab.output.renderOutput(dataTable, element);\n",
              "        const docLink = document.createElement('div');\n",
              "        docLink.innerHTML = docLinkHtml;\n",
              "        element.appendChild(docLink);\n",
              "      }\n",
              "    </script>\n",
              "  </div>\n",
              "\n",
              "\n",
              "<div id=\"df-43951d51-48da-44e9-b10d-3f4c306fa8ea\">\n",
              "  <button class=\"colab-df-quickchart\" onclick=\"quickchart('df-43951d51-48da-44e9-b10d-3f4c306fa8ea')\"\n",
              "            title=\"Suggest charts.\"\n",
              "            style=\"display:none;\">\n",
              "\n",
              "<svg xmlns=\"http://www.w3.org/2000/svg\" height=\"24px\"viewBox=\"0 0 24 24\"\n",
              "     width=\"24px\">\n",
              "    <g>\n",
              "        <path d=\"M19 3H5c-1.1 0-2 .9-2 2v14c0 1.1.9 2 2 2h14c1.1 0 2-.9 2-2V5c0-1.1-.9-2-2-2zM9 17H7v-7h2v7zm4 0h-2V7h2v10zm4 0h-2v-4h2v4z\"/>\n",
              "    </g>\n",
              "</svg>\n",
              "  </button>\n",
              "\n",
              "<style>\n",
              "  .colab-df-quickchart {\n",
              "      --bg-color: #E8F0FE;\n",
              "      --fill-color: #1967D2;\n",
              "      --hover-bg-color: #E2EBFA;\n",
              "      --hover-fill-color: #174EA6;\n",
              "      --disabled-fill-color: #AAA;\n",
              "      --disabled-bg-color: #DDD;\n",
              "  }\n",
              "\n",
              "  [theme=dark] .colab-df-quickchart {\n",
              "      --bg-color: #3B4455;\n",
              "      --fill-color: #D2E3FC;\n",
              "      --hover-bg-color: #434B5C;\n",
              "      --hover-fill-color: #FFFFFF;\n",
              "      --disabled-bg-color: #3B4455;\n",
              "      --disabled-fill-color: #666;\n",
              "  }\n",
              "\n",
              "  .colab-df-quickchart {\n",
              "    background-color: var(--bg-color);\n",
              "    border: none;\n",
              "    border-radius: 50%;\n",
              "    cursor: pointer;\n",
              "    display: none;\n",
              "    fill: var(--fill-color);\n",
              "    height: 32px;\n",
              "    padding: 0;\n",
              "    width: 32px;\n",
              "  }\n",
              "\n",
              "  .colab-df-quickchart:hover {\n",
              "    background-color: var(--hover-bg-color);\n",
              "    box-shadow: 0 1px 2px rgba(60, 64, 67, 0.3), 0 1px 3px 1px rgba(60, 64, 67, 0.15);\n",
              "    fill: var(--button-hover-fill-color);\n",
              "  }\n",
              "\n",
              "  .colab-df-quickchart-complete:disabled,\n",
              "  .colab-df-quickchart-complete:disabled:hover {\n",
              "    background-color: var(--disabled-bg-color);\n",
              "    fill: var(--disabled-fill-color);\n",
              "    box-shadow: none;\n",
              "  }\n",
              "\n",
              "  .colab-df-spinner {\n",
              "    border: 2px solid var(--fill-color);\n",
              "    border-color: transparent;\n",
              "    border-bottom-color: var(--fill-color);\n",
              "    animation:\n",
              "      spin 1s steps(1) infinite;\n",
              "  }\n",
              "\n",
              "  @keyframes spin {\n",
              "    0% {\n",
              "      border-color: transparent;\n",
              "      border-bottom-color: var(--fill-color);\n",
              "      border-left-color: var(--fill-color);\n",
              "    }\n",
              "    20% {\n",
              "      border-color: transparent;\n",
              "      border-left-color: var(--fill-color);\n",
              "      border-top-color: var(--fill-color);\n",
              "    }\n",
              "    30% {\n",
              "      border-color: transparent;\n",
              "      border-left-color: var(--fill-color);\n",
              "      border-top-color: var(--fill-color);\n",
              "      border-right-color: var(--fill-color);\n",
              "    }\n",
              "    40% {\n",
              "      border-color: transparent;\n",
              "      border-right-color: var(--fill-color);\n",
              "      border-top-color: var(--fill-color);\n",
              "    }\n",
              "    60% {\n",
              "      border-color: transparent;\n",
              "      border-right-color: var(--fill-color);\n",
              "    }\n",
              "    80% {\n",
              "      border-color: transparent;\n",
              "      border-right-color: var(--fill-color);\n",
              "      border-bottom-color: var(--fill-color);\n",
              "    }\n",
              "    90% {\n",
              "      border-color: transparent;\n",
              "      border-bottom-color: var(--fill-color);\n",
              "    }\n",
              "  }\n",
              "</style>\n",
              "\n",
              "  <script>\n",
              "    async function quickchart(key) {\n",
              "      const quickchartButtonEl =\n",
              "        document.querySelector('#' + key + ' button');\n",
              "      quickchartButtonEl.disabled = true;  // To prevent multiple clicks.\n",
              "      quickchartButtonEl.classList.add('colab-df-spinner');\n",
              "      try {\n",
              "        const charts = await google.colab.kernel.invokeFunction(\n",
              "            'suggestCharts', [key], {});\n",
              "      } catch (error) {\n",
              "        console.error('Error during call to suggestCharts:', error);\n",
              "      }\n",
              "      quickchartButtonEl.classList.remove('colab-df-spinner');\n",
              "      quickchartButtonEl.classList.add('colab-df-quickchart-complete');\n",
              "    }\n",
              "    (() => {\n",
              "      let quickchartButtonEl =\n",
              "        document.querySelector('#df-43951d51-48da-44e9-b10d-3f4c306fa8ea button');\n",
              "      quickchartButtonEl.style.display =\n",
              "        google.colab.kernel.accessAllowed ? 'block' : 'none';\n",
              "    })();\n",
              "  </script>\n",
              "</div>\n",
              "    </div>\n",
              "  </div>\n"
            ]
          },
          "metadata": {},
          "execution_count": 25
        }
      ]
    },
    {
      "cell_type": "markdown",
      "source": [
        "### < Feature Selection >"
      ],
      "metadata": {
        "id": "cubuYo_Fi-ZU"
      }
    },
    {
      "cell_type": "code",
      "source": [
        "from sklearn.metrics import matthews_corrcoef\n",
        "y_var = train['ordered']"
      ],
      "metadata": {
        "id": "ns8DqeZBplO3"
      },
      "execution_count": null,
      "outputs": []
    },
    {
      "cell_type": "code",
      "source": [
        "# https://www.ncbi.nlm.nih.gov/pmc/articles/PMC9938573/\n",
        "# https://link.springer.com/article/10.1057/jt.2009.5\n",
        "# https://www.frontiersin.org/articles/10.3389/frobt.2022.876814/full\n",
        "# https://www.frontiersin.org/articles/10.3389/frai.2021.729834/full\n",
        "# personal threshold from the author from\n",
        "for col in train.columns:\n",
        "  print(f'{col} correlation coefficient : {matthews_corrcoef(train[col], y_var)}')"
      ],
      "metadata": {
        "colab": {
          "base_uri": "https://localhost:8080/"
        },
        "id": "sgNyQMbfpvfE",
        "outputId": "87b51852-f4ac-4b6f-fa6b-21e45b1312dd"
      },
      "execution_count": null,
      "outputs": [
        {
          "output_type": "stream",
          "name": "stdout",
          "text": [
            "basket_icon_click correlation coefficient : 0.4282882866506242\n",
            "basket_add_list correlation coefficient : 0.29056891574439087\n",
            "basket_add_detail correlation coefficient : 0.4141452939565644\n",
            "sort_by correlation coefficient : 0.05494404181173775\n",
            "image_picker correlation coefficient : 0.07148593886340297\n",
            "account_page_click correlation coefficient : 0.05666650702014135\n",
            "promo_banner_click correlation coefficient : 0.05752439381722766\n",
            "detail_wishlist_add correlation coefficient : 0.0245152570459411\n",
            "list_size_dropdown correlation coefficient : 0.15646119181609236\n",
            "closed_minibasket_click correlation coefficient : 0.1397486901907454\n",
            "checked_delivery_detail correlation coefficient : 0.7987950561645234\n",
            "checked_returns_detail correlation coefficient : 0.06065483957799535\n",
            "sign_in correlation coefficient : 0.6666823812405375\n",
            "saw_checkout correlation coefficient : 0.7101755268357881\n",
            "saw_sizecharts correlation coefficient : 0.006327965955791566\n",
            "saw_delivery correlation coefficient : 0.031489462824954205\n",
            "saw_account_upgrade correlation coefficient : 0.02251691396552853\n",
            "saw_homepage correlation coefficient : 0.15796449620997902\n",
            "device_mobile correlation coefficient : -0.042980215849040056\n",
            "device_computer correlation coefficient : 0.04906566352462084\n",
            "device_tablet correlation coefficient : 0.01697905777504816\n",
            "returning_user correlation coefficient : 0.05954479955334151\n",
            "loc_uk correlation coefficient : 0.03183387164451639\n",
            "ordered correlation coefficient : 1.0\n"
          ]
        }
      ]
    },
    {
      "cell_type": "code",
      "source": [
        "# chi squared corr"
      ],
      "metadata": {
        "id": "ASbpwscED0c7"
      },
      "execution_count": null,
      "outputs": []
    },
    {
      "cell_type": "code",
      "source": [
        "selected_feature = ['checked_delivery_detail', 'sign_in', 'saw_checkout']"
      ],
      "metadata": {
        "id": "BbQ9HImfV77d"
      },
      "execution_count": null,
      "outputs": []
    },
    {
      "cell_type": "code",
      "source": [
        "X_train = X_train[[selected_feature]]"
      ],
      "metadata": {
        "id": "egqKc1fXbTuK"
      },
      "execution_count": 27,
      "outputs": []
    },
    {
      "cell_type": "code",
      "source": [
        "X_train.shape"
      ],
      "metadata": {
        "colab": {
          "base_uri": "https://localhost:8080/"
        },
        "id": "XkYt5P5jnY6f",
        "outputId": "f029886e-530b-410b-b198-0bdae743b66a"
      },
      "execution_count": 28,
      "outputs": [
        {
          "output_type": "execute_result",
          "data": {
            "text/plain": [
              "(364320, 3)"
            ]
          },
          "metadata": {},
          "execution_count": 28
        }
      ]
    },
    {
      "cell_type": "markdown",
      "source": [
        "### < Encoding >"
      ],
      "metadata": {
        "id": "hOP607ZZYl8Y"
      }
    },
    {
      "cell_type": "markdown",
      "source": [
        "all var is alrd numerical, no need further enc"
      ],
      "metadata": {
        "id": "trIV4xrEEDcf"
      }
    },
    {
      "cell_type": "markdown",
      "source": [
        "### < Outlier Handling >"
      ],
      "metadata": {
        "id": "0zHdwv-ZYKGl"
      }
    },
    {
      "cell_type": "markdown",
      "source": [
        "no outlier because all feature columns are categorical"
      ],
      "metadata": {
        "id": "YXrXbBsVEV4P"
      }
    },
    {
      "cell_type": "markdown",
      "source": [
        "### < Normalization & Encoding >"
      ],
      "metadata": {
        "id": "xSxARn-PYXOW"
      }
    },
    {
      "cell_type": "markdown",
      "source": [
        "No normalization because no outlier and all the variables are already in numerical value"
      ],
      "metadata": {
        "id": "Z7p4G9lD9r9u"
      }
    },
    {
      "cell_type": "markdown",
      "source": [
        "### < Building Column Transformer >"
      ],
      "metadata": {
        "id": "d8osdpkRGGOG"
      }
    },
    {
      "cell_type": "code",
      "source": [
        "input_transformer = ColumnTransformer(\n",
        "  transformers=[\n",
        "    (\"select necessary feature\", 'passthrough', ['checked_delivery_detail', 'sign_in', 'saw_checkout'])\n",
        "  ],\n",
        "  remainder = 'drop'\n",
        ")"
      ],
      "metadata": {
        "id": "eVLE_x2BJiJo"
      },
      "execution_count": 29,
      "outputs": []
    },
    {
      "cell_type": "markdown",
      "source": [
        "# VI. MODEL DEFINITION"
      ],
      "metadata": {
        "id": "VsBg4uS2RL3d"
      }
    },
    {
      "cell_type": "markdown",
      "source": [
        "< KNN Model >"
      ],
      "metadata": {
        "id": "EZFxUYWCbTv7"
      }
    },
    {
      "cell_type": "code",
      "source": [
        "model_knn = KNeighborsClassifier()"
      ],
      "metadata": {
        "id": "Mr0ZvAqOcrgS"
      },
      "execution_count": null,
      "outputs": []
    },
    {
      "cell_type": "markdown",
      "source": [
        "< SVM >"
      ],
      "metadata": {
        "id": "wurkmC9ebXnS"
      }
    },
    {
      "cell_type": "code",
      "source": [
        "model_svm = SVC()"
      ],
      "metadata": {
        "id": "a7YulOhFVQ_k"
      },
      "execution_count": null,
      "outputs": []
    },
    {
      "cell_type": "markdown",
      "source": [
        "< Decision Tree >"
      ],
      "metadata": {
        "id": "J_3yB2aEbedA"
      }
    },
    {
      "cell_type": "code",
      "source": [
        "model_dtree = DecisionTreeClassifier()"
      ],
      "metadata": {
        "id": "KLAWqPZgbn9-"
      },
      "execution_count": 30,
      "outputs": []
    },
    {
      "cell_type": "markdown",
      "source": [
        "< Random Forest >"
      ],
      "metadata": {
        "id": "FvGvLQnobhXC"
      }
    },
    {
      "cell_type": "code",
      "source": [
        "model_rf = RandomForestClassifier()"
      ],
      "metadata": {
        "id": "0Gb3shRHbpBH"
      },
      "execution_count": 31,
      "outputs": []
    },
    {
      "cell_type": "markdown",
      "source": [
        "< Boosting >"
      ],
      "metadata": {
        "id": "Y6-6cNwVbmAK"
      }
    },
    {
      "cell_type": "code",
      "source": [
        "model_xgb = XGBClassifier()"
      ],
      "metadata": {
        "id": "VnFSWnBfbpmo"
      },
      "execution_count": 32,
      "outputs": []
    },
    {
      "cell_type": "markdown",
      "source": [
        "# VII. MODEL TRAINING"
      ],
      "metadata": {
        "id": "eo2Kep3aRPdb"
      }
    },
    {
      "cell_type": "code",
      "source": [
        "k_folds = KFold(n_splits = 5, shuffle=True)"
      ],
      "metadata": {
        "id": "X7uP2iRJfQ_I"
      },
      "execution_count": 35,
      "outputs": []
    },
    {
      "cell_type": "markdown",
      "source": [
        "cross val score = prec / recall"
      ],
      "metadata": {
        "id": "X1ooVh_aFNZx"
      }
    },
    {
      "cell_type": "markdown",
      "source": [
        "### < KNN Model Training"
      ],
      "metadata": {
        "id": "i_fQEn5ZfPei"
      }
    },
    {
      "cell_type": "code",
      "source": [
        "knn_score = cross_val_score(model_knn, X_train, Y_train, cv = k_folds, scoring='precision') #scoring mmetric prec"
      ],
      "metadata": {
        "id": "ofAFtuXUfhXp"
      },
      "execution_count": null,
      "outputs": []
    },
    {
      "cell_type": "code",
      "source": [
        "print(\"KNN Cross Validation Scores: \", knn_score)\n",
        "print(\"KNN Average CV Score: \", knn_score.mean())"
      ],
      "metadata": {
        "colab": {
          "base_uri": "https://localhost:8080/"
        },
        "id": "1Ut69S_Ff8X6",
        "outputId": "c6151d8f-d789-46cb-ae58-4aa0219934a2"
      },
      "execution_count": null,
      "outputs": [
        {
          "output_type": "stream",
          "name": "stdout",
          "text": [
            "KNN Cross Validation Scores:  [0.99328887 0.99330259 0.9931928  0.99257521 0.99264383]\n",
            "KNN Average CV Score:  0.9930006587615283\n"
          ]
        }
      ]
    },
    {
      "cell_type": "markdown",
      "source": [
        "### < SVM Model Training >"
      ],
      "metadata": {
        "id": "qREat-rwiI2q"
      }
    },
    {
      "cell_type": "code",
      "source": [
        "svm_score = cross_val_score(model_svm, X_train, Y_train, cv = k_folds, scoring='precision')"
      ],
      "metadata": {
        "id": "a40BPsvlvAVl"
      },
      "execution_count": null,
      "outputs": []
    },
    {
      "cell_type": "code",
      "source": [
        "print(\"SVM Cross Validation Scores: \", svm_score)\n",
        "print(\"SVM Average CV Score: \", svm_score.mean())"
      ],
      "metadata": {
        "colab": {
          "base_uri": "https://localhost:8080/"
        },
        "id": "MovmOxa-LEnD",
        "outputId": "21b414c0-59e2-4847-cd45-b8d731ad2606"
      },
      "execution_count": null,
      "outputs": [
        {
          "output_type": "stream",
          "name": "stdout",
          "text": [
            "SVM Cross Validation Scores:  [0.99338494 0.99276735 0.99294576 0.99254776 0.99335749]\n",
            "SVM Average CV Score:  0.9930006587615283\n"
          ]
        }
      ]
    },
    {
      "cell_type": "markdown",
      "source": [
        "### < Decision Tree Model Training >"
      ],
      "metadata": {
        "id": "maebxCrYiRbi"
      }
    },
    {
      "cell_type": "code",
      "source": [
        "dtree_score = cross_val_score(model_dtree, X_train, Y_train, cv = k_folds, scoring='precision')"
      ],
      "metadata": {
        "id": "upcP__4utUDS"
      },
      "execution_count": 36,
      "outputs": []
    },
    {
      "cell_type": "code",
      "source": [
        "print(\"Decision Tree Cross Validation Scores: \", dtree_score)\n",
        "print(\"Decision Tree Average CV Score: \", dtree_score.mean())"
      ],
      "metadata": {
        "colab": {
          "base_uri": "https://localhost:8080/"
        },
        "id": "8JFA7yfzt2Zj",
        "outputId": "1bcc34e7-1aaa-4227-d0e5-d4ac6a065108"
      },
      "execution_count": 37,
      "outputs": [
        {
          "output_type": "stream",
          "name": "stdout",
          "text": [
            "Decision Tree Cross Validation Scores:  [0.87150374 0.85976142 0.86496454 0.85992333 0.86097768]\n",
            "Decision Tree Average CV Score:  0.8634261402377797\n"
          ]
        }
      ]
    },
    {
      "cell_type": "markdown",
      "source": [
        "### < Random Forest Model Training >"
      ],
      "metadata": {
        "id": "y6Ynx3WLiVGJ"
      }
    },
    {
      "cell_type": "code",
      "source": [
        "rf_score = cross_val_score(model_rf, X_train, Y_train, cv = k_folds, scoring='precision')"
      ],
      "metadata": {
        "id": "5ib1MIJJ7tbV"
      },
      "execution_count": 38,
      "outputs": []
    },
    {
      "cell_type": "code",
      "source": [
        "print(\"Random Forest Cross Validation Scores: \", rf_score)\n",
        "print(\"Random forest Average CV Score: \", rf_score.mean())"
      ],
      "metadata": {
        "colab": {
          "base_uri": "https://localhost:8080/"
        },
        "id": "5z3vDbGXLBSE",
        "outputId": "ce8a00ce-be3c-4dad-824e-f47fa94ecaf3"
      },
      "execution_count": 39,
      "outputs": [
        {
          "output_type": "stream",
          "name": "stdout",
          "text": [
            "Random Forest Cross Validation Scores:  [0.86261521 0.86092715 0.86435868 0.85730243 0.87257457]\n",
            "Random forest Average CV Score:  0.8635556090659506\n"
          ]
        }
      ]
    },
    {
      "cell_type": "markdown",
      "source": [
        "### < XGBoost Model Training >"
      ],
      "metadata": {
        "id": "pQGrlotqiXzE"
      }
    },
    {
      "cell_type": "code",
      "source": [
        "xgb_score = cross_val_score(model_xgb, X_train, Y_train, cv = k_folds, scoring='precision')"
      ],
      "metadata": {
        "id": "sL5eUf1hMPOC"
      },
      "execution_count": 40,
      "outputs": []
    },
    {
      "cell_type": "code",
      "source": [
        "print(\"XGBoost Cross Validation Scores: \", xgb_score)\n",
        "print(\"XGBoost forest Average CV Score: \", xgb_score.mean())"
      ],
      "metadata": {
        "colab": {
          "base_uri": "https://localhost:8080/"
        },
        "id": "ZPU0f7BrQNpW",
        "outputId": "867738ab-3ea5-4c3e-ef5f-5164c6288c23"
      },
      "execution_count": 41,
      "outputs": [
        {
          "output_type": "stream",
          "name": "stdout",
          "text": [
            "XGBoost Cross Validation Scores:  [0.8700889  0.86257143 0.87147335 0.85775371 0.85567305]\n",
            "XGBoost forest Average CV Score:  0.8635120879392048\n"
          ]
        }
      ]
    },
    {
      "cell_type": "markdown",
      "source": [
        "### < Hyperparameter Tuning the Best Model >\n",
        "\n",
        "after comparing 5 baseline model, we perform hyperparameter tuning on the best model"
      ],
      "metadata": {
        "id": "qiSlXOSV0Gfc"
      }
    },
    {
      "cell_type": "code",
      "source": [
        "dtree_param = {\n",
        "  'criterion': ['gini', 'entropy'],\n",
        "  'max_depth': [5,10],\n",
        "  'min_samples_split':[8,9,10]\n",
        "}\n",
        "\n",
        "gridscv = GridSearchCV(model_dtree, param_grid=dtree_param, cv=5)\n",
        "gridscv.fit(X_train, Y_train)\n",
        "\n",
        "gridscv.best_params_"
      ],
      "metadata": {
        "colab": {
          "base_uri": "https://localhost:8080/"
        },
        "id": "DO5-TEei0bks",
        "outputId": "9a7380c0-5ff8-49e3-d7f6-2fb3d180b901"
      },
      "execution_count": null,
      "outputs": [
        {
          "output_type": "execute_result",
          "data": {
            "text/plain": [
              "{'criterion': 'gini', 'max_depth': 5, 'min_samples_split': 8}"
            ]
          },
          "metadata": {},
          "execution_count": 18
        }
      ]
    },
    {
      "cell_type": "code",
      "source": [
        "# make pipeline containing column transformer\n",
        "model_dtree_tuned = Pipeline(\n",
        "  steps=[\n",
        "    (\"input processing\", input_transformer),\n",
        "    (\"Decision Tree Model\", DecisionTreeClassifier(criterion='gini', max_depth=5, min_samples_split=8))\n",
        "  ]\n",
        ")\n",
        "\n",
        "model_dtree_tuned.fit(X_train, Y_train)"
      ],
      "metadata": {
        "colab": {
          "base_uri": "https://localhost:8080/",
          "height": 193
        },
        "id": "RInMiA_wEyI8",
        "outputId": "76e07999-9b75-4661-9cac-bdc89f8175de"
      },
      "execution_count": null,
      "outputs": [
        {
          "output_type": "execute_result",
          "data": {
            "text/plain": [
              "Pipeline(steps=[('input processing',\n",
              "                 ColumnTransformer(transformers=[('select necessary feature',\n",
              "                                                  'passthrough',\n",
              "                                                  ['checked_delivery_detail',\n",
              "                                                   'sign_in',\n",
              "                                                   'saw_checkout'])])),\n",
              "                ('Decision Tree Model',\n",
              "                 DecisionTreeClassifier(max_depth=5, min_samples_split=8))])"
            ],
            "text/html": [
              "<style>#sk-container-id-1 {color: black;background-color: white;}#sk-container-id-1 pre{padding: 0;}#sk-container-id-1 div.sk-toggleable {background-color: white;}#sk-container-id-1 label.sk-toggleable__label {cursor: pointer;display: block;width: 100%;margin-bottom: 0;padding: 0.3em;box-sizing: border-box;text-align: center;}#sk-container-id-1 label.sk-toggleable__label-arrow:before {content: \"▸\";float: left;margin-right: 0.25em;color: #696969;}#sk-container-id-1 label.sk-toggleable__label-arrow:hover:before {color: black;}#sk-container-id-1 div.sk-estimator:hover label.sk-toggleable__label-arrow:before {color: black;}#sk-container-id-1 div.sk-toggleable__content {max-height: 0;max-width: 0;overflow: hidden;text-align: left;background-color: #f0f8ff;}#sk-container-id-1 div.sk-toggleable__content pre {margin: 0.2em;color: black;border-radius: 0.25em;background-color: #f0f8ff;}#sk-container-id-1 input.sk-toggleable__control:checked~div.sk-toggleable__content {max-height: 200px;max-width: 100%;overflow: auto;}#sk-container-id-1 input.sk-toggleable__control:checked~label.sk-toggleable__label-arrow:before {content: \"▾\";}#sk-container-id-1 div.sk-estimator input.sk-toggleable__control:checked~label.sk-toggleable__label {background-color: #d4ebff;}#sk-container-id-1 div.sk-label input.sk-toggleable__control:checked~label.sk-toggleable__label {background-color: #d4ebff;}#sk-container-id-1 input.sk-hidden--visually {border: 0;clip: rect(1px 1px 1px 1px);clip: rect(1px, 1px, 1px, 1px);height: 1px;margin: -1px;overflow: hidden;padding: 0;position: absolute;width: 1px;}#sk-container-id-1 div.sk-estimator {font-family: monospace;background-color: #f0f8ff;border: 1px dotted black;border-radius: 0.25em;box-sizing: border-box;margin-bottom: 0.5em;}#sk-container-id-1 div.sk-estimator:hover {background-color: #d4ebff;}#sk-container-id-1 div.sk-parallel-item::after {content: \"\";width: 100%;border-bottom: 1px solid gray;flex-grow: 1;}#sk-container-id-1 div.sk-label:hover label.sk-toggleable__label {background-color: #d4ebff;}#sk-container-id-1 div.sk-serial::before {content: \"\";position: absolute;border-left: 1px solid gray;box-sizing: border-box;top: 0;bottom: 0;left: 50%;z-index: 0;}#sk-container-id-1 div.sk-serial {display: flex;flex-direction: column;align-items: center;background-color: white;padding-right: 0.2em;padding-left: 0.2em;position: relative;}#sk-container-id-1 div.sk-item {position: relative;z-index: 1;}#sk-container-id-1 div.sk-parallel {display: flex;align-items: stretch;justify-content: center;background-color: white;position: relative;}#sk-container-id-1 div.sk-item::before, #sk-container-id-1 div.sk-parallel-item::before {content: \"\";position: absolute;border-left: 1px solid gray;box-sizing: border-box;top: 0;bottom: 0;left: 50%;z-index: -1;}#sk-container-id-1 div.sk-parallel-item {display: flex;flex-direction: column;z-index: 1;position: relative;background-color: white;}#sk-container-id-1 div.sk-parallel-item:first-child::after {align-self: flex-end;width: 50%;}#sk-container-id-1 div.sk-parallel-item:last-child::after {align-self: flex-start;width: 50%;}#sk-container-id-1 div.sk-parallel-item:only-child::after {width: 0;}#sk-container-id-1 div.sk-dashed-wrapped {border: 1px dashed gray;margin: 0 0.4em 0.5em 0.4em;box-sizing: border-box;padding-bottom: 0.4em;background-color: white;}#sk-container-id-1 div.sk-label label {font-family: monospace;font-weight: bold;display: inline-block;line-height: 1.2em;}#sk-container-id-1 div.sk-label-container {text-align: center;}#sk-container-id-1 div.sk-container {/* jupyter's `normalize.less` sets `[hidden] { display: none; }` but bootstrap.min.css set `[hidden] { display: none !important; }` so we also need the `!important` here to be able to override the default hidden behavior on the sphinx rendered scikit-learn.org. See: https://github.com/scikit-learn/scikit-learn/issues/21755 */display: inline-block !important;position: relative;}#sk-container-id-1 div.sk-text-repr-fallback {display: none;}</style><div id=\"sk-container-id-1\" class=\"sk-top-container\"><div class=\"sk-text-repr-fallback\"><pre>Pipeline(steps=[(&#x27;input processing&#x27;,\n",
              "                 ColumnTransformer(transformers=[(&#x27;select necessary feature&#x27;,\n",
              "                                                  &#x27;passthrough&#x27;,\n",
              "                                                  [&#x27;checked_delivery_detail&#x27;,\n",
              "                                                   &#x27;sign_in&#x27;,\n",
              "                                                   &#x27;saw_checkout&#x27;])])),\n",
              "                (&#x27;Decision Tree Model&#x27;,\n",
              "                 DecisionTreeClassifier(max_depth=5, min_samples_split=8))])</pre><b>In a Jupyter environment, please rerun this cell to show the HTML representation or trust the notebook. <br />On GitHub, the HTML representation is unable to render, please try loading this page with nbviewer.org.</b></div><div class=\"sk-container\" hidden><div class=\"sk-item sk-dashed-wrapped\"><div class=\"sk-label-container\"><div class=\"sk-label sk-toggleable\"><input class=\"sk-toggleable__control sk-hidden--visually\" id=\"sk-estimator-id-1\" type=\"checkbox\" ><label for=\"sk-estimator-id-1\" class=\"sk-toggleable__label sk-toggleable__label-arrow\">Pipeline</label><div class=\"sk-toggleable__content\"><pre>Pipeline(steps=[(&#x27;input processing&#x27;,\n",
              "                 ColumnTransformer(transformers=[(&#x27;select necessary feature&#x27;,\n",
              "                                                  &#x27;passthrough&#x27;,\n",
              "                                                  [&#x27;checked_delivery_detail&#x27;,\n",
              "                                                   &#x27;sign_in&#x27;,\n",
              "                                                   &#x27;saw_checkout&#x27;])])),\n",
              "                (&#x27;Decision Tree Model&#x27;,\n",
              "                 DecisionTreeClassifier(max_depth=5, min_samples_split=8))])</pre></div></div></div><div class=\"sk-serial\"><div class=\"sk-item sk-dashed-wrapped\"><div class=\"sk-label-container\"><div class=\"sk-label sk-toggleable\"><input class=\"sk-toggleable__control sk-hidden--visually\" id=\"sk-estimator-id-2\" type=\"checkbox\" ><label for=\"sk-estimator-id-2\" class=\"sk-toggleable__label sk-toggleable__label-arrow\">input processing: ColumnTransformer</label><div class=\"sk-toggleable__content\"><pre>ColumnTransformer(transformers=[(&#x27;select necessary feature&#x27;, &#x27;passthrough&#x27;,\n",
              "                                 [&#x27;checked_delivery_detail&#x27;, &#x27;sign_in&#x27;,\n",
              "                                  &#x27;saw_checkout&#x27;])])</pre></div></div></div><div class=\"sk-parallel\"><div class=\"sk-parallel-item\"><div class=\"sk-item\"><div class=\"sk-label-container\"><div class=\"sk-label sk-toggleable\"><input class=\"sk-toggleable__control sk-hidden--visually\" id=\"sk-estimator-id-3\" type=\"checkbox\" ><label for=\"sk-estimator-id-3\" class=\"sk-toggleable__label sk-toggleable__label-arrow\">select necessary feature</label><div class=\"sk-toggleable__content\"><pre>[&#x27;checked_delivery_detail&#x27;, &#x27;sign_in&#x27;, &#x27;saw_checkout&#x27;]</pre></div></div></div><div class=\"sk-serial\"><div class=\"sk-item\"><div class=\"sk-estimator sk-toggleable\"><input class=\"sk-toggleable__control sk-hidden--visually\" id=\"sk-estimator-id-4\" type=\"checkbox\" ><label for=\"sk-estimator-id-4\" class=\"sk-toggleable__label sk-toggleable__label-arrow\">passthrough</label><div class=\"sk-toggleable__content\"><pre>passthrough</pre></div></div></div></div></div></div></div></div><div class=\"sk-item\"><div class=\"sk-estimator sk-toggleable\"><input class=\"sk-toggleable__control sk-hidden--visually\" id=\"sk-estimator-id-5\" type=\"checkbox\" ><label for=\"sk-estimator-id-5\" class=\"sk-toggleable__label sk-toggleable__label-arrow\">DecisionTreeClassifier</label><div class=\"sk-toggleable__content\"><pre>DecisionTreeClassifier(max_depth=5, min_samples_split=8)</pre></div></div></div></div></div></div></div>"
            ]
          },
          "metadata": {},
          "execution_count": 19
        }
      ]
    },
    {
      "cell_type": "markdown",
      "source": [
        "# VIII. MODEL EVALUATION"
      ],
      "metadata": {
        "id": "4qMd7-NSRSJA"
      }
    },
    {
      "cell_type": "markdown",
      "source": [
        "1. Accuracy : Accuracy measure the total correct prediction divide by the total number of predictions a model make. Accuracy can be misleading in imbalanced dataset. So its only viable on when the dataset is balanced\n",
        "\n",
        "2. Precision : a metric that measures how often a model correctly predicts the positive class. It's used if we're looking to minimize False Positive to be as low as possible. Example of minimizing false positive is, when you dont want a model to misclassify a non employee as employee that can sneak inside a private building\n",
        "\n",
        "3. Recall :  a metric that measures how often a model correctly identifies positive instances (True Positive) from all the actual positive samples in the dataset. It's used if we're looking to minimize False Negative to be as low as possible. Example of minimizing false negative is, when you dont want the model to falsely identify someone as healty but he/she actually carry a disease.\n",
        "\n",
        "4. F1 Score : harmonic mean of precision and recall. The metric is useful if we were looking to minimize false positive and false negative at the same time.\n",
        "\n",
        "* Accuracy, Precision, Recall, and F1 Score have scale : 0 - 1. The higher the value, the better."
      ],
      "metadata": {
        "id": "zG8o8sBT3Myt"
      }
    },
    {
      "cell_type": "markdown",
      "source": [
        "### < Non Tuned Model Evaluation >"
      ],
      "metadata": {
        "id": "W-pFYVHKGg5z"
      }
    },
    {
      "cell_type": "code",
      "source": [
        "model_dtree = DecisionTreeClassifier()\n",
        "model_dtree.fit(X_train, Y_train)"
      ],
      "metadata": {
        "id": "i-15jmaJG8E8"
      },
      "execution_count": null,
      "outputs": []
    },
    {
      "cell_type": "code",
      "source": [
        "Y_train_pred = model_dtree_tuned.predict(X_train)\n",
        "Y_test_pred = model_dtree_tuned.predict(X_test)\n",
        "\n",
        "print('Training Report for Decision Tree Model')\n",
        "print(classification_report(Y_train, Y_train_pred))\n",
        "print('------------------------------------------------------')\n",
        "\n",
        "print('Testing Report for Decision Tree Model')\n",
        "print(classification_report(Y_test, Y_test_pred))"
      ],
      "metadata": {
        "id": "NRjlpyiYX0Yi"
      },
      "execution_count": null,
      "outputs": []
    },
    {
      "cell_type": "code",
      "source": [
        "# ROC/AUC of non tuned model"
      ],
      "metadata": {
        "id": "6xfXZCfEX6Wg"
      },
      "execution_count": null,
      "outputs": []
    },
    {
      "cell_type": "markdown",
      "source": [
        "### < Tuned Model Evaluation >"
      ],
      "metadata": {
        "id": "5AOwxdHxG3FM"
      }
    },
    {
      "cell_type": "code",
      "source": [
        "Y_train_pred = model_dtree_tuned.predict(X_train)\n",
        "Y_test_pred = model_dtree_tuned.predict(X_test)\n",
        "\n",
        "print('Training Report for Decision Tree Model')\n",
        "print(classification_report(Y_train, Y_train_pred))\n",
        "print('------------------------------------------------------')\n",
        "\n",
        "print('Testing Report for Decision Tree Model')\n",
        "print(classification_report(Y_test, Y_test_pred))"
      ],
      "metadata": {
        "colab": {
          "base_uri": "https://localhost:8080/"
        },
        "id": "eAij4dVsyT7n",
        "outputId": "d3b15c10-b406-4fc0-eef0-0d7e31a7618e"
      },
      "execution_count": null,
      "outputs": [
        {
          "output_type": "stream",
          "name": "stdout",
          "text": [
            "Training Report for Decision Tree Model\n",
            "              precision    recall  f1-score   support\n",
            "\n",
            "           0       1.00      0.99      1.00    349045\n",
            "           1       0.86      0.99      0.92     15275\n",
            "\n",
            "    accuracy                           0.99    364320\n",
            "   macro avg       0.93      0.99      0.96    364320\n",
            "weighted avg       0.99      0.99      0.99    364320\n",
            "\n",
            "------------------------------------------------------\n",
            "Testing Report for Decision Tree Model\n",
            "              precision    recall  f1-score   support\n",
            "\n",
            "           0       1.00      0.99      1.00     87263\n",
            "           1       0.86      0.99      0.92      3818\n",
            "\n",
            "    accuracy                           0.99     91081\n",
            "   macro avg       0.93      0.99      0.96     91081\n",
            "weighted avg       0.99      0.99      0.99     91081\n",
            "\n"
          ]
        }
      ]
    },
    {
      "cell_type": "code",
      "source": [
        "Y_test_pred = model_dtree_tuned.predict(X_test)\n",
        "cm = confusion_matrix(Y_test, Y_test_pred)\n",
        "disp = ConfusionMatrixDisplay(confusion_matrix=cm, display_labels=['no', 'yes'])\n",
        "disp.plot(cmap='GnBu')#plt.cm.Blues\n",
        "plt.show()"
      ],
      "metadata": {
        "colab": {
          "base_uri": "https://localhost:8080/",
          "height": 449
        },
        "id": "0UGJQ1WQ2xyQ",
        "outputId": "12ca0ae7-3a19-45a2-b34b-7bbdbace2b8b"
      },
      "execution_count": null,
      "outputs": [
        {
          "output_type": "display_data",
          "data": {
            "text/plain": [
              "<Figure size 640x480 with 2 Axes>"
            ],
            "image/png": "[encoded data removed]"
          },
          "metadata": {}
        }
      ]
    },
    {
      "cell_type": "markdown",
      "source": [
        "ROC AUC Score"
      ],
      "metadata": {
        "id": "fj1cQ7835QVG"
      }
    },
    {
      "cell_type": "code",
      "source": [],
      "metadata": {
        "id": "tbu0o3335SJ8"
      },
      "execution_count": null,
      "outputs": []
    },
    {
      "cell_type": "markdown",
      "source": [
        "### < Evaluating Tuned Model on oversampled data >"
      ],
      "metadata": {
        "id": "RKNN47ZYEWmc"
      }
    },
    {
      "cell_type": "code",
      "source": [
        "model_dtree_tuned.fit(X_train_oversampled, Y_train_oversampled)"
      ],
      "metadata": {
        "colab": {
          "base_uri": "https://localhost:8080/",
          "height": 193
        },
        "id": "t9QrvGl_tJCS",
        "outputId": "b156b201-fb3e-41ed-d198-b750630a75b1"
      },
      "execution_count": null,
      "outputs": [
        {
          "output_type": "execute_result",
          "data": {
            "text/plain": [
              "Pipeline(steps=[('input processing',\n",
              "                 ColumnTransformer(transformers=[('select necessary feature',\n",
              "                                                  'passthrough',\n",
              "                                                  ['checked_delivery_detail',\n",
              "                                                   'sign_in',\n",
              "                                                   'saw_checkout'])])),\n",
              "                ('Decision Tree Model',\n",
              "                 DecisionTreeClassifier(max_depth=5, min_samples_split=8))])"
            ],
            "text/html": [
              "<style>#sk-container-id-2 {color: black;background-color: white;}#sk-container-id-2 pre{padding: 0;}#sk-container-id-2 div.sk-toggleable {background-color: white;}#sk-container-id-2 label.sk-toggleable__label {cursor: pointer;display: block;width: 100%;margin-bottom: 0;padding: 0.3em;box-sizing: border-box;text-align: center;}#sk-container-id-2 label.sk-toggleable__label-arrow:before {content: \"▸\";float: left;margin-right: 0.25em;color: #696969;}#sk-container-id-2 label.sk-toggleable__label-arrow:hover:before {color: black;}#sk-container-id-2 div.sk-estimator:hover label.sk-toggleable__label-arrow:before {color: black;}#sk-container-id-2 div.sk-toggleable__content {max-height: 0;max-width: 0;overflow: hidden;text-align: left;background-color: #f0f8ff;}#sk-container-id-2 div.sk-toggleable__content pre {margin: 0.2em;color: black;border-radius: 0.25em;background-color: #f0f8ff;}#sk-container-id-2 input.sk-toggleable__control:checked~div.sk-toggleable__content {max-height: 200px;max-width: 100%;overflow: auto;}#sk-container-id-2 input.sk-toggleable__control:checked~label.sk-toggleable__label-arrow:before {content: \"▾\";}#sk-container-id-2 div.sk-estimator input.sk-toggleable__control:checked~label.sk-toggleable__label {background-color: #d4ebff;}#sk-container-id-2 div.sk-label input.sk-toggleable__control:checked~label.sk-toggleable__label {background-color: #d4ebff;}#sk-container-id-2 input.sk-hidden--visually {border: 0;clip: rect(1px 1px 1px 1px);clip: rect(1px, 1px, 1px, 1px);height: 1px;margin: -1px;overflow: hidden;padding: 0;position: absolute;width: 1px;}#sk-container-id-2 div.sk-estimator {font-family: monospace;background-color: #f0f8ff;border: 1px dotted black;border-radius: 0.25em;box-sizing: border-box;margin-bottom: 0.5em;}#sk-container-id-2 div.sk-estimator:hover {background-color: #d4ebff;}#sk-container-id-2 div.sk-parallel-item::after {content: \"\";width: 100%;border-bottom: 1px solid gray;flex-grow: 1;}#sk-container-id-2 div.sk-label:hover label.sk-toggleable__label {background-color: #d4ebff;}#sk-container-id-2 div.sk-serial::before {content: \"\";position: absolute;border-left: 1px solid gray;box-sizing: border-box;top: 0;bottom: 0;left: 50%;z-index: 0;}#sk-container-id-2 div.sk-serial {display: flex;flex-direction: column;align-items: center;background-color: white;padding-right: 0.2em;padding-left: 0.2em;position: relative;}#sk-container-id-2 div.sk-item {position: relative;z-index: 1;}#sk-container-id-2 div.sk-parallel {display: flex;align-items: stretch;justify-content: center;background-color: white;position: relative;}#sk-container-id-2 div.sk-item::before, #sk-container-id-2 div.sk-parallel-item::before {content: \"\";position: absolute;border-left: 1px solid gray;box-sizing: border-box;top: 0;bottom: 0;left: 50%;z-index: -1;}#sk-container-id-2 div.sk-parallel-item {display: flex;flex-direction: column;z-index: 1;position: relative;background-color: white;}#sk-container-id-2 div.sk-parallel-item:first-child::after {align-self: flex-end;width: 50%;}#sk-container-id-2 div.sk-parallel-item:last-child::after {align-self: flex-start;width: 50%;}#sk-container-id-2 div.sk-parallel-item:only-child::after {width: 0;}#sk-container-id-2 div.sk-dashed-wrapped {border: 1px dashed gray;margin: 0 0.4em 0.5em 0.4em;box-sizing: border-box;padding-bottom: 0.4em;background-color: white;}#sk-container-id-2 div.sk-label label {font-family: monospace;font-weight: bold;display: inline-block;line-height: 1.2em;}#sk-container-id-2 div.sk-label-container {text-align: center;}#sk-container-id-2 div.sk-container {/* jupyter's `normalize.less` sets `[hidden] { display: none; }` but bootstrap.min.css set `[hidden] { display: none !important; }` so we also need the `!important` here to be able to override the default hidden behavior on the sphinx rendered scikit-learn.org. See: https://github.com/scikit-learn/scikit-learn/issues/21755 */display: inline-block !important;position: relative;}#sk-container-id-2 div.sk-text-repr-fallback {display: none;}</style><div id=\"sk-container-id-2\" class=\"sk-top-container\"><div class=\"sk-text-repr-fallback\"><pre>Pipeline(steps=[(&#x27;input processing&#x27;,\n",
              "                 ColumnTransformer(transformers=[(&#x27;select necessary feature&#x27;,\n",
              "                                                  &#x27;passthrough&#x27;,\n",
              "                                                  [&#x27;checked_delivery_detail&#x27;,\n",
              "                                                   &#x27;sign_in&#x27;,\n",
              "                                                   &#x27;saw_checkout&#x27;])])),\n",
              "                (&#x27;Decision Tree Model&#x27;,\n",
              "                 DecisionTreeClassifier(max_depth=5, min_samples_split=8))])</pre><b>In a Jupyter environment, please rerun this cell to show the HTML representation or trust the notebook. <br />On GitHub, the HTML representation is unable to render, please try loading this page with nbviewer.org.</b></div><div class=\"sk-container\" hidden><div class=\"sk-item sk-dashed-wrapped\"><div class=\"sk-label-container\"><div class=\"sk-label sk-toggleable\"><input class=\"sk-toggleable__control sk-hidden--visually\" id=\"sk-estimator-id-6\" type=\"checkbox\" ><label for=\"sk-estimator-id-6\" class=\"sk-toggleable__label sk-toggleable__label-arrow\">Pipeline</label><div class=\"sk-toggleable__content\"><pre>Pipeline(steps=[(&#x27;input processing&#x27;,\n",
              "                 ColumnTransformer(transformers=[(&#x27;select necessary feature&#x27;,\n",
              "                                                  &#x27;passthrough&#x27;,\n",
              "                                                  [&#x27;checked_delivery_detail&#x27;,\n",
              "                                                   &#x27;sign_in&#x27;,\n",
              "                                                   &#x27;saw_checkout&#x27;])])),\n",
              "                (&#x27;Decision Tree Model&#x27;,\n",
              "                 DecisionTreeClassifier(max_depth=5, min_samples_split=8))])</pre></div></div></div><div class=\"sk-serial\"><div class=\"sk-item sk-dashed-wrapped\"><div class=\"sk-label-container\"><div class=\"sk-label sk-toggleable\"><input class=\"sk-toggleable__control sk-hidden--visually\" id=\"sk-estimator-id-7\" type=\"checkbox\" ><label for=\"sk-estimator-id-7\" class=\"sk-toggleable__label sk-toggleable__label-arrow\">input processing: ColumnTransformer</label><div class=\"sk-toggleable__content\"><pre>ColumnTransformer(transformers=[(&#x27;select necessary feature&#x27;, &#x27;passthrough&#x27;,\n",
              "                                 [&#x27;checked_delivery_detail&#x27;, &#x27;sign_in&#x27;,\n",
              "                                  &#x27;saw_checkout&#x27;])])</pre></div></div></div><div class=\"sk-parallel\"><div class=\"sk-parallel-item\"><div class=\"sk-item\"><div class=\"sk-label-container\"><div class=\"sk-label sk-toggleable\"><input class=\"sk-toggleable__control sk-hidden--visually\" id=\"sk-estimator-id-8\" type=\"checkbox\" ><label for=\"sk-estimator-id-8\" class=\"sk-toggleable__label sk-toggleable__label-arrow\">select necessary feature</label><div class=\"sk-toggleable__content\"><pre>[&#x27;checked_delivery_detail&#x27;, &#x27;sign_in&#x27;, &#x27;saw_checkout&#x27;]</pre></div></div></div><div class=\"sk-serial\"><div class=\"sk-item\"><div class=\"sk-estimator sk-toggleable\"><input class=\"sk-toggleable__control sk-hidden--visually\" id=\"sk-estimator-id-9\" type=\"checkbox\" ><label for=\"sk-estimator-id-9\" class=\"sk-toggleable__label sk-toggleable__label-arrow\">passthrough</label><div class=\"sk-toggleable__content\"><pre>passthrough</pre></div></div></div></div></div></div></div></div><div class=\"sk-item\"><div class=\"sk-estimator sk-toggleable\"><input class=\"sk-toggleable__control sk-hidden--visually\" id=\"sk-estimator-id-10\" type=\"checkbox\" ><label for=\"sk-estimator-id-10\" class=\"sk-toggleable__label sk-toggleable__label-arrow\">DecisionTreeClassifier</label><div class=\"sk-toggleable__content\"><pre>DecisionTreeClassifier(max_depth=5, min_samples_split=8)</pre></div></div></div></div></div></div></div>"
            ]
          },
          "metadata": {},
          "execution_count": 28
        }
      ]
    },
    {
      "cell_type": "code",
      "source": [
        "Y_train_pred = model_dtree_tuned.predict(X_train_oversampled)\n",
        "Y_test_pred = model_dtree_tuned.predict(X_test)\n",
        "\n",
        "print('Training Report for Decision Tree Model')\n",
        "print(classification_report(Y_train_oversampled, Y_train_pred))\n",
        "print('------------------------------------------------------')\n",
        "\n",
        "print('Testing Report for Decision Tree Model')\n",
        "print(classification_report(Y_test, Y_test_pred))"
      ],
      "metadata": {
        "colab": {
          "base_uri": "https://localhost:8080/"
        },
        "id": "jaEWL4KNsrhc",
        "outputId": "df8c49bb-edfa-4f75-cca8-dab8bd9a2b99"
      },
      "execution_count": null,
      "outputs": [
        {
          "output_type": "stream",
          "name": "stdout",
          "text": [
            "Training Report for Decision Tree Model\n",
            "              precision    recall  f1-score   support\n",
            "\n",
            "           0       0.99      0.99      0.99    349045\n",
            "           1       0.99      0.99      0.99    349045\n",
            "\n",
            "    accuracy                           0.99    698090\n",
            "   macro avg       0.99      0.99      0.99    698090\n",
            "weighted avg       0.99      0.99      0.99    698090\n",
            "\n",
            "------------------------------------------------------\n",
            "Testing Report for Decision Tree Model\n",
            "              precision    recall  f1-score   support\n",
            "\n",
            "           0       1.00      0.99      1.00     87263\n",
            "           1       0.85      0.99      0.91      3818\n",
            "\n",
            "    accuracy                           0.99     91081\n",
            "   macro avg       0.92      0.99      0.95     91081\n",
            "weighted avg       0.99      0.99      0.99     91081\n",
            "\n"
          ]
        }
      ]
    },
    {
      "cell_type": "code",
      "source": [
        "Y_test_pred = model_dtree_tuned.predict(X_test)\n",
        "cm = confusion_matrix(Y_test, Y_test_pred)\n",
        "disp = ConfusionMatrixDisplay(confusion_matrix=cm, display_labels=['no', 'yes'])\n",
        "disp.plot(cmap='GnBu')#plt.cm.Blues\n",
        "plt.show()"
      ],
      "metadata": {
        "id": "7ywYCoBaYDCV"
      },
      "execution_count": null,
      "outputs": []
    },
    {
      "cell_type": "code",
      "source": [
        "# ROC/AUC Score"
      ],
      "metadata": {
        "id": "A0woZCD-YKjy"
      },
      "execution_count": null,
      "outputs": []
    },
    {
      "cell_type": "markdown",
      "source": [
        "### < Overall Analysis >\n",
        "\n"
      ],
      "metadata": {
        "id": "T1FcDZXF43gI"
      }
    },
    {
      "cell_type": "markdown",
      "source": [
        "1. the evaluation from different metrics shows\n",
        "\n",
        "2. the strength and weakness of model in this case it still not achieve ideal precision\n",
        "\n",
        "3. performing oversampling add\n",
        "\n",
        "4. some noteworthy insight is\n",
        "\n",
        "5. for business consideration the author suggest that"
      ],
      "metadata": {
        "id": "AwoP_sCq5qmM"
      }
    },
    {
      "cell_type": "markdown",
      "source": [
        "# IV. MODEL SAVING"
      ],
      "metadata": {
        "id": "bqe--lcy48fk"
      }
    },
    {
      "cell_type": "code",
      "source": [
        "# saving the model, and column transformer\n",
        "with open('model_dtree_tuned.pkl', 'wb') as file_1:\n",
        "  joblib.dump(model_dtree_tuned, file_1)\n",
        "\n",
        "with open('model_transformer.pkl', 'wb') as file_2:\n",
        "  joblib.dump(input_transformer, file_2)"
      ],
      "metadata": {
        "id": "7RMeVY2OHExH"
      },
      "execution_count": null,
      "outputs": []
    },
    {
      "cell_type": "markdown",
      "source": [
        "# X. MODEL INFERENCE"
      ],
      "metadata": {
        "id": "vCTM49kR5DLR"
      }
    },
    {
      "cell_type": "code",
      "source": [
        "# loading model\n",
        "with open('model_dtree_tuned.pkl', 'rb') as file_1:\n",
        "  model = joblib.load(file_1)\n",
        "\n",
        "with open('model_transformer.pkl', 'rb') as file_2:\n",
        "  transformer = joblib.load(file_2)"
      ],
      "metadata": {
        "id": "uyxvAaWUIJQs"
      },
      "execution_count": null,
      "outputs": []
    },
    {
      "cell_type": "code",
      "source": [
        "test_dict = df.iloc[2292:2293].to_dict('records')\n",
        "test_dict"
      ],
      "metadata": {
        "id": "jheAii-gIQ9e"
      },
      "execution_count": null,
      "outputs": []
    },
    {
      "cell_type": "code",
      "source": [
        "# making dummmy data for inference\n",
        "test_data = pd.DataFrame({\n",
        "  'UserID': ['4170-6d363117-4170-4506-8bc3-205167'],\n",
        "  'basket_icon_click': [0],\n",
        "  'basket_add_list': [0],\n",
        "  'basket_add_detail': [0],\n",
        "  'sort_by': [0],\n",
        "  'image_picker': [0],\n",
        "  'account_page_click': [0],\n",
        "  'promo_banner_click': [0],\n",
        "  'detail_wishlist_add': [0],\n",
        "  'list_size_dropdown': [0],\n",
        "  'closed_minibasket_click': [0],\n",
        "  'checked_delivery_detail': [0],\n",
        "  'checked_returns_detail': [0],\n",
        "  'sign_in': [0],\n",
        "  'saw_checkout': [0],\n",
        "  'saw_sizecharts': [0],\n",
        "  'saw_delivery': [0],\n",
        "  'saw_account_upgrade': [0],\n",
        "  'saw_homepage': [1],\n",
        "  'device_mobile': [1],\n",
        "  'device_computer': [0],\n",
        "  'device_tablet': [0],\n",
        "  'returning_user': [0],\n",
        "  'loc_uk': [1],\n",
        "  'ordered': [0]\n",
        "  }\n",
        ")"
      ],
      "metadata": {
        "id": "Js-_i-YxIVnP"
      },
      "execution_count": null,
      "outputs": []
    },
    {
      "cell_type": "code",
      "source": [
        "model.predict(test_data)"
      ],
      "metadata": {
        "colab": {
          "base_uri": "https://localhost:8080/"
        },
        "id": "rJ3KUN3wIoQN",
        "outputId": "4fbbc7c4-b8ac-45d0-abd9-625b66aff234"
      },
      "execution_count": null,
      "outputs": [
        {
          "output_type": "execute_result",
          "data": {
            "text/plain": [
              "array([0])"
            ]
          },
          "metadata": {},
          "execution_count": 26
        }
      ]
    },
    {
      "cell_type": "markdown",
      "source": [
        "# XI. CONCLUSION"
      ],
      "metadata": {
        "id": "2viYHAoA5Get"
      }
    },
    {
      "cell_type": "markdown",
      "source": [
        "1. the purpose of this project\n",
        "\n",
        "2. from model evaluation its shown that\n",
        "\n",
        "3. for business consideration\n",
        "\n",
        "4. for futher improvement the author suggest\n"
      ],
      "metadata": {
        "id": "HtfrvbDXNsDq"
      }
    }
  ]
}