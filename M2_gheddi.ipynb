{
  "nbformat": 4,
  "nbformat_minor": 0,
  "metadata": {
    "colab": {
      "provenance": []
    },
    "kernelspec": {
      "name": "python3",
      "display_name": "Python 3"
    },
    "language_info": {
      "name": "python"
    }
  },
  "cells": [
    {
      "cell_type": "markdown",
      "source": [
        "https://github.com/FTDS-assignment-bay/p1-ftds022-rmt-m2-polymath97"
      ],
      "metadata": {
        "id": "E8y1FHkghQ3i"
      }
    },
    {
      "cell_type": "markdown",
      "source": [
        "# I. INTRODUCTION\n",
        "\n",
        "Name : Gheddi\n",
        "\n",
        "Batch : RMT-022\n",
        "\n",
        "Objective : This project aims to predict the purchase propensity of a customer in an online store. The purpose of the project is offer business the advantage of knowing when their customer are highly likely to order from the online store, so business can develop a profitable strategy on top of this. To achieve this purpose, 5 model will be compared and the best model will be evaluated using precision metric and auc score."
      ],
      "metadata": {
        "id": "BFlVcdlbVUeR"
      }
    },
    {
      "cell_type": "markdown",
      "source": [
        "# II. IMPORT LIBRARIES"
      ],
      "metadata": {
        "id": "YNgIox2PCW88"
      }
    },
    {
      "cell_type": "code",
      "source": [
        "# essentials\n",
        "import pandas as pd\n",
        "import seaborn as sns\n",
        "import numpy as np\n",
        "import matplotlib.pyplot as plt\n",
        "import plotly.express as px\n",
        "\n",
        "# preprocessing\n",
        "from sklearn.model_selection import train_test_split\n",
        "from sklearn.compose import ColumnTransformer\n",
        "from sklearn.preprocessing import RobustScaler\n",
        "from sklearn.pipeline import Pipeline\n",
        "from imblearn.over_sampling import SMOTE\n",
        "from sklearn.decomposition import PCA, KernelPCA\n",
        "from statsmodels.stats.outliers_influence import variance_inflation_factor\n",
        "from imblearn.over_sampling import SMOTE\n",
        "\n",
        "# model\n",
        "from sklearn.svm import SVC\n",
        "from sklearn.neighbors import KNeighborsClassifier\n",
        "from sklearn.tree import DecisionTreeClassifier\n",
        "from xgboost import XGBClassifier\n",
        "from sklearn.ensemble import RandomForestClassifier\n",
        "\n",
        "\n",
        "# Hyperparameter Tuning\n",
        "from sklearn.model_selection import GridSearchCV\n",
        "\n",
        "# evaluation\n",
        "from sklearn.metrics import classification_report, f1_score, ConfusionMatrixDisplay, confusion_matrix\n",
        "from sklearn.model_selection import KFold, cross_val_score\n",
        "\n",
        "# model saving\n",
        "import joblib\n",
        "import json\n",
        "\n",
        "# Colab packages\n",
        "from google.colab import auth\n",
        "from google.cloud import bigquery\n",
        "from google.colab import drive\n",
        "drive.mount('/content/drive')\n",
        "\n",
        "import warnings\n",
        "warnings.filterwarnings('ignore')"
      ],
      "metadata": {
        "colab": {
          "base_uri": "https://localhost:8080/"
        },
        "id": "Um7ord6RSTcR",
        "outputId": "bd0b86f3-e539-4673-a266-0d58ed4bb9f9"
      },
      "execution_count": 1,
      "outputs": [
        {
          "output_type": "stream",
          "name": "stdout",
          "text": [
            "Drive already mounted at /content/drive; to attempt to forcibly remount, call drive.mount(\"/content/drive\", force_remount=True).\n"
          ]
        }
      ]
    },
    {
      "cell_type": "markdown",
      "source": [
        "## < Conceptual Problem >\n",
        "\n"
      ],
      "metadata": {
        "id": "oV-n7g2SHdZ1"
      }
    },
    {
      "cell_type": "markdown",
      "source": [
        "1. **bagging is an ensemble method where it has multiple base classifier learning from different subset of data and the final prediction of bagging algorithm is the average or aggregated prediction of the different base classifier.**"
      ],
      "metadata": {
        "id": "v4IQMRotYb1X"
      }
    },
    {
      "cell_type": "markdown",
      "source": [
        "2. **Random forest which is a type of bagging algorithm is where the base learners learn independently from each other in parallel manner, while on the boosting algorithm the base learner learn in sequential like manner where newer base learner is influenced by the performance of previous base learner.**"
      ],
      "metadata": {
        "id": "AiLwVDbhbJA6"
      }
    },
    {
      "cell_type": "markdown",
      "source": [
        "3. **Cross-Validation is a tool to evaluate machine learning models by training a model on different subsets of the input data and measure if the mmdel generalize well on unseen data.**"
      ],
      "metadata": {
        "id": "cUPqJVTjcsGU"
      }
    },
    {
      "cell_type": "markdown",
      "source": [
        "# III. DATA LOADING"
      ],
      "metadata": {
        "id": "I5irWpJlRA8_"
      }
    },
    {
      "cell_type": "code",
      "source": [
        "df_original = pd.read_csv('/content/drive/MyDrive/# Hacktiv8 Data Science/Milestone/propensity.csv')"
      ],
      "metadata": {
        "id": "u4brhIxVRWrp"
      },
      "execution_count": 2,
      "outputs": []
    },
    {
      "cell_type": "code",
      "source": [
        "df = df_original.copy()"
      ],
      "metadata": {
        "id": "zcmU3R6WUlcv"
      },
      "execution_count": 3,
      "outputs": []
    },
    {
      "cell_type": "markdown",
      "source": [
        "# IV. EXPLORATORY DATA ANALYSIS"
      ],
      "metadata": {
        "id": "ozFl4yyOTWm0"
      }
    },
    {
      "cell_type": "code",
      "source": [
        "df.info()"
      ],
      "metadata": {
        "colab": {
          "base_uri": "https://localhost:8080/"
        },
        "id": "hp1yZKBsUyv8",
        "outputId": "8481938b-7571-4c57-dcad-57d77175c47a"
      },
      "execution_count": null,
      "outputs": [
        {
          "output_type": "stream",
          "name": "stdout",
          "text": [
            "<class 'pandas.core.frame.DataFrame'>\n",
            "RangeIndex: 455401 entries, 0 to 455400\n",
            "Data columns (total 25 columns):\n",
            " #   Column                   Non-Null Count   Dtype \n",
            "---  ------                   --------------   ----- \n",
            " 0   UserID                   455401 non-null  object\n",
            " 1   basket_icon_click        455401 non-null  int64 \n",
            " 2   basket_add_list          455401 non-null  int64 \n",
            " 3   basket_add_detail        455401 non-null  int64 \n",
            " 4   sort_by                  455401 non-null  int64 \n",
            " 5   image_picker             455401 non-null  int64 \n",
            " 6   account_page_click       455401 non-null  int64 \n",
            " 7   promo_banner_click       455401 non-null  int64 \n",
            " 8   detail_wishlist_add      455401 non-null  int64 \n",
            " 9   list_size_dropdown       455401 non-null  int64 \n",
            " 10  closed_minibasket_click  455401 non-null  int64 \n",
            " 11  checked_delivery_detail  455401 non-null  int64 \n",
            " 12  checked_returns_detail   455401 non-null  int64 \n",
            " 13  sign_in                  455401 non-null  int64 \n",
            " 14  saw_checkout             455401 non-null  int64 \n",
            " 15  saw_sizecharts           455401 non-null  int64 \n",
            " 16  saw_delivery             455401 non-null  int64 \n",
            " 17  saw_account_upgrade      455401 non-null  int64 \n",
            " 18  saw_homepage             455401 non-null  int64 \n",
            " 19  device_mobile            455401 non-null  int64 \n",
            " 20  device_computer          455401 non-null  int64 \n",
            " 21  device_tablet            455401 non-null  int64 \n",
            " 22  returning_user           455401 non-null  int64 \n",
            " 23  loc_uk                   455401 non-null  int64 \n",
            " 24  ordered                  455401 non-null  int64 \n",
            "dtypes: int64(24), object(1)\n",
            "memory usage: 86.9+ MB\n"
          ]
        }
      ]
    },
    {
      "cell_type": "code",
      "source": [
        "df.sample(5)"
      ],
      "metadata": {
        "colab": {
          "base_uri": "https://localhost:8080/",
          "height": 272
        },
        "id": "Ut4qBcHTU-QK",
        "outputId": "5b7dc6cb-7853-441b-8a6b-fc3a9c248272"
      },
      "execution_count": null,
      "outputs": [
        {
          "output_type": "execute_result",
          "data": {
            "text/plain": [
              "        basket_icon_click  basket_add_list  basket_add_detail  sort_by  \\\n",
              "125851                  0                0                  0        0   \n",
              "55279                   0                0                  0        0   \n",
              "101956                  0                0                  0        0   \n",
              "372647                  0                0                  0        0   \n",
              "171520                  0                0                  0        0   \n",
              "\n",
              "        image_picker  account_page_click  promo_banner_click  \\\n",
              "125851             0                   0                   0   \n",
              "55279              0                   0                   0   \n",
              "101956             0                   0                   0   \n",
              "372647             0                   0                   0   \n",
              "171520             0                   0                   0   \n",
              "\n",
              "        detail_wishlist_add  list_size_dropdown  closed_minibasket_click  ...  \\\n",
              "125851                    0                   0                        0  ...   \n",
              "55279                     0                   0                        0  ...   \n",
              "101956                    0                   0                        0  ...   \n",
              "372647                    0                   1                        0  ...   \n",
              "171520                    0                   0                        0  ...   \n",
              "\n",
              "        saw_sizecharts  saw_delivery  saw_account_upgrade  saw_homepage  \\\n",
              "125851               0             0                    0             0   \n",
              "55279                0             0                    0             1   \n",
              "101956               0             0                    0             1   \n",
              "372647               0             0                    0             0   \n",
              "171520               0             0                    0             0   \n",
              "\n",
              "        device_mobile  device_computer  device_tablet  returning_user  loc_uk  \\\n",
              "125851              1                0              0               0       1   \n",
              "55279               1                0              0               0       1   \n",
              "101956              1                0              0               0       1   \n",
              "372647              1                0              0               0       1   \n",
              "171520              0                0              1               1       1   \n",
              "\n",
              "        ordered  \n",
              "125851        0  \n",
              "55279         0  \n",
              "101956        0  \n",
              "372647        0  \n",
              "171520        0  \n",
              "\n",
              "[5 rows x 24 columns]"
            ],
            "text/html": [
              "\n",
              "  <div id=\"df-dabce481-d957-4d31-9bdc-fb0d5914554d\" class=\"colab-df-container\">\n",
              "    <div>\n",
              "<style scoped>\n",
              "    .dataframe tbody tr th:only-of-type {\n",
              "        vertical-align: middle;\n",
              "    }\n",
              "\n",
              "    .dataframe tbody tr th {\n",
              "        vertical-align: top;\n",
              "    }\n",
              "\n",
              "    .dataframe thead th {\n",
              "        text-align: right;\n",
              "    }\n",
              "</style>\n",
              "<table border=\"1\" class=\"dataframe\">\n",
              "  <thead>\n",
              "    <tr style=\"text-align: right;\">\n",
              "      <th></th>\n",
              "      <th>basket_icon_click</th>\n",
              "      <th>basket_add_list</th>\n",
              "      <th>basket_add_detail</th>\n",
              "      <th>sort_by</th>\n",
              "      <th>image_picker</th>\n",
              "      <th>account_page_click</th>\n",
              "      <th>promo_banner_click</th>\n",
              "      <th>detail_wishlist_add</th>\n",
              "      <th>list_size_dropdown</th>\n",
              "      <th>closed_minibasket_click</th>\n",
              "      <th>...</th>\n",
              "      <th>saw_sizecharts</th>\n",
              "      <th>saw_delivery</th>\n",
              "      <th>saw_account_upgrade</th>\n",
              "      <th>saw_homepage</th>\n",
              "      <th>device_mobile</th>\n",
              "      <th>device_computer</th>\n",
              "      <th>device_tablet</th>\n",
              "      <th>returning_user</th>\n",
              "      <th>loc_uk</th>\n",
              "      <th>ordered</th>\n",
              "    </tr>\n",
              "  </thead>\n",
              "  <tbody>\n",
              "    <tr>\n",
              "      <th>125851</th>\n",
              "      <td>0</td>\n",
              "      <td>0</td>\n",
              "      <td>0</td>\n",
              "      <td>0</td>\n",
              "      <td>0</td>\n",
              "      <td>0</td>\n",
              "      <td>0</td>\n",
              "      <td>0</td>\n",
              "      <td>0</td>\n",
              "      <td>0</td>\n",
              "      <td>...</td>\n",
              "      <td>0</td>\n",
              "      <td>0</td>\n",
              "      <td>0</td>\n",
              "      <td>0</td>\n",
              "      <td>1</td>\n",
              "      <td>0</td>\n",
              "      <td>0</td>\n",
              "      <td>0</td>\n",
              "      <td>1</td>\n",
              "      <td>0</td>\n",
              "    </tr>\n",
              "    <tr>\n",
              "      <th>55279</th>\n",
              "      <td>0</td>\n",
              "      <td>0</td>\n",
              "      <td>0</td>\n",
              "      <td>0</td>\n",
              "      <td>0</td>\n",
              "      <td>0</td>\n",
              "      <td>0</td>\n",
              "      <td>0</td>\n",
              "      <td>0</td>\n",
              "      <td>0</td>\n",
              "      <td>...</td>\n",
              "      <td>0</td>\n",
              "      <td>0</td>\n",
              "      <td>0</td>\n",
              "      <td>1</td>\n",
              "      <td>1</td>\n",
              "      <td>0</td>\n",
              "      <td>0</td>\n",
              "      <td>0</td>\n",
              "      <td>1</td>\n",
              "      <td>0</td>\n",
              "    </tr>\n",
              "    <tr>\n",
              "      <th>101956</th>\n",
              "      <td>0</td>\n",
              "      <td>0</td>\n",
              "      <td>0</td>\n",
              "      <td>0</td>\n",
              "      <td>0</td>\n",
              "      <td>0</td>\n",
              "      <td>0</td>\n",
              "      <td>0</td>\n",
              "      <td>0</td>\n",
              "      <td>0</td>\n",
              "      <td>...</td>\n",
              "      <td>0</td>\n",
              "      <td>0</td>\n",
              "      <td>0</td>\n",
              "      <td>1</td>\n",
              "      <td>1</td>\n",
              "      <td>0</td>\n",
              "      <td>0</td>\n",
              "      <td>0</td>\n",
              "      <td>1</td>\n",
              "      <td>0</td>\n",
              "    </tr>\n",
              "    <tr>\n",
              "      <th>372647</th>\n",
              "      <td>0</td>\n",
              "      <td>0</td>\n",
              "      <td>0</td>\n",
              "      <td>0</td>\n",
              "      <td>0</td>\n",
              "      <td>0</td>\n",
              "      <td>0</td>\n",
              "      <td>0</td>\n",
              "      <td>1</td>\n",
              "      <td>0</td>\n",
              "      <td>...</td>\n",
              "      <td>0</td>\n",
              "      <td>0</td>\n",
              "      <td>0</td>\n",
              "      <td>0</td>\n",
              "      <td>1</td>\n",
              "      <td>0</td>\n",
              "      <td>0</td>\n",
              "      <td>0</td>\n",
              "      <td>1</td>\n",
              "      <td>0</td>\n",
              "    </tr>\n",
              "    <tr>\n",
              "      <th>171520</th>\n",
              "      <td>0</td>\n",
              "      <td>0</td>\n",
              "      <td>0</td>\n",
              "      <td>0</td>\n",
              "      <td>0</td>\n",
              "      <td>0</td>\n",
              "      <td>0</td>\n",
              "      <td>0</td>\n",
              "      <td>0</td>\n",
              "      <td>0</td>\n",
              "      <td>...</td>\n",
              "      <td>0</td>\n",
              "      <td>0</td>\n",
              "      <td>0</td>\n",
              "      <td>0</td>\n",
              "      <td>0</td>\n",
              "      <td>0</td>\n",
              "      <td>1</td>\n",
              "      <td>1</td>\n",
              "      <td>1</td>\n",
              "      <td>0</td>\n",
              "    </tr>\n",
              "  </tbody>\n",
              "</table>\n",
              "<p>5 rows × 24 columns</p>\n",
              "</div>\n",
              "    <div class=\"colab-df-buttons\">\n",
              "\n",
              "  <div class=\"colab-df-container\">\n",
              "    <button class=\"colab-df-convert\" onclick=\"convertToInteractive('df-dabce481-d957-4d31-9bdc-fb0d5914554d')\"\n",
              "            title=\"Convert this dataframe to an interactive table.\"\n",
              "            style=\"display:none;\">\n",
              "\n",
              "  <svg xmlns=\"http://www.w3.org/2000/svg\" height=\"24px\" viewBox=\"0 -960 960 960\">\n",
              "    <path d=\"M120-120v-720h720v720H120Zm60-500h600v-160H180v160Zm220 220h160v-160H400v160Zm0 220h160v-160H400v160ZM180-400h160v-160H180v160Zm440 0h160v-160H620v160ZM180-180h160v-160H180v160Zm440 0h160v-160H620v160Z\"/>\n",
              "  </svg>\n",
              "    </button>\n",
              "\n",
              "  <style>\n",
              "    .colab-df-container {\n",
              "      display:flex;\n",
              "      gap: 12px;\n",
              "    }\n",
              "\n",
              "    .colab-df-convert {\n",
              "      background-color: #E8F0FE;\n",
              "      border: none;\n",
              "      border-radius: 50%;\n",
              "      cursor: pointer;\n",
              "      display: none;\n",
              "      fill: #1967D2;\n",
              "      height: 32px;\n",
              "      padding: 0 0 0 0;\n",
              "      width: 32px;\n",
              "    }\n",
              "\n",
              "    .colab-df-convert:hover {\n",
              "      background-color: #E2EBFA;\n",
              "      box-shadow: 0px 1px 2px rgba(60, 64, 67, 0.3), 0px 1px 3px 1px rgba(60, 64, 67, 0.15);\n",
              "      fill: #174EA6;\n",
              "    }\n",
              "\n",
              "    .colab-df-buttons div {\n",
              "      margin-bottom: 4px;\n",
              "    }\n",
              "\n",
              "    [theme=dark] .colab-df-convert {\n",
              "      background-color: #3B4455;\n",
              "      fill: #D2E3FC;\n",
              "    }\n",
              "\n",
              "    [theme=dark] .colab-df-convert:hover {\n",
              "      background-color: #434B5C;\n",
              "      box-shadow: 0px 1px 3px 1px rgba(0, 0, 0, 0.15);\n",
              "      filter: drop-shadow(0px 1px 2px rgba(0, 0, 0, 0.3));\n",
              "      fill: #FFFFFF;\n",
              "    }\n",
              "  </style>\n",
              "\n",
              "    <script>\n",
              "      const buttonEl =\n",
              "        document.querySelector('#df-dabce481-d957-4d31-9bdc-fb0d5914554d button.colab-df-convert');\n",
              "      buttonEl.style.display =\n",
              "        google.colab.kernel.accessAllowed ? 'block' : 'none';\n",
              "\n",
              "      async function convertToInteractive(key) {\n",
              "        const element = document.querySelector('#df-dabce481-d957-4d31-9bdc-fb0d5914554d');\n",
              "        const dataTable =\n",
              "          await google.colab.kernel.invokeFunction('convertToInteractive',\n",
              "                                                    [key], {});\n",
              "        if (!dataTable) return;\n",
              "\n",
              "        const docLinkHtml = 'Like what you see? Visit the ' +\n",
              "          '<a target=\"_blank\" href=https://colab.research.google.com/notebooks/data_table.ipynb>data table notebook</a>'\n",
              "          + ' to learn more about interactive tables.';\n",
              "        element.innerHTML = '';\n",
              "        dataTable['output_type'] = 'display_data';\n",
              "        await google.colab.output.renderOutput(dataTable, element);\n",
              "        const docLink = document.createElement('div');\n",
              "        docLink.innerHTML = docLinkHtml;\n",
              "        element.appendChild(docLink);\n",
              "      }\n",
              "    </script>\n",
              "  </div>\n",
              "\n",
              "\n",
              "<div id=\"df-db345720-976c-419a-bbff-03d01d9dadfa\">\n",
              "  <button class=\"colab-df-quickchart\" onclick=\"quickchart('df-db345720-976c-419a-bbff-03d01d9dadfa')\"\n",
              "            title=\"Suggest charts.\"\n",
              "            style=\"display:none;\">\n",
              "\n",
              "<svg xmlns=\"http://www.w3.org/2000/svg\" height=\"24px\"viewBox=\"0 0 24 24\"\n",
              "     width=\"24px\">\n",
              "    <g>\n",
              "        <path d=\"M19 3H5c-1.1 0-2 .9-2 2v14c0 1.1.9 2 2 2h14c1.1 0 2-.9 2-2V5c0-1.1-.9-2-2-2zM9 17H7v-7h2v7zm4 0h-2V7h2v10zm4 0h-2v-4h2v4z\"/>\n",
              "    </g>\n",
              "</svg>\n",
              "  </button>\n",
              "\n",
              "<style>\n",
              "  .colab-df-quickchart {\n",
              "      --bg-color: #E8F0FE;\n",
              "      --fill-color: #1967D2;\n",
              "      --hover-bg-color: #E2EBFA;\n",
              "      --hover-fill-color: #174EA6;\n",
              "      --disabled-fill-color: #AAA;\n",
              "      --disabled-bg-color: #DDD;\n",
              "  }\n",
              "\n",
              "  [theme=dark] .colab-df-quickchart {\n",
              "      --bg-color: #3B4455;\n",
              "      --fill-color: #D2E3FC;\n",
              "      --hover-bg-color: #434B5C;\n",
              "      --hover-fill-color: #FFFFFF;\n",
              "      --disabled-bg-color: #3B4455;\n",
              "      --disabled-fill-color: #666;\n",
              "  }\n",
              "\n",
              "  .colab-df-quickchart {\n",
              "    background-color: var(--bg-color);\n",
              "    border: none;\n",
              "    border-radius: 50%;\n",
              "    cursor: pointer;\n",
              "    display: none;\n",
              "    fill: var(--fill-color);\n",
              "    height: 32px;\n",
              "    padding: 0;\n",
              "    width: 32px;\n",
              "  }\n",
              "\n",
              "  .colab-df-quickchart:hover {\n",
              "    background-color: var(--hover-bg-color);\n",
              "    box-shadow: 0 1px 2px rgba(60, 64, 67, 0.3), 0 1px 3px 1px rgba(60, 64, 67, 0.15);\n",
              "    fill: var(--button-hover-fill-color);\n",
              "  }\n",
              "\n",
              "  .colab-df-quickchart-complete:disabled,\n",
              "  .colab-df-quickchart-complete:disabled:hover {\n",
              "    background-color: var(--disabled-bg-color);\n",
              "    fill: var(--disabled-fill-color);\n",
              "    box-shadow: none;\n",
              "  }\n",
              "\n",
              "  .colab-df-spinner {\n",
              "    border: 2px solid var(--fill-color);\n",
              "    border-color: transparent;\n",
              "    border-bottom-color: var(--fill-color);\n",
              "    animation:\n",
              "      spin 1s steps(1) infinite;\n",
              "  }\n",
              "\n",
              "  @keyframes spin {\n",
              "    0% {\n",
              "      border-color: transparent;\n",
              "      border-bottom-color: var(--fill-color);\n",
              "      border-left-color: var(--fill-color);\n",
              "    }\n",
              "    20% {\n",
              "      border-color: transparent;\n",
              "      border-left-color: var(--fill-color);\n",
              "      border-top-color: var(--fill-color);\n",
              "    }\n",
              "    30% {\n",
              "      border-color: transparent;\n",
              "      border-left-color: var(--fill-color);\n",
              "      border-top-color: var(--fill-color);\n",
              "      border-right-color: var(--fill-color);\n",
              "    }\n",
              "    40% {\n",
              "      border-color: transparent;\n",
              "      border-right-color: var(--fill-color);\n",
              "      border-top-color: var(--fill-color);\n",
              "    }\n",
              "    60% {\n",
              "      border-color: transparent;\n",
              "      border-right-color: var(--fill-color);\n",
              "    }\n",
              "    80% {\n",
              "      border-color: transparent;\n",
              "      border-right-color: var(--fill-color);\n",
              "      border-bottom-color: var(--fill-color);\n",
              "    }\n",
              "    90% {\n",
              "      border-color: transparent;\n",
              "      border-bottom-color: var(--fill-color);\n",
              "    }\n",
              "  }\n",
              "</style>\n",
              "\n",
              "  <script>\n",
              "    async function quickchart(key) {\n",
              "      const quickchartButtonEl =\n",
              "        document.querySelector('#' + key + ' button');\n",
              "      quickchartButtonEl.disabled = true;  // To prevent multiple clicks.\n",
              "      quickchartButtonEl.classList.add('colab-df-spinner');\n",
              "      try {\n",
              "        const charts = await google.colab.kernel.invokeFunction(\n",
              "            'suggestCharts', [key], {});\n",
              "      } catch (error) {\n",
              "        console.error('Error during call to suggestCharts:', error);\n",
              "      }\n",
              "      quickchartButtonEl.classList.remove('colab-df-spinner');\n",
              "      quickchartButtonEl.classList.add('colab-df-quickchart-complete');\n",
              "    }\n",
              "    (() => {\n",
              "      let quickchartButtonEl =\n",
              "        document.querySelector('#df-db345720-976c-419a-bbff-03d01d9dadfa button');\n",
              "      quickchartButtonEl.style.display =\n",
              "        google.colab.kernel.accessAllowed ? 'block' : 'none';\n",
              "    })();\n",
              "  </script>\n",
              "</div>\n",
              "    </div>\n",
              "  </div>\n"
            ]
          },
          "metadata": {},
          "execution_count": 11
        }
      ]
    },
    {
      "cell_type": "markdown",
      "source": [
        "1. checking duplicates"
      ],
      "metadata": {
        "id": "l0fE617cDa10"
      }
    },
    {
      "cell_type": "code",
      "source": [
        "df.duplicated().sum()"
      ],
      "metadata": {
        "colab": {
          "base_uri": "https://localhost:8080/"
        },
        "id": "PfFq62wWDeIF",
        "outputId": "4bcf1a8a-8c7b-4e3e-afe3-be198d185fad"
      },
      "execution_count": 6,
      "outputs": [
        {
          "output_type": "execute_result",
          "data": {
            "text/plain": [
              "0"
            ]
          },
          "metadata": {},
          "execution_count": 6
        }
      ]
    },
    {
      "cell_type": "markdown",
      "source": [
        "2. checking missing value"
      ],
      "metadata": {
        "id": "AtX8VwYrDj_7"
      }
    },
    {
      "cell_type": "code",
      "source": [
        "df.isna().sum()"
      ],
      "metadata": {
        "id": "muN-Sxo1DmsI"
      },
      "execution_count": null,
      "outputs": []
    },
    {
      "cell_type": "markdown",
      "source": [
        "3. descriptive statistic of the dataset"
      ],
      "metadata": {
        "id": "4q5Qm2M3DqIF"
      }
    },
    {
      "cell_type": "code",
      "source": [
        "df.describe()"
      ],
      "metadata": {
        "colab": {
          "base_uri": "https://localhost:8080/",
          "height": 374
        },
        "id": "LyQnO-rJVCRd",
        "outputId": "dcdbb24f-03bf-46ec-8bcf-17dd7437820a"
      },
      "execution_count": null,
      "outputs": [
        {
          "output_type": "execute_result",
          "data": {
            "text/plain": [
              "       basket_icon_click  basket_add_list  basket_add_detail        sort_by  \\\n",
              "count      455401.000000    455401.000000      455401.000000  455401.000000   \n",
              "mean            0.099150         0.074521           0.112916       0.036849   \n",
              "std             0.298864         0.262617           0.316490       0.188391   \n",
              "min             0.000000         0.000000           0.000000       0.000000   \n",
              "25%             0.000000         0.000000           0.000000       0.000000   \n",
              "50%             0.000000         0.000000           0.000000       0.000000   \n",
              "75%             0.000000         0.000000           0.000000       0.000000   \n",
              "max             1.000000         1.000000           1.000000       1.000000   \n",
              "\n",
              "        image_picker  account_page_click  promo_banner_click  \\\n",
              "count  455401.000000       455401.000000       455401.000000   \n",
              "mean        0.026735            0.003570            0.016208   \n",
              "std         0.161307            0.059647            0.126274   \n",
              "min         0.000000            0.000000            0.000000   \n",
              "25%         0.000000            0.000000            0.000000   \n",
              "50%         0.000000            0.000000            0.000000   \n",
              "75%         0.000000            0.000000            0.000000   \n",
              "max         1.000000            1.000000            1.000000   \n",
              "\n",
              "       detail_wishlist_add  list_size_dropdown  closed_minibasket_click  ...  \\\n",
              "count        455401.000000       455401.000000            455401.000000  ...   \n",
              "mean              0.003511            0.230362                 0.017277  ...   \n",
              "std               0.059151            0.421065                 0.130302  ...   \n",
              "min               0.000000            0.000000                 0.000000  ...   \n",
              "25%               0.000000            0.000000                 0.000000  ...   \n",
              "50%               0.000000            0.000000                 0.000000  ...   \n",
              "75%               0.000000            0.000000                 0.000000  ...   \n",
              "max               1.000000            1.000000                 1.000000  ...   \n",
              "\n",
              "       saw_sizecharts   saw_delivery  saw_account_upgrade   saw_homepage  \\\n",
              "count   455401.000000  455401.000000        455401.000000  455401.000000   \n",
              "mean         0.000389       0.005542             0.001096       0.290024   \n",
              "std          0.019711       0.074241             0.033084       0.453773   \n",
              "min          0.000000       0.000000             0.000000       0.000000   \n",
              "25%          0.000000       0.000000             0.000000       0.000000   \n",
              "50%          0.000000       0.000000             0.000000       0.000000   \n",
              "75%          0.000000       0.000000             0.000000       1.000000   \n",
              "max          1.000000       1.000000             1.000000       1.000000   \n",
              "\n",
              "       device_mobile  device_computer  device_tablet  returning_user  \\\n",
              "count  455401.000000    455401.000000  455401.000000   455401.000000   \n",
              "mean        0.680706         0.194220       0.128364        0.534915   \n",
              "std         0.466204         0.395599       0.334495        0.498780   \n",
              "min         0.000000         0.000000       0.000000        0.000000   \n",
              "25%         0.000000         0.000000       0.000000        0.000000   \n",
              "50%         1.000000         0.000000       0.000000        1.000000   \n",
              "75%         1.000000         0.000000       0.000000        1.000000   \n",
              "max         1.000000         1.000000       1.000000        1.000000   \n",
              "\n",
              "              loc_uk        ordered  \n",
              "count  455401.000000  455401.000000  \n",
              "mean        0.933224       0.041926  \n",
              "std         0.249634       0.200420  \n",
              "min         0.000000       0.000000  \n",
              "25%         1.000000       0.000000  \n",
              "50%         1.000000       0.000000  \n",
              "75%         1.000000       0.000000  \n",
              "max         1.000000       1.000000  \n",
              "\n",
              "[8 rows x 24 columns]"
            ],
            "text/html": [
              "\n",
              "  <div id=\"df-9ef297ab-6be0-4d01-9b18-2e2480205fbc\" class=\"colab-df-container\">\n",
              "    <div>\n",
              "<style scoped>\n",
              "    .dataframe tbody tr th:only-of-type {\n",
              "        vertical-align: middle;\n",
              "    }\n",
              "\n",
              "    .dataframe tbody tr th {\n",
              "        vertical-align: top;\n",
              "    }\n",
              "\n",
              "    .dataframe thead th {\n",
              "        text-align: right;\n",
              "    }\n",
              "</style>\n",
              "<table border=\"1\" class=\"dataframe\">\n",
              "  <thead>\n",
              "    <tr style=\"text-align: right;\">\n",
              "      <th></th>\n",
              "      <th>basket_icon_click</th>\n",
              "      <th>basket_add_list</th>\n",
              "      <th>basket_add_detail</th>\n",
              "      <th>sort_by</th>\n",
              "      <th>image_picker</th>\n",
              "      <th>account_page_click</th>\n",
              "      <th>promo_banner_click</th>\n",
              "      <th>detail_wishlist_add</th>\n",
              "      <th>list_size_dropdown</th>\n",
              "      <th>closed_minibasket_click</th>\n",
              "      <th>...</th>\n",
              "      <th>saw_sizecharts</th>\n",
              "      <th>saw_delivery</th>\n",
              "      <th>saw_account_upgrade</th>\n",
              "      <th>saw_homepage</th>\n",
              "      <th>device_mobile</th>\n",
              "      <th>device_computer</th>\n",
              "      <th>device_tablet</th>\n",
              "      <th>returning_user</th>\n",
              "      <th>loc_uk</th>\n",
              "      <th>ordered</th>\n",
              "    </tr>\n",
              "  </thead>\n",
              "  <tbody>\n",
              "    <tr>\n",
              "      <th>count</th>\n",
              "      <td>455401.000000</td>\n",
              "      <td>455401.000000</td>\n",
              "      <td>455401.000000</td>\n",
              "      <td>455401.000000</td>\n",
              "      <td>455401.000000</td>\n",
              "      <td>455401.000000</td>\n",
              "      <td>455401.000000</td>\n",
              "      <td>455401.000000</td>\n",
              "      <td>455401.000000</td>\n",
              "      <td>455401.000000</td>\n",
              "      <td>...</td>\n",
              "      <td>455401.000000</td>\n",
              "      <td>455401.000000</td>\n",
              "      <td>455401.000000</td>\n",
              "      <td>455401.000000</td>\n",
              "      <td>455401.000000</td>\n",
              "      <td>455401.000000</td>\n",
              "      <td>455401.000000</td>\n",
              "      <td>455401.000000</td>\n",
              "      <td>455401.000000</td>\n",
              "      <td>455401.000000</td>\n",
              "    </tr>\n",
              "    <tr>\n",
              "      <th>mean</th>\n",
              "      <td>0.099150</td>\n",
              "      <td>0.074521</td>\n",
              "      <td>0.112916</td>\n",
              "      <td>0.036849</td>\n",
              "      <td>0.026735</td>\n",
              "      <td>0.003570</td>\n",
              "      <td>0.016208</td>\n",
              "      <td>0.003511</td>\n",
              "      <td>0.230362</td>\n",
              "      <td>0.017277</td>\n",
              "      <td>...</td>\n",
              "      <td>0.000389</td>\n",
              "      <td>0.005542</td>\n",
              "      <td>0.001096</td>\n",
              "      <td>0.290024</td>\n",
              "      <td>0.680706</td>\n",
              "      <td>0.194220</td>\n",
              "      <td>0.128364</td>\n",
              "      <td>0.534915</td>\n",
              "      <td>0.933224</td>\n",
              "      <td>0.041926</td>\n",
              "    </tr>\n",
              "    <tr>\n",
              "      <th>std</th>\n",
              "      <td>0.298864</td>\n",
              "      <td>0.262617</td>\n",
              "      <td>0.316490</td>\n",
              "      <td>0.188391</td>\n",
              "      <td>0.161307</td>\n",
              "      <td>0.059647</td>\n",
              "      <td>0.126274</td>\n",
              "      <td>0.059151</td>\n",
              "      <td>0.421065</td>\n",
              "      <td>0.130302</td>\n",
              "      <td>...</td>\n",
              "      <td>0.019711</td>\n",
              "      <td>0.074241</td>\n",
              "      <td>0.033084</td>\n",
              "      <td>0.453773</td>\n",
              "      <td>0.466204</td>\n",
              "      <td>0.395599</td>\n",
              "      <td>0.334495</td>\n",
              "      <td>0.498780</td>\n",
              "      <td>0.249634</td>\n",
              "      <td>0.200420</td>\n",
              "    </tr>\n",
              "    <tr>\n",
              "      <th>min</th>\n",
              "      <td>0.000000</td>\n",
              "      <td>0.000000</td>\n",
              "      <td>0.000000</td>\n",
              "      <td>0.000000</td>\n",
              "      <td>0.000000</td>\n",
              "      <td>0.000000</td>\n",
              "      <td>0.000000</td>\n",
              "      <td>0.000000</td>\n",
              "      <td>0.000000</td>\n",
              "      <td>0.000000</td>\n",
              "      <td>...</td>\n",
              "      <td>0.000000</td>\n",
              "      <td>0.000000</td>\n",
              "      <td>0.000000</td>\n",
              "      <td>0.000000</td>\n",
              "      <td>0.000000</td>\n",
              "      <td>0.000000</td>\n",
              "      <td>0.000000</td>\n",
              "      <td>0.000000</td>\n",
              "      <td>0.000000</td>\n",
              "      <td>0.000000</td>\n",
              "    </tr>\n",
              "    <tr>\n",
              "      <th>25%</th>\n",
              "      <td>0.000000</td>\n",
              "      <td>0.000000</td>\n",
              "      <td>0.000000</td>\n",
              "      <td>0.000000</td>\n",
              "      <td>0.000000</td>\n",
              "      <td>0.000000</td>\n",
              "      <td>0.000000</td>\n",
              "      <td>0.000000</td>\n",
              "      <td>0.000000</td>\n",
              "      <td>0.000000</td>\n",
              "      <td>...</td>\n",
              "      <td>0.000000</td>\n",
              "      <td>0.000000</td>\n",
              "      <td>0.000000</td>\n",
              "      <td>0.000000</td>\n",
              "      <td>0.000000</td>\n",
              "      <td>0.000000</td>\n",
              "      <td>0.000000</td>\n",
              "      <td>0.000000</td>\n",
              "      <td>1.000000</td>\n",
              "      <td>0.000000</td>\n",
              "    </tr>\n",
              "    <tr>\n",
              "      <th>50%</th>\n",
              "      <td>0.000000</td>\n",
              "      <td>0.000000</td>\n",
              "      <td>0.000000</td>\n",
              "      <td>0.000000</td>\n",
              "      <td>0.000000</td>\n",
              "      <td>0.000000</td>\n",
              "      <td>0.000000</td>\n",
              "      <td>0.000000</td>\n",
              "      <td>0.000000</td>\n",
              "      <td>0.000000</td>\n",
              "      <td>...</td>\n",
              "      <td>0.000000</td>\n",
              "      <td>0.000000</td>\n",
              "      <td>0.000000</td>\n",
              "      <td>0.000000</td>\n",
              "      <td>1.000000</td>\n",
              "      <td>0.000000</td>\n",
              "      <td>0.000000</td>\n",
              "      <td>1.000000</td>\n",
              "      <td>1.000000</td>\n",
              "      <td>0.000000</td>\n",
              "    </tr>\n",
              "    <tr>\n",
              "      <th>75%</th>\n",
              "      <td>0.000000</td>\n",
              "      <td>0.000000</td>\n",
              "      <td>0.000000</td>\n",
              "      <td>0.000000</td>\n",
              "      <td>0.000000</td>\n",
              "      <td>0.000000</td>\n",
              "      <td>0.000000</td>\n",
              "      <td>0.000000</td>\n",
              "      <td>0.000000</td>\n",
              "      <td>0.000000</td>\n",
              "      <td>...</td>\n",
              "      <td>0.000000</td>\n",
              "      <td>0.000000</td>\n",
              "      <td>0.000000</td>\n",
              "      <td>1.000000</td>\n",
              "      <td>1.000000</td>\n",
              "      <td>0.000000</td>\n",
              "      <td>0.000000</td>\n",
              "      <td>1.000000</td>\n",
              "      <td>1.000000</td>\n",
              "      <td>0.000000</td>\n",
              "    </tr>\n",
              "    <tr>\n",
              "      <th>max</th>\n",
              "      <td>1.000000</td>\n",
              "      <td>1.000000</td>\n",
              "      <td>1.000000</td>\n",
              "      <td>1.000000</td>\n",
              "      <td>1.000000</td>\n",
              "      <td>1.000000</td>\n",
              "      <td>1.000000</td>\n",
              "      <td>1.000000</td>\n",
              "      <td>1.000000</td>\n",
              "      <td>1.000000</td>\n",
              "      <td>...</td>\n",
              "      <td>1.000000</td>\n",
              "      <td>1.000000</td>\n",
              "      <td>1.000000</td>\n",
              "      <td>1.000000</td>\n",
              "      <td>1.000000</td>\n",
              "      <td>1.000000</td>\n",
              "      <td>1.000000</td>\n",
              "      <td>1.000000</td>\n",
              "      <td>1.000000</td>\n",
              "      <td>1.000000</td>\n",
              "    </tr>\n",
              "  </tbody>\n",
              "</table>\n",
              "<p>8 rows × 24 columns</p>\n",
              "</div>\n",
              "    <div class=\"colab-df-buttons\">\n",
              "\n",
              "  <div class=\"colab-df-container\">\n",
              "    <button class=\"colab-df-convert\" onclick=\"convertToInteractive('df-9ef297ab-6be0-4d01-9b18-2e2480205fbc')\"\n",
              "            title=\"Convert this dataframe to an interactive table.\"\n",
              "            style=\"display:none;\">\n",
              "\n",
              "  <svg xmlns=\"http://www.w3.org/2000/svg\" height=\"24px\" viewBox=\"0 -960 960 960\">\n",
              "    <path d=\"M120-120v-720h720v720H120Zm60-500h600v-160H180v160Zm220 220h160v-160H400v160Zm0 220h160v-160H400v160ZM180-400h160v-160H180v160Zm440 0h160v-160H620v160ZM180-180h160v-160H180v160Zm440 0h160v-160H620v160Z\"/>\n",
              "  </svg>\n",
              "    </button>\n",
              "\n",
              "  <style>\n",
              "    .colab-df-container {\n",
              "      display:flex;\n",
              "      gap: 12px;\n",
              "    }\n",
              "\n",
              "    .colab-df-convert {\n",
              "      background-color: #E8F0FE;\n",
              "      border: none;\n",
              "      border-radius: 50%;\n",
              "      cursor: pointer;\n",
              "      display: none;\n",
              "      fill: #1967D2;\n",
              "      height: 32px;\n",
              "      padding: 0 0 0 0;\n",
              "      width: 32px;\n",
              "    }\n",
              "\n",
              "    .colab-df-convert:hover {\n",
              "      background-color: #E2EBFA;\n",
              "      box-shadow: 0px 1px 2px rgba(60, 64, 67, 0.3), 0px 1px 3px 1px rgba(60, 64, 67, 0.15);\n",
              "      fill: #174EA6;\n",
              "    }\n",
              "\n",
              "    .colab-df-buttons div {\n",
              "      margin-bottom: 4px;\n",
              "    }\n",
              "\n",
              "    [theme=dark] .colab-df-convert {\n",
              "      background-color: #3B4455;\n",
              "      fill: #D2E3FC;\n",
              "    }\n",
              "\n",
              "    [theme=dark] .colab-df-convert:hover {\n",
              "      background-color: #434B5C;\n",
              "      box-shadow: 0px 1px 3px 1px rgba(0, 0, 0, 0.15);\n",
              "      filter: drop-shadow(0px 1px 2px rgba(0, 0, 0, 0.3));\n",
              "      fill: #FFFFFF;\n",
              "    }\n",
              "  </style>\n",
              "\n",
              "    <script>\n",
              "      const buttonEl =\n",
              "        document.querySelector('#df-9ef297ab-6be0-4d01-9b18-2e2480205fbc button.colab-df-convert');\n",
              "      buttonEl.style.display =\n",
              "        google.colab.kernel.accessAllowed ? 'block' : 'none';\n",
              "\n",
              "      async function convertToInteractive(key) {\n",
              "        const element = document.querySelector('#df-9ef297ab-6be0-4d01-9b18-2e2480205fbc');\n",
              "        const dataTable =\n",
              "          await google.colab.kernel.invokeFunction('convertToInteractive',\n",
              "                                                    [key], {});\n",
              "        if (!dataTable) return;\n",
              "\n",
              "        const docLinkHtml = 'Like what you see? Visit the ' +\n",
              "          '<a target=\"_blank\" href=https://colab.research.google.com/notebooks/data_table.ipynb>data table notebook</a>'\n",
              "          + ' to learn more about interactive tables.';\n",
              "        element.innerHTML = '';\n",
              "        dataTable['output_type'] = 'display_data';\n",
              "        await google.colab.output.renderOutput(dataTable, element);\n",
              "        const docLink = document.createElement('div');\n",
              "        docLink.innerHTML = docLinkHtml;\n",
              "        element.appendChild(docLink);\n",
              "      }\n",
              "    </script>\n",
              "  </div>\n",
              "\n",
              "\n",
              "<div id=\"df-b1373a73-a96b-4472-954a-1b50ba33cf7f\">\n",
              "  <button class=\"colab-df-quickchart\" onclick=\"quickchart('df-b1373a73-a96b-4472-954a-1b50ba33cf7f')\"\n",
              "            title=\"Suggest charts.\"\n",
              "            style=\"display:none;\">\n",
              "\n",
              "<svg xmlns=\"http://www.w3.org/2000/svg\" height=\"24px\"viewBox=\"0 0 24 24\"\n",
              "     width=\"24px\">\n",
              "    <g>\n",
              "        <path d=\"M19 3H5c-1.1 0-2 .9-2 2v14c0 1.1.9 2 2 2h14c1.1 0 2-.9 2-2V5c0-1.1-.9-2-2-2zM9 17H7v-7h2v7zm4 0h-2V7h2v10zm4 0h-2v-4h2v4z\"/>\n",
              "    </g>\n",
              "</svg>\n",
              "  </button>\n",
              "\n",
              "<style>\n",
              "  .colab-df-quickchart {\n",
              "      --bg-color: #E8F0FE;\n",
              "      --fill-color: #1967D2;\n",
              "      --hover-bg-color: #E2EBFA;\n",
              "      --hover-fill-color: #174EA6;\n",
              "      --disabled-fill-color: #AAA;\n",
              "      --disabled-bg-color: #DDD;\n",
              "  }\n",
              "\n",
              "  [theme=dark] .colab-df-quickchart {\n",
              "      --bg-color: #3B4455;\n",
              "      --fill-color: #D2E3FC;\n",
              "      --hover-bg-color: #434B5C;\n",
              "      --hover-fill-color: #FFFFFF;\n",
              "      --disabled-bg-color: #3B4455;\n",
              "      --disabled-fill-color: #666;\n",
              "  }\n",
              "\n",
              "  .colab-df-quickchart {\n",
              "    background-color: var(--bg-color);\n",
              "    border: none;\n",
              "    border-radius: 50%;\n",
              "    cursor: pointer;\n",
              "    display: none;\n",
              "    fill: var(--fill-color);\n",
              "    height: 32px;\n",
              "    padding: 0;\n",
              "    width: 32px;\n",
              "  }\n",
              "\n",
              "  .colab-df-quickchart:hover {\n",
              "    background-color: var(--hover-bg-color);\n",
              "    box-shadow: 0 1px 2px rgba(60, 64, 67, 0.3), 0 1px 3px 1px rgba(60, 64, 67, 0.15);\n",
              "    fill: var(--button-hover-fill-color);\n",
              "  }\n",
              "\n",
              "  .colab-df-quickchart-complete:disabled,\n",
              "  .colab-df-quickchart-complete:disabled:hover {\n",
              "    background-color: var(--disabled-bg-color);\n",
              "    fill: var(--disabled-fill-color);\n",
              "    box-shadow: none;\n",
              "  }\n",
              "\n",
              "  .colab-df-spinner {\n",
              "    border: 2px solid var(--fill-color);\n",
              "    border-color: transparent;\n",
              "    border-bottom-color: var(--fill-color);\n",
              "    animation:\n",
              "      spin 1s steps(1) infinite;\n",
              "  }\n",
              "\n",
              "  @keyframes spin {\n",
              "    0% {\n",
              "      border-color: transparent;\n",
              "      border-bottom-color: var(--fill-color);\n",
              "      border-left-color: var(--fill-color);\n",
              "    }\n",
              "    20% {\n",
              "      border-color: transparent;\n",
              "      border-left-color: var(--fill-color);\n",
              "      border-top-color: var(--fill-color);\n",
              "    }\n",
              "    30% {\n",
              "      border-color: transparent;\n",
              "      border-left-color: var(--fill-color);\n",
              "      border-top-color: var(--fill-color);\n",
              "      border-right-color: var(--fill-color);\n",
              "    }\n",
              "    40% {\n",
              "      border-color: transparent;\n",
              "      border-right-color: var(--fill-color);\n",
              "      border-top-color: var(--fill-color);\n",
              "    }\n",
              "    60% {\n",
              "      border-color: transparent;\n",
              "      border-right-color: var(--fill-color);\n",
              "    }\n",
              "    80% {\n",
              "      border-color: transparent;\n",
              "      border-right-color: var(--fill-color);\n",
              "      border-bottom-color: var(--fill-color);\n",
              "    }\n",
              "    90% {\n",
              "      border-color: transparent;\n",
              "      border-bottom-color: var(--fill-color);\n",
              "    }\n",
              "  }\n",
              "</style>\n",
              "\n",
              "  <script>\n",
              "    async function quickchart(key) {\n",
              "      const quickchartButtonEl =\n",
              "        document.querySelector('#' + key + ' button');\n",
              "      quickchartButtonEl.disabled = true;  // To prevent multiple clicks.\n",
              "      quickchartButtonEl.classList.add('colab-df-spinner');\n",
              "      try {\n",
              "        const charts = await google.colab.kernel.invokeFunction(\n",
              "            'suggestCharts', [key], {});\n",
              "      } catch (error) {\n",
              "        console.error('Error during call to suggestCharts:', error);\n",
              "      }\n",
              "      quickchartButtonEl.classList.remove('colab-df-spinner');\n",
              "      quickchartButtonEl.classList.add('colab-df-quickchart-complete');\n",
              "    }\n",
              "    (() => {\n",
              "      let quickchartButtonEl =\n",
              "        document.querySelector('#df-b1373a73-a96b-4472-954a-1b50ba33cf7f button');\n",
              "      quickchartButtonEl.style.display =\n",
              "        google.colab.kernel.accessAllowed ? 'block' : 'none';\n",
              "    })();\n",
              "  </script>\n",
              "</div>\n",
              "    </div>\n",
              "  </div>\n"
            ]
          },
          "metadata": {},
          "execution_count": 43
        }
      ]
    },
    {
      "cell_type": "markdown",
      "source": [
        "4. checking the cardinality of each column"
      ],
      "metadata": {
        "id": "tSkhRfTgDtwe"
      }
    },
    {
      "cell_type": "code",
      "source": [
        "df_cardinality = df.drop('UserID', axis=1)\n",
        "for col in df_cardinality.columns:\n",
        "  print(f'{col} column unique values : {df_cardinality[col].unique()}')"
      ],
      "metadata": {
        "colab": {
          "base_uri": "https://localhost:8080/"
        },
        "id": "OvUhaVqoDzkw",
        "outputId": "6c52f411-2e2a-4857-caa4-2c85da14a135"
      },
      "execution_count": 8,
      "outputs": [
        {
          "output_type": "stream",
          "name": "stdout",
          "text": [
            "basket_icon_click column unique values : [0 1]\n",
            "basket_add_list column unique values : [0 1]\n",
            "basket_add_detail column unique values : [0 1]\n",
            "sort_by column unique values : [0 1]\n",
            "image_picker column unique values : [0 1]\n",
            "account_page_click column unique values : [0 1]\n",
            "promo_banner_click column unique values : [0 1]\n",
            "detail_wishlist_add column unique values : [0 1]\n",
            "list_size_dropdown column unique values : [0 1]\n",
            "closed_minibasket_click column unique values : [0 1]\n",
            "checked_delivery_detail column unique values : [1 0]\n",
            "checked_returns_detail column unique values : [0 1]\n",
            "sign_in column unique values : [0 1]\n",
            "saw_checkout column unique values : [0 1]\n",
            "saw_sizecharts column unique values : [0 1]\n",
            "saw_delivery column unique values : [0 1]\n",
            "saw_account_upgrade column unique values : [0 1]\n",
            "saw_homepage column unique values : [0 1]\n",
            "device_mobile column unique values : [1 0]\n",
            "device_computer column unique values : [0 1]\n",
            "device_tablet column unique values : [0 1]\n",
            "returning_user column unique values : [0 1]\n",
            "loc_uk column unique values : [1 0]\n",
            "ordered column unique values : [0 1]\n"
          ]
        }
      ]
    },
    {
      "cell_type": "markdown",
      "source": [
        "5. correlation heatmap"
      ],
      "metadata": {
        "id": "ccY1uGhVINb2"
      }
    },
    {
      "cell_type": "code",
      "source": [
        "df_corr=df.corr()\n",
        "\n",
        "plt.figure(figsize = (20, 20))\n",
        "sns.heatmap(df_corr,annot=True,cmap='RdPu')\n",
        "plt.show()"
      ],
      "metadata": {
        "id": "k1MgyAXl_5-t"
      },
      "execution_count": null,
      "outputs": []
    },
    {
      "cell_type": "markdown",
      "source": [
        "6. check the balance of target variable"
      ],
      "metadata": {
        "id": "e67NxT3wIbkG"
      }
    },
    {
      "cell_type": "code",
      "source": [
        "df['ordered'].value_counts().plot(kind='bar')"
      ],
      "metadata": {
        "id": "5wHi69yM_w6D"
      },
      "execution_count": null,
      "outputs": []
    },
    {
      "cell_type": "markdown",
      "source": [
        "7. contingency table"
      ],
      "metadata": {
        "id": "rv1JiNHbC7jx"
      }
    },
    {
      "cell_type": "markdown",
      "source": [
        "8. chi squared table"
      ],
      "metadata": {
        "id": "ITGOid8cIEd7"
      }
    },
    {
      "cell_type": "markdown",
      "source": [
        "# V. FEATURE ENGINEERING"
      ],
      "metadata": {
        "id": "juuoc2mvRG2Z"
      }
    },
    {
      "cell_type": "markdown",
      "source": [
        "### < Splitting Data >"
      ],
      "metadata": {
        "id": "W6VUP00ub8tj"
      }
    },
    {
      "cell_type": "code",
      "source": [
        "# split data to train set and test set\n",
        "train, test = train_test_split(df, test_size= 0.2,random_state=5)"
      ],
      "metadata": {
        "id": "N3FtZwImcALX"
      },
      "execution_count": 4,
      "outputs": []
    },
    {
      "cell_type": "code",
      "source": [
        "# separate feature and target\n",
        "X_train = train.drop('ordered',axis=1)\n",
        "Y_train = train['ordered']\n",
        "X_test = test.drop('ordered',axis=1)\n",
        "Y_test = test['ordered']"
      ],
      "metadata": {
        "id": "Ni6Yy0Xj-jfs"
      },
      "execution_count": 5,
      "outputs": []
    },
    {
      "cell_type": "code",
      "source": [
        "# drop unused feature\n",
        "X_train.drop('UserID', axis=1, inplace=True)\n",
        "print(f'Train set shape : {X_train.shape}')\n",
        "print('Total amount of each class of the target :')\n",
        "print(Y_train.value_counts())"
      ],
      "metadata": {
        "colab": {
          "base_uri": "https://localhost:8080/"
        },
        "id": "paP1L7lM-0qz",
        "outputId": "dbd5fbab-e705-4915-c128-2b0fd2d24089"
      },
      "execution_count": 6,
      "outputs": [
        {
          "output_type": "stream",
          "name": "stdout",
          "text": [
            "Train set shape : (364320, 23)\n",
            "Total amount of each class of the target :\n",
            "0    349045\n",
            "1     15275\n",
            "Name: ordered, dtype: int64\n"
          ]
        }
      ]
    },
    {
      "cell_type": "code",
      "source": [
        "# use smote to create oversampled train set for future comparison\n",
        "smote = SMOTE(random_state=33)\n",
        "X_train_oversampled, Y_train_oversampled = smote.fit_resample(X_train, Y_train)"
      ],
      "metadata": {
        "id": "IeRcwxID9QU6"
      },
      "execution_count": 7,
      "outputs": []
    },
    {
      "cell_type": "code",
      "source": [
        "print(f'Oversampled train set shape : {X_train_oversampled.shape}')\n",
        "print('Total amount of each class of the target :')\n",
        "print(Y_train_oversampled.value_counts())"
      ],
      "metadata": {
        "colab": {
          "base_uri": "https://localhost:8080/"
        },
        "id": "NhdKoz05a0Vy",
        "outputId": "85a113a4-7906-4366-cd10-1f04a77ad0b4"
      },
      "execution_count": 8,
      "outputs": [
        {
          "output_type": "stream",
          "name": "stdout",
          "text": [
            "Oversampled train set shape : (698090, 23)\n",
            "Total amount of each class of the target :\n",
            "0    349045\n",
            "1    349045\n",
            "Name: ordered, dtype: int64\n"
          ]
        }
      ]
    },
    {
      "cell_type": "markdown",
      "source": [
        "### < Checking Multicollinearity >"
      ],
      "metadata": {
        "id": "aWKejW7hACW4"
      }
    },
    {
      "cell_type": "code",
      "source": [
        "# using VIF score to measure multicollinearity between variable\n",
        "df_float = df.drop('UserID', axis=1).astype(float)\n",
        "\n",
        "vif_data = pd.DataFrame()\n",
        "vif_data[\"feature\"] = df_float.columns\n",
        "\n",
        "# calculating VIF for each feature\n",
        "vif_data[\"VIF\"] = [variance_inflation_factor(df_float.values, i) for i in range(len(df_float.columns))]\n",
        "\n",
        "vif_data"
      ],
      "metadata": {
        "id": "DXQ8pRVKAKp2",
        "colab": {
          "base_uri": "https://localhost:8080/",
          "height": 863
        },
        "outputId": "3f0d0161-6794-4269-e717-cbf669f0a284"
      },
      "execution_count": 25,
      "outputs": [
        {
          "output_type": "execute_result",
          "data": {
            "text/plain": [
              "                    feature        VIF\n",
              "0         basket_icon_click   2.053465\n",
              "1           basket_add_list   1.676683\n",
              "2         basket_add_detail   1.782741\n",
              "3                   sort_by   1.185455\n",
              "4              image_picker   1.138845\n",
              "5        account_page_click   1.130253\n",
              "6        promo_banner_click   1.042686\n",
              "7       detail_wishlist_add   1.067372\n",
              "8        list_size_dropdown   1.765511\n",
              "9   closed_minibasket_click   1.151323\n",
              "10  checked_delivery_detail   3.685911\n",
              "11   checked_returns_detail   1.112418\n",
              "12                  sign_in   9.788029\n",
              "13             saw_checkout   9.995506\n",
              "14           saw_sizecharts   1.001377\n",
              "15             saw_delivery   1.110924\n",
              "16      saw_account_upgrade   1.005759\n",
              "17             saw_homepage   1.579855\n",
              "18            device_mobile  11.798247\n",
              "19          device_computer   3.689901\n",
              "20            device_tablet   3.112389\n",
              "21           returning_user   2.210059\n",
              "22                   loc_uk  14.692042\n",
              "23                  ordered   3.779266"
            ],
            "text/html": [
              "\n",
              "  <div id=\"df-99019633-70ef-4887-ab3e-25f93093c410\" class=\"colab-df-container\">\n",
              "    <div>\n",
              "<style scoped>\n",
              "    .dataframe tbody tr th:only-of-type {\n",
              "        vertical-align: middle;\n",
              "    }\n",
              "\n",
              "    .dataframe tbody tr th {\n",
              "        vertical-align: top;\n",
              "    }\n",
              "\n",
              "    .dataframe thead th {\n",
              "        text-align: right;\n",
              "    }\n",
              "</style>\n",
              "<table border=\"1\" class=\"dataframe\">\n",
              "  <thead>\n",
              "    <tr style=\"text-align: right;\">\n",
              "      <th></th>\n",
              "      <th>feature</th>\n",
              "      <th>VIF</th>\n",
              "    </tr>\n",
              "  </thead>\n",
              "  <tbody>\n",
              "    <tr>\n",
              "      <th>0</th>\n",
              "      <td>basket_icon_click</td>\n",
              "      <td>2.053465</td>\n",
              "    </tr>\n",
              "    <tr>\n",
              "      <th>1</th>\n",
              "      <td>basket_add_list</td>\n",
              "      <td>1.676683</td>\n",
              "    </tr>\n",
              "    <tr>\n",
              "      <th>2</th>\n",
              "      <td>basket_add_detail</td>\n",
              "      <td>1.782741</td>\n",
              "    </tr>\n",
              "    <tr>\n",
              "      <th>3</th>\n",
              "      <td>sort_by</td>\n",
              "      <td>1.185455</td>\n",
              "    </tr>\n",
              "    <tr>\n",
              "      <th>4</th>\n",
              "      <td>image_picker</td>\n",
              "      <td>1.138845</td>\n",
              "    </tr>\n",
              "    <tr>\n",
              "      <th>5</th>\n",
              "      <td>account_page_click</td>\n",
              "      <td>1.130253</td>\n",
              "    </tr>\n",
              "    <tr>\n",
              "      <th>6</th>\n",
              "      <td>promo_banner_click</td>\n",
              "      <td>1.042686</td>\n",
              "    </tr>\n",
              "    <tr>\n",
              "      <th>7</th>\n",
              "      <td>detail_wishlist_add</td>\n",
              "      <td>1.067372</td>\n",
              "    </tr>\n",
              "    <tr>\n",
              "      <th>8</th>\n",
              "      <td>list_size_dropdown</td>\n",
              "      <td>1.765511</td>\n",
              "    </tr>\n",
              "    <tr>\n",
              "      <th>9</th>\n",
              "      <td>closed_minibasket_click</td>\n",
              "      <td>1.151323</td>\n",
              "    </tr>\n",
              "    <tr>\n",
              "      <th>10</th>\n",
              "      <td>checked_delivery_detail</td>\n",
              "      <td>3.685911</td>\n",
              "    </tr>\n",
              "    <tr>\n",
              "      <th>11</th>\n",
              "      <td>checked_returns_detail</td>\n",
              "      <td>1.112418</td>\n",
              "    </tr>\n",
              "    <tr>\n",
              "      <th>12</th>\n",
              "      <td>sign_in</td>\n",
              "      <td>9.788029</td>\n",
              "    </tr>\n",
              "    <tr>\n",
              "      <th>13</th>\n",
              "      <td>saw_checkout</td>\n",
              "      <td>9.995506</td>\n",
              "    </tr>\n",
              "    <tr>\n",
              "      <th>14</th>\n",
              "      <td>saw_sizecharts</td>\n",
              "      <td>1.001377</td>\n",
              "    </tr>\n",
              "    <tr>\n",
              "      <th>15</th>\n",
              "      <td>saw_delivery</td>\n",
              "      <td>1.110924</td>\n",
              "    </tr>\n",
              "    <tr>\n",
              "      <th>16</th>\n",
              "      <td>saw_account_upgrade</td>\n",
              "      <td>1.005759</td>\n",
              "    </tr>\n",
              "    <tr>\n",
              "      <th>17</th>\n",
              "      <td>saw_homepage</td>\n",
              "      <td>1.579855</td>\n",
              "    </tr>\n",
              "    <tr>\n",
              "      <th>18</th>\n",
              "      <td>device_mobile</td>\n",
              "      <td>11.798247</td>\n",
              "    </tr>\n",
              "    <tr>\n",
              "      <th>19</th>\n",
              "      <td>device_computer</td>\n",
              "      <td>3.689901</td>\n",
              "    </tr>\n",
              "    <tr>\n",
              "      <th>20</th>\n",
              "      <td>device_tablet</td>\n",
              "      <td>3.112389</td>\n",
              "    </tr>\n",
              "    <tr>\n",
              "      <th>21</th>\n",
              "      <td>returning_user</td>\n",
              "      <td>2.210059</td>\n",
              "    </tr>\n",
              "    <tr>\n",
              "      <th>22</th>\n",
              "      <td>loc_uk</td>\n",
              "      <td>14.692042</td>\n",
              "    </tr>\n",
              "    <tr>\n",
              "      <th>23</th>\n",
              "      <td>ordered</td>\n",
              "      <td>3.779266</td>\n",
              "    </tr>\n",
              "  </tbody>\n",
              "</table>\n",
              "</div>\n",
              "    <div class=\"colab-df-buttons\">\n",
              "\n",
              "  <div class=\"colab-df-container\">\n",
              "    <button class=\"colab-df-convert\" onclick=\"convertToInteractive('df-99019633-70ef-4887-ab3e-25f93093c410')\"\n",
              "            title=\"Convert this dataframe to an interactive table.\"\n",
              "            style=\"display:none;\">\n",
              "\n",
              "  <svg xmlns=\"http://www.w3.org/2000/svg\" height=\"24px\" viewBox=\"0 -960 960 960\">\n",
              "    <path d=\"M120-120v-720h720v720H120Zm60-500h600v-160H180v160Zm220 220h160v-160H400v160Zm0 220h160v-160H400v160ZM180-400h160v-160H180v160Zm440 0h160v-160H620v160ZM180-180h160v-160H180v160Zm440 0h160v-160H620v160Z\"/>\n",
              "  </svg>\n",
              "    </button>\n",
              "\n",
              "  <style>\n",
              "    .colab-df-container {\n",
              "      display:flex;\n",
              "      gap: 12px;\n",
              "    }\n",
              "\n",
              "    .colab-df-convert {\n",
              "      background-color: #E8F0FE;\n",
              "      border: none;\n",
              "      border-radius: 50%;\n",
              "      cursor: pointer;\n",
              "      display: none;\n",
              "      fill: #1967D2;\n",
              "      height: 32px;\n",
              "      padding: 0 0 0 0;\n",
              "      width: 32px;\n",
              "    }\n",
              "\n",
              "    .colab-df-convert:hover {\n",
              "      background-color: #E2EBFA;\n",
              "      box-shadow: 0px 1px 2px rgba(60, 64, 67, 0.3), 0px 1px 3px 1px rgba(60, 64, 67, 0.15);\n",
              "      fill: #174EA6;\n",
              "    }\n",
              "\n",
              "    .colab-df-buttons div {\n",
              "      margin-bottom: 4px;\n",
              "    }\n",
              "\n",
              "    [theme=dark] .colab-df-convert {\n",
              "      background-color: #3B4455;\n",
              "      fill: #D2E3FC;\n",
              "    }\n",
              "\n",
              "    [theme=dark] .colab-df-convert:hover {\n",
              "      background-color: #434B5C;\n",
              "      box-shadow: 0px 1px 3px 1px rgba(0, 0, 0, 0.15);\n",
              "      filter: drop-shadow(0px 1px 2px rgba(0, 0, 0, 0.3));\n",
              "      fill: #FFFFFF;\n",
              "    }\n",
              "  </style>\n",
              "\n",
              "    <script>\n",
              "      const buttonEl =\n",
              "        document.querySelector('#df-99019633-70ef-4887-ab3e-25f93093c410 button.colab-df-convert');\n",
              "      buttonEl.style.display =\n",
              "        google.colab.kernel.accessAllowed ? 'block' : 'none';\n",
              "\n",
              "      async function convertToInteractive(key) {\n",
              "        const element = document.querySelector('#df-99019633-70ef-4887-ab3e-25f93093c410');\n",
              "        const dataTable =\n",
              "          await google.colab.kernel.invokeFunction('convertToInteractive',\n",
              "                                                    [key], {});\n",
              "        if (!dataTable) return;\n",
              "\n",
              "        const docLinkHtml = 'Like what you see? Visit the ' +\n",
              "          '<a target=\"_blank\" href=https://colab.research.google.com/notebooks/data_table.ipynb>data table notebook</a>'\n",
              "          + ' to learn more about interactive tables.';\n",
              "        element.innerHTML = '';\n",
              "        dataTable['output_type'] = 'display_data';\n",
              "        await google.colab.output.renderOutput(dataTable, element);\n",
              "        const docLink = document.createElement('div');\n",
              "        docLink.innerHTML = docLinkHtml;\n",
              "        element.appendChild(docLink);\n",
              "      }\n",
              "    </script>\n",
              "  </div>\n",
              "\n",
              "\n",
              "<div id=\"df-43951d51-48da-44e9-b10d-3f4c306fa8ea\">\n",
              "  <button class=\"colab-df-quickchart\" onclick=\"quickchart('df-43951d51-48da-44e9-b10d-3f4c306fa8ea')\"\n",
              "            title=\"Suggest charts.\"\n",
              "            style=\"display:none;\">\n",
              "\n",
              "<svg xmlns=\"http://www.w3.org/2000/svg\" height=\"24px\"viewBox=\"0 0 24 24\"\n",
              "     width=\"24px\">\n",
              "    <g>\n",
              "        <path d=\"M19 3H5c-1.1 0-2 .9-2 2v14c0 1.1.9 2 2 2h14c1.1 0 2-.9 2-2V5c0-1.1-.9-2-2-2zM9 17H7v-7h2v7zm4 0h-2V7h2v10zm4 0h-2v-4h2v4z\"/>\n",
              "    </g>\n",
              "</svg>\n",
              "  </button>\n",
              "\n",
              "<style>\n",
              "  .colab-df-quickchart {\n",
              "      --bg-color: #E8F0FE;\n",
              "      --fill-color: #1967D2;\n",
              "      --hover-bg-color: #E2EBFA;\n",
              "      --hover-fill-color: #174EA6;\n",
              "      --disabled-fill-color: #AAA;\n",
              "      --disabled-bg-color: #DDD;\n",
              "  }\n",
              "\n",
              "  [theme=dark] .colab-df-quickchart {\n",
              "      --bg-color: #3B4455;\n",
              "      --fill-color: #D2E3FC;\n",
              "      --hover-bg-color: #434B5C;\n",
              "      --hover-fill-color: #FFFFFF;\n",
              "      --disabled-bg-color: #3B4455;\n",
              "      --disabled-fill-color: #666;\n",
              "  }\n",
              "\n",
              "  .colab-df-quickchart {\n",
              "    background-color: var(--bg-color);\n",
              "    border: none;\n",
              "    border-radius: 50%;\n",
              "    cursor: pointer;\n",
              "    display: none;\n",
              "    fill: var(--fill-color);\n",
              "    height: 32px;\n",
              "    padding: 0;\n",
              "    width: 32px;\n",
              "  }\n",
              "\n",
              "  .colab-df-quickchart:hover {\n",
              "    background-color: var(--hover-bg-color);\n",
              "    box-shadow: 0 1px 2px rgba(60, 64, 67, 0.3), 0 1px 3px 1px rgba(60, 64, 67, 0.15);\n",
              "    fill: var(--button-hover-fill-color);\n",
              "  }\n",
              "\n",
              "  .colab-df-quickchart-complete:disabled,\n",
              "  .colab-df-quickchart-complete:disabled:hover {\n",
              "    background-color: var(--disabled-bg-color);\n",
              "    fill: var(--disabled-fill-color);\n",
              "    box-shadow: none;\n",
              "  }\n",
              "\n",
              "  .colab-df-spinner {\n",
              "    border: 2px solid var(--fill-color);\n",
              "    border-color: transparent;\n",
              "    border-bottom-color: var(--fill-color);\n",
              "    animation:\n",
              "      spin 1s steps(1) infinite;\n",
              "  }\n",
              "\n",
              "  @keyframes spin {\n",
              "    0% {\n",
              "      border-color: transparent;\n",
              "      border-bottom-color: var(--fill-color);\n",
              "      border-left-color: var(--fill-color);\n",
              "    }\n",
              "    20% {\n",
              "      border-color: transparent;\n",
              "      border-left-color: var(--fill-color);\n",
              "      border-top-color: var(--fill-color);\n",
              "    }\n",
              "    30% {\n",
              "      border-color: transparent;\n",
              "      border-left-color: var(--fill-color);\n",
              "      border-top-color: var(--fill-color);\n",
              "      border-right-color: var(--fill-color);\n",
              "    }\n",
              "    40% {\n",
              "      border-color: transparent;\n",
              "      border-right-color: var(--fill-color);\n",
              "      border-top-color: var(--fill-color);\n",
              "    }\n",
              "    60% {\n",
              "      border-color: transparent;\n",
              "      border-right-color: var(--fill-color);\n",
              "    }\n",
              "    80% {\n",
              "      border-color: transparent;\n",
              "      border-right-color: var(--fill-color);\n",
              "      border-bottom-color: var(--fill-color);\n",
              "    }\n",
              "    90% {\n",
              "      border-color: transparent;\n",
              "      border-bottom-color: var(--fill-color);\n",
              "    }\n",
              "  }\n",
              "</style>\n",
              "\n",
              "  <script>\n",
              "    async function quickchart(key) {\n",
              "      const quickchartButtonEl =\n",
              "        document.querySelector('#' + key + ' button');\n",
              "      quickchartButtonEl.disabled = true;  // To prevent multiple clicks.\n",
              "      quickchartButtonEl.classList.add('colab-df-spinner');\n",
              "      try {\n",
              "        const charts = await google.colab.kernel.invokeFunction(\n",
              "            'suggestCharts', [key], {});\n",
              "      } catch (error) {\n",
              "        console.error('Error during call to suggestCharts:', error);\n",
              "      }\n",
              "      quickchartButtonEl.classList.remove('colab-df-spinner');\n",
              "      quickchartButtonEl.classList.add('colab-df-quickchart-complete');\n",
              "    }\n",
              "    (() => {\n",
              "      let quickchartButtonEl =\n",
              "        document.querySelector('#df-43951d51-48da-44e9-b10d-3f4c306fa8ea button');\n",
              "      quickchartButtonEl.style.display =\n",
              "        google.colab.kernel.accessAllowed ? 'block' : 'none';\n",
              "    })();\n",
              "  </script>\n",
              "</div>\n",
              "    </div>\n",
              "  </div>\n"
            ]
          },
          "metadata": {},
          "execution_count": 25
        }
      ]
    },
    {
      "cell_type": "markdown",
      "source": [
        "### < Feature Selection >"
      ],
      "metadata": {
        "id": "cubuYo_Fi-ZU"
      }
    },
    {
      "cell_type": "code",
      "source": [
        "from sklearn.metrics import matthews_corrcoef\n",
        "y_var = train['ordered']"
      ],
      "metadata": {
        "id": "ns8DqeZBplO3"
      },
      "execution_count": null,
      "outputs": []
    },
    {
      "cell_type": "code",
      "source": [
        "# https://www.ncbi.nlm.nih.gov/pmc/articles/PMC9938573/\n",
        "# https://link.springer.com/article/10.1057/jt.2009.5\n",
        "# https://www.frontiersin.org/articles/10.3389/frobt.2022.876814/full\n",
        "# https://www.frontiersin.org/articles/10.3389/frai.2021.729834/full\n",
        "# personal threshold from the author from\n",
        "for col in train.columns:\n",
        "  print(f'{col} correlation coefficient : {matthews_corrcoef(train[col], y_var)}')"
      ],
      "metadata": {
        "colab": {
          "base_uri": "https://localhost:8080/"
        },
        "id": "sgNyQMbfpvfE",
        "outputId": "87b51852-f4ac-4b6f-fa6b-21e45b1312dd"
      },
      "execution_count": null,
      "outputs": [
        {
          "output_type": "stream",
          "name": "stdout",
          "text": [
            "basket_icon_click correlation coefficient : 0.4282882866506242\n",
            "basket_add_list correlation coefficient : 0.29056891574439087\n",
            "basket_add_detail correlation coefficient : 0.4141452939565644\n",
            "sort_by correlation coefficient : 0.05494404181173775\n",
            "image_picker correlation coefficient : 0.07148593886340297\n",
            "account_page_click correlation coefficient : 0.05666650702014135\n",
            "promo_banner_click correlation coefficient : 0.05752439381722766\n",
            "detail_wishlist_add correlation coefficient : 0.0245152570459411\n",
            "list_size_dropdown correlation coefficient : 0.15646119181609236\n",
            "closed_minibasket_click correlation coefficient : 0.1397486901907454\n",
            "checked_delivery_detail correlation coefficient : 0.7987950561645234\n",
            "checked_returns_detail correlation coefficient : 0.06065483957799535\n",
            "sign_in correlation coefficient : 0.6666823812405375\n",
            "saw_checkout correlation coefficient : 0.7101755268357881\n",
            "saw_sizecharts correlation coefficient : 0.006327965955791566\n",
            "saw_delivery correlation coefficient : 0.031489462824954205\n",
            "saw_account_upgrade correlation coefficient : 0.02251691396552853\n",
            "saw_homepage correlation coefficient : 0.15796449620997902\n",
            "device_mobile correlation coefficient : -0.042980215849040056\n",
            "device_computer correlation coefficient : 0.04906566352462084\n",
            "device_tablet correlation coefficient : 0.01697905777504816\n",
            "returning_user correlation coefficient : 0.05954479955334151\n",
            "loc_uk correlation coefficient : 0.03183387164451639\n",
            "ordered correlation coefficient : 1.0\n"
          ]
        }
      ]
    },
    {
      "cell_type": "code",
      "source": [
        "# chi squared corr"
      ],
      "metadata": {
        "id": "ASbpwscED0c7"
      },
      "execution_count": null,
      "outputs": []
    },
    {
      "cell_type": "code",
      "source": [
        "selected_feature = ['checked_delivery_detail', 'sign_in', 'saw_checkout']"
      ],
      "metadata": {
        "id": "BbQ9HImfV77d"
      },
      "execution_count": 9,
      "outputs": []
    },
    {
      "cell_type": "code",
      "source": [
        "X_train = X_train[selected_feature]"
      ],
      "metadata": {
        "id": "egqKc1fXbTuK"
      },
      "execution_count": 11,
      "outputs": []
    },
    {
      "cell_type": "code",
      "source": [
        "X_train.shape"
      ],
      "metadata": {
        "colab": {
          "base_uri": "https://localhost:8080/"
        },
        "id": "XkYt5P5jnY6f",
        "outputId": "88ddf409-7a2d-4cd3-90f6-f6753fc007ed"
      },
      "execution_count": 12,
      "outputs": [
        {
          "output_type": "execute_result",
          "data": {
            "text/plain": [
              "(364320, 3)"
            ]
          },
          "metadata": {},
          "execution_count": 12
        }
      ]
    },
    {
      "cell_type": "markdown",
      "source": [
        "### < Encoding >"
      ],
      "metadata": {
        "id": "hOP607ZZYl8Y"
      }
    },
    {
      "cell_type": "markdown",
      "source": [
        "all var is alrd numerical, no need further enc"
      ],
      "metadata": {
        "id": "trIV4xrEEDcf"
      }
    },
    {
      "cell_type": "markdown",
      "source": [
        "### < Outlier Handling >"
      ],
      "metadata": {
        "id": "0zHdwv-ZYKGl"
      }
    },
    {
      "cell_type": "markdown",
      "source": [
        "no outlier because all feature columns are categorical"
      ],
      "metadata": {
        "id": "YXrXbBsVEV4P"
      }
    },
    {
      "cell_type": "markdown",
      "source": [
        "### < Normalization & Encoding >"
      ],
      "metadata": {
        "id": "xSxARn-PYXOW"
      }
    },
    {
      "cell_type": "markdown",
      "source": [
        "No normalization because no outlier and all the variables are already in numerical value"
      ],
      "metadata": {
        "id": "Z7p4G9lD9r9u"
      }
    },
    {
      "cell_type": "markdown",
      "source": [
        "### < Building Column Transformer >"
      ],
      "metadata": {
        "id": "d8osdpkRGGOG"
      }
    },
    {
      "cell_type": "code",
      "source": [
        "input_transformer = ColumnTransformer(\n",
        "  transformers=[\n",
        "    (\"select necessary feature\", 'passthrough', ['checked_delivery_detail', 'sign_in', 'saw_checkout'])\n",
        "  ],\n",
        "  remainder = 'drop'\n",
        ")"
      ],
      "metadata": {
        "id": "eVLE_x2BJiJo"
      },
      "execution_count": 13,
      "outputs": []
    },
    {
      "cell_type": "markdown",
      "source": [
        "# VI. MODEL DEFINITION"
      ],
      "metadata": {
        "id": "VsBg4uS2RL3d"
      }
    },
    {
      "cell_type": "markdown",
      "source": [
        "< KNN Model >"
      ],
      "metadata": {
        "id": "EZFxUYWCbTv7"
      }
    },
    {
      "cell_type": "code",
      "source": [
        "model_knn = KNeighborsClassifier()"
      ],
      "metadata": {
        "id": "Mr0ZvAqOcrgS"
      },
      "execution_count": 14,
      "outputs": []
    },
    {
      "cell_type": "markdown",
      "source": [
        "< SVM >"
      ],
      "metadata": {
        "id": "wurkmC9ebXnS"
      }
    },
    {
      "cell_type": "code",
      "source": [
        "model_svm = SVC()"
      ],
      "metadata": {
        "id": "a7YulOhFVQ_k"
      },
      "execution_count": 15,
      "outputs": []
    },
    {
      "cell_type": "markdown",
      "source": [
        "< Decision Tree >"
      ],
      "metadata": {
        "id": "J_3yB2aEbedA"
      }
    },
    {
      "cell_type": "code",
      "source": [
        "model_dtree = DecisionTreeClassifier()"
      ],
      "metadata": {
        "id": "KLAWqPZgbn9-"
      },
      "execution_count": 16,
      "outputs": []
    },
    {
      "cell_type": "markdown",
      "source": [
        "< Random Forest >"
      ],
      "metadata": {
        "id": "FvGvLQnobhXC"
      }
    },
    {
      "cell_type": "code",
      "source": [
        "model_rf = RandomForestClassifier()"
      ],
      "metadata": {
        "id": "0Gb3shRHbpBH"
      },
      "execution_count": 17,
      "outputs": []
    },
    {
      "cell_type": "markdown",
      "source": [
        "< Boosting >"
      ],
      "metadata": {
        "id": "Y6-6cNwVbmAK"
      }
    },
    {
      "cell_type": "code",
      "source": [
        "model_xgb = XGBClassifier()"
      ],
      "metadata": {
        "id": "VnFSWnBfbpmo"
      },
      "execution_count": 18,
      "outputs": []
    },
    {
      "cell_type": "markdown",
      "source": [
        "# VII. MODEL TRAINING"
      ],
      "metadata": {
        "id": "eo2Kep3aRPdb"
      }
    },
    {
      "cell_type": "code",
      "source": [
        "k_folds = KFold(n_splits = 5, shuffle=True)"
      ],
      "metadata": {
        "id": "X7uP2iRJfQ_I"
      },
      "execution_count": 19,
      "outputs": []
    },
    {
      "cell_type": "markdown",
      "source": [
        "cross val score = prec / recall"
      ],
      "metadata": {
        "id": "X1ooVh_aFNZx"
      }
    },
    {
      "cell_type": "markdown",
      "source": [
        "### < KNN Model Training"
      ],
      "metadata": {
        "id": "i_fQEn5ZfPei"
      }
    },
    {
      "cell_type": "code",
      "source": [
        "knn_score = cross_val_score(model_knn, X_train, Y_train, cv = k_folds, scoring='precision') #scoring mmetric prec"
      ],
      "metadata": {
        "id": "ofAFtuXUfhXp"
      },
      "execution_count": 20,
      "outputs": []
    },
    {
      "cell_type": "code",
      "source": [
        "print(\"KNN Cross Validation Scores: \", knn_score)\n",
        "print(\"KNN Average CV Score: \", knn_score.mean())"
      ],
      "metadata": {
        "colab": {
          "base_uri": "https://localhost:8080/"
        },
        "id": "1Ut69S_Ff8X6",
        "outputId": "dad6a17c-68d0-4f8c-f32f-28c67f5b4f5a"
      },
      "execution_count": 22,
      "outputs": [
        {
          "output_type": "stream",
          "name": "stdout",
          "text": [
            "KNN Cross Validation Scores:  [0.85758865 0.86033682 0.86261068 0.86612176 0.87087518]\n",
            "KNN Average CV Score:  0.8635066181751204\n"
          ]
        }
      ]
    },
    {
      "cell_type": "markdown",
      "source": [
        "### < SVM Model Training >"
      ],
      "metadata": {
        "id": "qREat-rwiI2q"
      }
    },
    {
      "cell_type": "code",
      "source": [
        "svm_score = cross_val_score(model_svm, X_train, Y_train, cv = k_folds, scoring='precision')"
      ],
      "metadata": {
        "id": "a40BPsvlvAVl"
      },
      "execution_count": 21,
      "outputs": []
    },
    {
      "cell_type": "code",
      "source": [
        "print(\"SVM Cross Validation Scores: \", svm_score)\n",
        "print(\"SVM Average CV Score: \", svm_score.mean())"
      ],
      "metadata": {
        "colab": {
          "base_uri": "https://localhost:8080/"
        },
        "id": "MovmOxa-LEnD",
        "outputId": "45274624-74b7-461c-ffd6-b482820bb4a6"
      },
      "execution_count": 23,
      "outputs": [
        {
          "output_type": "stream",
          "name": "stdout",
          "text": [
            "SVM Cross Validation Scores:  [0.86484952 0.86231884 0.85763589 0.86303304 0.8696271 ]\n",
            "SVM Average CV Score:  0.8634928783539234\n"
          ]
        }
      ]
    },
    {
      "cell_type": "markdown",
      "source": [
        "### < Decision Tree Model Training >"
      ],
      "metadata": {
        "id": "maebxCrYiRbi"
      }
    },
    {
      "cell_type": "code",
      "source": [
        "dtree_score = cross_val_score(model_dtree, X_train, Y_train, cv = k_folds, scoring='precision')"
      ],
      "metadata": {
        "id": "upcP__4utUDS"
      },
      "execution_count": 24,
      "outputs": []
    },
    {
      "cell_type": "code",
      "source": [
        "print(\"Decision Tree Cross Validation Scores: \", dtree_score)\n",
        "print(\"Decision Tree Average CV Score: \", dtree_score.mean())"
      ],
      "metadata": {
        "colab": {
          "base_uri": "https://localhost:8080/"
        },
        "id": "8JFA7yfzt2Zj",
        "outputId": "dac356b1-ad46-4dec-d886-333a46aa086b"
      },
      "execution_count": 25,
      "outputs": [
        {
          "output_type": "stream",
          "name": "stdout",
          "text": [
            "Decision Tree Cross Validation Scores:  [0.85228909 0.87144482 0.86148649 0.86134934 0.87095843]\n",
            "Decision Tree Average CV Score:  0.8635056338873633\n"
          ]
        }
      ]
    },
    {
      "cell_type": "markdown",
      "source": [
        "### < Random Forest Model Training >"
      ],
      "metadata": {
        "id": "y6Ynx3WLiVGJ"
      }
    },
    {
      "cell_type": "code",
      "source": [
        "rf_score = cross_val_score(model_rf, X_train, Y_train, cv = k_folds, scoring='precision')"
      ],
      "metadata": {
        "id": "5ib1MIJJ7tbV"
      },
      "execution_count": 26,
      "outputs": []
    },
    {
      "cell_type": "code",
      "source": [
        "print(\"Random Forest Cross Validation Scores: \", rf_score)\n",
        "print(\"Random forest Average CV Score: \", rf_score.mean())"
      ],
      "metadata": {
        "colab": {
          "base_uri": "https://localhost:8080/"
        },
        "id": "5z3vDbGXLBSE",
        "outputId": "b3186dbf-9608-4159-d7fa-301df78b4c06"
      },
      "execution_count": 27,
      "outputs": [
        {
          "output_type": "stream",
          "name": "stdout",
          "text": [
            "Random Forest Cross Validation Scores:  [0.86201022 0.8656286  0.87393768 0.85690188 0.85901926]\n",
            "Random forest Average CV Score:  0.8634995301919901\n"
          ]
        }
      ]
    },
    {
      "cell_type": "markdown",
      "source": [
        "### < XGBoost Model Training >"
      ],
      "metadata": {
        "id": "pQGrlotqiXzE"
      }
    },
    {
      "cell_type": "code",
      "source": [
        "xgb_score = cross_val_score(model_xgb, X_train, Y_train, cv = k_folds, scoring='precision')"
      ],
      "metadata": {
        "id": "sL5eUf1hMPOC"
      },
      "execution_count": 28,
      "outputs": []
    },
    {
      "cell_type": "code",
      "source": [
        "print(\"XGBoost Cross Validation Scores: \", xgb_score)\n",
        "print(\"XGBoost forest Average CV Score: \", xgb_score.mean())"
      ],
      "metadata": {
        "colab": {
          "base_uri": "https://localhost:8080/"
        },
        "id": "ZPU0f7BrQNpW",
        "outputId": "ea65ab5b-dac5-4308-e175-058e386cb7b9"
      },
      "execution_count": 29,
      "outputs": [
        {
          "output_type": "stream",
          "name": "stdout",
          "text": [
            "XGBoost Cross Validation Scores:  [0.85990474 0.85493119 0.8650201  0.86635541 0.87135991]\n",
            "XGBoost forest Average CV Score:  0.8635142707389567\n"
          ]
        }
      ]
    },
    {
      "cell_type": "markdown",
      "source": [
        "***After training all the baseline model with precision as the evaluation metric, XGBoost comes out as the best performing model based on the average cross validation score.***"
      ],
      "metadata": {
        "id": "DN7WksfiMETG"
      }
    },
    {
      "cell_type": "markdown",
      "source": [
        "### < Hyperparameter Tuning the Best Model >\n",
        "\n",
        "after comparing 5 baseline model, we perform hyperparameter tuning on the best model"
      ],
      "metadata": {
        "id": "qiSlXOSV0Gfc"
      }
    },
    {
      "cell_type": "code",
      "source": [
        "xgb_params = {\n",
        "    'booster': ['gbtree', 'gblinear'],\n",
        "    'max_depth': [ 4, 5],\n",
        "    'min_child_weight': [5, 10],\n",
        "    'lambda': [1,2],\n",
        "    'gamma': [0.5, 1],\n",
        "    'subsample': [0.4, 0.8]\n",
        "}\n",
        "\n",
        "gridscv = GridSearchCV(model_xgb, param_grid=xgb_params, cv=5)\n",
        "gridscv.fit(X_train, Y_train)\n",
        "\n",
        "gridscv.best_params_"
      ],
      "metadata": {
        "id": "DO5-TEei0bks"
      },
      "execution_count": null,
      "outputs": []
    },
    {
      "cell_type": "code",
      "source": [
        "gridscv.best_params_"
      ],
      "metadata": {
        "colab": {
          "base_uri": "https://localhost:8080/"
        },
        "id": "_EEloSZhoXSO",
        "outputId": "471f0f17-46e3-4d67-8183-64fceee0159b"
      },
      "execution_count": 40,
      "outputs": [
        {
          "output_type": "execute_result",
          "data": {
            "text/plain": [
              "{'booster': 'gbtree',\n",
              " 'gamma': 0.5,\n",
              " 'lambda': 1,\n",
              " 'max_depth': 4,\n",
              " 'min_child_weight': 5,\n",
              " 'subsample': 0.4}"
            ]
          },
          "metadata": {},
          "execution_count": 40
        }
      ]
    },
    {
      "cell_type": "code",
      "source": [
        "# make pipeline containing column transformer\n",
        "model_xgb_tuned = Pipeline(\n",
        "  steps=[\n",
        "    (\"input processing\", input_transformer),\n",
        "    (\"Decision Tree Model\", XGBClassifier(booster='gbtree', gamma=0.5, reg_lambda=1, max_depth=4, min_child_weight=5, subsample=0.4))\n",
        "  ]\n",
        ")\n",
        "\n",
        "model_xgb_tuned.fit(X_train, Y_train)"
      ],
      "metadata": {
        "colab": {
          "base_uri": "https://localhost:8080/",
          "height": 193
        },
        "id": "RInMiA_wEyI8",
        "outputId": "576d9447-d74d-4fb0-c942-b0a6aa9b57df"
      },
      "execution_count": 46,
      "outputs": [
        {
          "output_type": "execute_result",
          "data": {
            "text/plain": [
              "Pipeline(steps=[('input processing',\n",
              "                 ColumnTransformer(transformers=[('select necessary feature',\n",
              "                                                  'passthrough',\n",
              "                                                  ['checked_delivery_detail',\n",
              "                                                   'sign_in',\n",
              "                                                   'saw_checkout'])])),\n",
              "                ('Decision Tree Model',\n",
              "                 XGBClassifier(base_score=None, booster='gbtree',\n",
              "                               callbacks=None, colsample_bylevel=None,\n",
              "                               colsample_bynode=None, colsample_bytree=None,\n",
              "                               early_stopping_rounds=None,\n",
              "                               enable_ca...\n",
              "                               feature_types=None, gamma=0.5, gpu_id=None,\n",
              "                               grow_policy=None, importance_type=None,\n",
              "                               interaction_constraints=None, learning_rate=None,\n",
              "                               max_bin=None, max_cat_threshold=None,\n",
              "                               max_cat_to_onehot=None, max_delta_step=None,\n",
              "                               max_depth=4, max_leaves=None, min_child_weight=5,\n",
              "                               missing=nan, monotone_constraints=None,\n",
              "                               n_estimators=100, n_jobs=None,\n",
              "                               num_parallel_tree=None, predictor=None,\n",
              "                               random_state=None, ...))])"
            ],
            "text/html": [
              "<style>#sk-container-id-4 {color: black;background-color: white;}#sk-container-id-4 pre{padding: 0;}#sk-container-id-4 div.sk-toggleable {background-color: white;}#sk-container-id-4 label.sk-toggleable__label {cursor: pointer;display: block;width: 100%;margin-bottom: 0;padding: 0.3em;box-sizing: border-box;text-align: center;}#sk-container-id-4 label.sk-toggleable__label-arrow:before {content: \"▸\";float: left;margin-right: 0.25em;color: #696969;}#sk-container-id-4 label.sk-toggleable__label-arrow:hover:before {color: black;}#sk-container-id-4 div.sk-estimator:hover label.sk-toggleable__label-arrow:before {color: black;}#sk-container-id-4 div.sk-toggleable__content {max-height: 0;max-width: 0;overflow: hidden;text-align: left;background-color: #f0f8ff;}#sk-container-id-4 div.sk-toggleable__content pre {margin: 0.2em;color: black;border-radius: 0.25em;background-color: #f0f8ff;}#sk-container-id-4 input.sk-toggleable__control:checked~div.sk-toggleable__content {max-height: 200px;max-width: 100%;overflow: auto;}#sk-container-id-4 input.sk-toggleable__control:checked~label.sk-toggleable__label-arrow:before {content: \"▾\";}#sk-container-id-4 div.sk-estimator input.sk-toggleable__control:checked~label.sk-toggleable__label {background-color: #d4ebff;}#sk-container-id-4 div.sk-label input.sk-toggleable__control:checked~label.sk-toggleable__label {background-color: #d4ebff;}#sk-container-id-4 input.sk-hidden--visually {border: 0;clip: rect(1px 1px 1px 1px);clip: rect(1px, 1px, 1px, 1px);height: 1px;margin: -1px;overflow: hidden;padding: 0;position: absolute;width: 1px;}#sk-container-id-4 div.sk-estimator {font-family: monospace;background-color: #f0f8ff;border: 1px dotted black;border-radius: 0.25em;box-sizing: border-box;margin-bottom: 0.5em;}#sk-container-id-4 div.sk-estimator:hover {background-color: #d4ebff;}#sk-container-id-4 div.sk-parallel-item::after {content: \"\";width: 100%;border-bottom: 1px solid gray;flex-grow: 1;}#sk-container-id-4 div.sk-label:hover label.sk-toggleable__label {background-color: #d4ebff;}#sk-container-id-4 div.sk-serial::before {content: \"\";position: absolute;border-left: 1px solid gray;box-sizing: border-box;top: 0;bottom: 0;left: 50%;z-index: 0;}#sk-container-id-4 div.sk-serial {display: flex;flex-direction: column;align-items: center;background-color: white;padding-right: 0.2em;padding-left: 0.2em;position: relative;}#sk-container-id-4 div.sk-item {position: relative;z-index: 1;}#sk-container-id-4 div.sk-parallel {display: flex;align-items: stretch;justify-content: center;background-color: white;position: relative;}#sk-container-id-4 div.sk-item::before, #sk-container-id-4 div.sk-parallel-item::before {content: \"\";position: absolute;border-left: 1px solid gray;box-sizing: border-box;top: 0;bottom: 0;left: 50%;z-index: -1;}#sk-container-id-4 div.sk-parallel-item {display: flex;flex-direction: column;z-index: 1;position: relative;background-color: white;}#sk-container-id-4 div.sk-parallel-item:first-child::after {align-self: flex-end;width: 50%;}#sk-container-id-4 div.sk-parallel-item:last-child::after {align-self: flex-start;width: 50%;}#sk-container-id-4 div.sk-parallel-item:only-child::after {width: 0;}#sk-container-id-4 div.sk-dashed-wrapped {border: 1px dashed gray;margin: 0 0.4em 0.5em 0.4em;box-sizing: border-box;padding-bottom: 0.4em;background-color: white;}#sk-container-id-4 div.sk-label label {font-family: monospace;font-weight: bold;display: inline-block;line-height: 1.2em;}#sk-container-id-4 div.sk-label-container {text-align: center;}#sk-container-id-4 div.sk-container {/* jupyter's `normalize.less` sets `[hidden] { display: none; }` but bootstrap.min.css set `[hidden] { display: none !important; }` so we also need the `!important` here to be able to override the default hidden behavior on the sphinx rendered scikit-learn.org. See: https://github.com/scikit-learn/scikit-learn/issues/21755 */display: inline-block !important;position: relative;}#sk-container-id-4 div.sk-text-repr-fallback {display: none;}</style><div id=\"sk-container-id-4\" class=\"sk-top-container\"><div class=\"sk-text-repr-fallback\"><pre>Pipeline(steps=[(&#x27;input processing&#x27;,\n",
              "                 ColumnTransformer(transformers=[(&#x27;select necessary feature&#x27;,\n",
              "                                                  &#x27;passthrough&#x27;,\n",
              "                                                  [&#x27;checked_delivery_detail&#x27;,\n",
              "                                                   &#x27;sign_in&#x27;,\n",
              "                                                   &#x27;saw_checkout&#x27;])])),\n",
              "                (&#x27;Decision Tree Model&#x27;,\n",
              "                 XGBClassifier(base_score=None, booster=&#x27;gbtree&#x27;,\n",
              "                               callbacks=None, colsample_bylevel=None,\n",
              "                               colsample_bynode=None, colsample_bytree=None,\n",
              "                               early_stopping_rounds=None,\n",
              "                               enable_ca...\n",
              "                               feature_types=None, gamma=0.5, gpu_id=None,\n",
              "                               grow_policy=None, importance_type=None,\n",
              "                               interaction_constraints=None, learning_rate=None,\n",
              "                               max_bin=None, max_cat_threshold=None,\n",
              "                               max_cat_to_onehot=None, max_delta_step=None,\n",
              "                               max_depth=4, max_leaves=None, min_child_weight=5,\n",
              "                               missing=nan, monotone_constraints=None,\n",
              "                               n_estimators=100, n_jobs=None,\n",
              "                               num_parallel_tree=None, predictor=None,\n",
              "                               random_state=None, ...))])</pre><b>In a Jupyter environment, please rerun this cell to show the HTML representation or trust the notebook. <br />On GitHub, the HTML representation is unable to render, please try loading this page with nbviewer.org.</b></div><div class=\"sk-container\" hidden><div class=\"sk-item sk-dashed-wrapped\"><div class=\"sk-label-container\"><div class=\"sk-label sk-toggleable\"><input class=\"sk-toggleable__control sk-hidden--visually\" id=\"sk-estimator-id-8\" type=\"checkbox\" ><label for=\"sk-estimator-id-8\" class=\"sk-toggleable__label sk-toggleable__label-arrow\">Pipeline</label><div class=\"sk-toggleable__content\"><pre>Pipeline(steps=[(&#x27;input processing&#x27;,\n",
              "                 ColumnTransformer(transformers=[(&#x27;select necessary feature&#x27;,\n",
              "                                                  &#x27;passthrough&#x27;,\n",
              "                                                  [&#x27;checked_delivery_detail&#x27;,\n",
              "                                                   &#x27;sign_in&#x27;,\n",
              "                                                   &#x27;saw_checkout&#x27;])])),\n",
              "                (&#x27;Decision Tree Model&#x27;,\n",
              "                 XGBClassifier(base_score=None, booster=&#x27;gbtree&#x27;,\n",
              "                               callbacks=None, colsample_bylevel=None,\n",
              "                               colsample_bynode=None, colsample_bytree=None,\n",
              "                               early_stopping_rounds=None,\n",
              "                               enable_ca...\n",
              "                               feature_types=None, gamma=0.5, gpu_id=None,\n",
              "                               grow_policy=None, importance_type=None,\n",
              "                               interaction_constraints=None, learning_rate=None,\n",
              "                               max_bin=None, max_cat_threshold=None,\n",
              "                               max_cat_to_onehot=None, max_delta_step=None,\n",
              "                               max_depth=4, max_leaves=None, min_child_weight=5,\n",
              "                               missing=nan, monotone_constraints=None,\n",
              "                               n_estimators=100, n_jobs=None,\n",
              "                               num_parallel_tree=None, predictor=None,\n",
              "                               random_state=None, ...))])</pre></div></div></div><div class=\"sk-serial\"><div class=\"sk-item sk-dashed-wrapped\"><div class=\"sk-label-container\"><div class=\"sk-label sk-toggleable\"><input class=\"sk-toggleable__control sk-hidden--visually\" id=\"sk-estimator-id-9\" type=\"checkbox\" ><label for=\"sk-estimator-id-9\" class=\"sk-toggleable__label sk-toggleable__label-arrow\">input processing: ColumnTransformer</label><div class=\"sk-toggleable__content\"><pre>ColumnTransformer(transformers=[(&#x27;select necessary feature&#x27;, &#x27;passthrough&#x27;,\n",
              "                                 [&#x27;checked_delivery_detail&#x27;, &#x27;sign_in&#x27;,\n",
              "                                  &#x27;saw_checkout&#x27;])])</pre></div></div></div><div class=\"sk-parallel\"><div class=\"sk-parallel-item\"><div class=\"sk-item\"><div class=\"sk-label-container\"><div class=\"sk-label sk-toggleable\"><input class=\"sk-toggleable__control sk-hidden--visually\" id=\"sk-estimator-id-10\" type=\"checkbox\" ><label for=\"sk-estimator-id-10\" class=\"sk-toggleable__label sk-toggleable__label-arrow\">select necessary feature</label><div class=\"sk-toggleable__content\"><pre>[&#x27;checked_delivery_detail&#x27;, &#x27;sign_in&#x27;, &#x27;saw_checkout&#x27;]</pre></div></div></div><div class=\"sk-serial\"><div class=\"sk-item\"><div class=\"sk-estimator sk-toggleable\"><input class=\"sk-toggleable__control sk-hidden--visually\" id=\"sk-estimator-id-11\" type=\"checkbox\" ><label for=\"sk-estimator-id-11\" class=\"sk-toggleable__label sk-toggleable__label-arrow\">passthrough</label><div class=\"sk-toggleable__content\"><pre>passthrough</pre></div></div></div></div></div></div></div></div><div class=\"sk-item\"><div class=\"sk-estimator sk-toggleable\"><input class=\"sk-toggleable__control sk-hidden--visually\" id=\"sk-estimator-id-12\" type=\"checkbox\" ><label for=\"sk-estimator-id-12\" class=\"sk-toggleable__label sk-toggleable__label-arrow\">XGBClassifier</label><div class=\"sk-toggleable__content\"><pre>XGBClassifier(base_score=None, booster=&#x27;gbtree&#x27;, callbacks=None,\n",
              "              colsample_bylevel=None, colsample_bynode=None,\n",
              "              colsample_bytree=None, early_stopping_rounds=None,\n",
              "              enable_categorical=False, eval_metric=None, feature_types=None,\n",
              "              gamma=0.5, gpu_id=None, grow_policy=None, importance_type=None,\n",
              "              interaction_constraints=None, learning_rate=None, max_bin=None,\n",
              "              max_cat_threshold=None, max_cat_to_onehot=None,\n",
              "              max_delta_step=None, max_depth=4, max_leaves=None,\n",
              "              min_child_weight=5, missing=nan, monotone_constraints=None,\n",
              "              n_estimators=100, n_jobs=None, num_parallel_tree=None,\n",
              "              predictor=None, random_state=None, ...)</pre></div></div></div></div></div></div></div>"
            ]
          },
          "metadata": {},
          "execution_count": 46
        }
      ]
    },
    {
      "cell_type": "markdown",
      "source": [
        "# VIII. MODEL EVALUATION"
      ],
      "metadata": {
        "id": "4qMd7-NSRSJA"
      }
    },
    {
      "cell_type": "markdown",
      "source": [
        "1. Accuracy : Accuracy measure the total correct prediction divide by the total number of predictions a model make. Accuracy can be misleading in imbalanced dataset. So its only viable on when the dataset is balanced\n",
        "\n",
        "2. Precision : a metric that measures how often a model correctly predicts the positive class. It's used if we're looking to minimize False Positive to be as low as possible. Example of minimizing false positive is, when you dont want a model to misclassify a non employee as employee that can sneak inside a private building\n",
        "\n",
        "3. Recall :  a metric that measures how often a model correctly identifies positive instances (True Positive) from all the actual positive samples in the dataset. It's used if we're looking to minimize False Negative to be as low as possible. Example of minimizing false negative is, when you dont want the model to falsely identify someone as healty but he/she actually carry a disease.\n",
        "\n",
        "4. F1 Score : harmonic mean of precision and recall. The metric is useful if we were looking to minimize false positive and false negative at the same time.\n",
        "\n",
        "* Accuracy, Precision, Recall, and F1 Score have scale : 0 - 1. The higher the value, the better."
      ],
      "metadata": {
        "id": "zG8o8sBT3Myt"
      }
    },
    {
      "cell_type": "markdown",
      "source": [
        "### < Non Tuned Model Evaluation >"
      ],
      "metadata": {
        "id": "W-pFYVHKGg5z"
      }
    },
    {
      "cell_type": "code",
      "source": [
        "model_xgb.fit(X_train, Y_train)"
      ],
      "metadata": {
        "id": "i-15jmaJG8E8",
        "colab": {
          "base_uri": "https://localhost:8080/",
          "height": 253
        },
        "outputId": "670765fe-286a-4486-b986-9c025f415212"
      },
      "execution_count": 48,
      "outputs": [
        {
          "output_type": "execute_result",
          "data": {
            "text/plain": [
              "XGBClassifier(base_score=None, booster=None, callbacks=None,\n",
              "              colsample_bylevel=None, colsample_bynode=None,\n",
              "              colsample_bytree=None, early_stopping_rounds=None,\n",
              "              enable_categorical=False, eval_metric=None, feature_types=None,\n",
              "              gamma=None, gpu_id=None, grow_policy=None, importance_type=None,\n",
              "              interaction_constraints=None, learning_rate=None, max_bin=None,\n",
              "              max_cat_threshold=None, max_cat_to_onehot=None,\n",
              "              max_delta_step=None, max_depth=None, max_leaves=None,\n",
              "              min_child_weight=None, missing=nan, monotone_constraints=None,\n",
              "              n_estimators=100, n_jobs=None, num_parallel_tree=None,\n",
              "              predictor=None, random_state=None, ...)"
            ],
            "text/html": [
              "<style>#sk-container-id-5 {color: black;background-color: white;}#sk-container-id-5 pre{padding: 0;}#sk-container-id-5 div.sk-toggleable {background-color: white;}#sk-container-id-5 label.sk-toggleable__label {cursor: pointer;display: block;width: 100%;margin-bottom: 0;padding: 0.3em;box-sizing: border-box;text-align: center;}#sk-container-id-5 label.sk-toggleable__label-arrow:before {content: \"▸\";float: left;margin-right: 0.25em;color: #696969;}#sk-container-id-5 label.sk-toggleable__label-arrow:hover:before {color: black;}#sk-container-id-5 div.sk-estimator:hover label.sk-toggleable__label-arrow:before {color: black;}#sk-container-id-5 div.sk-toggleable__content {max-height: 0;max-width: 0;overflow: hidden;text-align: left;background-color: #f0f8ff;}#sk-container-id-5 div.sk-toggleable__content pre {margin: 0.2em;color: black;border-radius: 0.25em;background-color: #f0f8ff;}#sk-container-id-5 input.sk-toggleable__control:checked~div.sk-toggleable__content {max-height: 200px;max-width: 100%;overflow: auto;}#sk-container-id-5 input.sk-toggleable__control:checked~label.sk-toggleable__label-arrow:before {content: \"▾\";}#sk-container-id-5 div.sk-estimator input.sk-toggleable__control:checked~label.sk-toggleable__label {background-color: #d4ebff;}#sk-container-id-5 div.sk-label input.sk-toggleable__control:checked~label.sk-toggleable__label {background-color: #d4ebff;}#sk-container-id-5 input.sk-hidden--visually {border: 0;clip: rect(1px 1px 1px 1px);clip: rect(1px, 1px, 1px, 1px);height: 1px;margin: -1px;overflow: hidden;padding: 0;position: absolute;width: 1px;}#sk-container-id-5 div.sk-estimator {font-family: monospace;background-color: #f0f8ff;border: 1px dotted black;border-radius: 0.25em;box-sizing: border-box;margin-bottom: 0.5em;}#sk-container-id-5 div.sk-estimator:hover {background-color: #d4ebff;}#sk-container-id-5 div.sk-parallel-item::after {content: \"\";width: 100%;border-bottom: 1px solid gray;flex-grow: 1;}#sk-container-id-5 div.sk-label:hover label.sk-toggleable__label {background-color: #d4ebff;}#sk-container-id-5 div.sk-serial::before {content: \"\";position: absolute;border-left: 1px solid gray;box-sizing: border-box;top: 0;bottom: 0;left: 50%;z-index: 0;}#sk-container-id-5 div.sk-serial {display: flex;flex-direction: column;align-items: center;background-color: white;padding-right: 0.2em;padding-left: 0.2em;position: relative;}#sk-container-id-5 div.sk-item {position: relative;z-index: 1;}#sk-container-id-5 div.sk-parallel {display: flex;align-items: stretch;justify-content: center;background-color: white;position: relative;}#sk-container-id-5 div.sk-item::before, #sk-container-id-5 div.sk-parallel-item::before {content: \"\";position: absolute;border-left: 1px solid gray;box-sizing: border-box;top: 0;bottom: 0;left: 50%;z-index: -1;}#sk-container-id-5 div.sk-parallel-item {display: flex;flex-direction: column;z-index: 1;position: relative;background-color: white;}#sk-container-id-5 div.sk-parallel-item:first-child::after {align-self: flex-end;width: 50%;}#sk-container-id-5 div.sk-parallel-item:last-child::after {align-self: flex-start;width: 50%;}#sk-container-id-5 div.sk-parallel-item:only-child::after {width: 0;}#sk-container-id-5 div.sk-dashed-wrapped {border: 1px dashed gray;margin: 0 0.4em 0.5em 0.4em;box-sizing: border-box;padding-bottom: 0.4em;background-color: white;}#sk-container-id-5 div.sk-label label {font-family: monospace;font-weight: bold;display: inline-block;line-height: 1.2em;}#sk-container-id-5 div.sk-label-container {text-align: center;}#sk-container-id-5 div.sk-container {/* jupyter's `normalize.less` sets `[hidden] { display: none; }` but bootstrap.min.css set `[hidden] { display: none !important; }` so we also need the `!important` here to be able to override the default hidden behavior on the sphinx rendered scikit-learn.org. See: https://github.com/scikit-learn/scikit-learn/issues/21755 */display: inline-block !important;position: relative;}#sk-container-id-5 div.sk-text-repr-fallback {display: none;}</style><div id=\"sk-container-id-5\" class=\"sk-top-container\"><div class=\"sk-text-repr-fallback\"><pre>XGBClassifier(base_score=None, booster=None, callbacks=None,\n",
              "              colsample_bylevel=None, colsample_bynode=None,\n",
              "              colsample_bytree=None, early_stopping_rounds=None,\n",
              "              enable_categorical=False, eval_metric=None, feature_types=None,\n",
              "              gamma=None, gpu_id=None, grow_policy=None, importance_type=None,\n",
              "              interaction_constraints=None, learning_rate=None, max_bin=None,\n",
              "              max_cat_threshold=None, max_cat_to_onehot=None,\n",
              "              max_delta_step=None, max_depth=None, max_leaves=None,\n",
              "              min_child_weight=None, missing=nan, monotone_constraints=None,\n",
              "              n_estimators=100, n_jobs=None, num_parallel_tree=None,\n",
              "              predictor=None, random_state=None, ...)</pre><b>In a Jupyter environment, please rerun this cell to show the HTML representation or trust the notebook. <br />On GitHub, the HTML representation is unable to render, please try loading this page with nbviewer.org.</b></div><div class=\"sk-container\" hidden><div class=\"sk-item\"><div class=\"sk-estimator sk-toggleable\"><input class=\"sk-toggleable__control sk-hidden--visually\" id=\"sk-estimator-id-13\" type=\"checkbox\" checked><label for=\"sk-estimator-id-13\" class=\"sk-toggleable__label sk-toggleable__label-arrow\">XGBClassifier</label><div class=\"sk-toggleable__content\"><pre>XGBClassifier(base_score=None, booster=None, callbacks=None,\n",
              "              colsample_bylevel=None, colsample_bynode=None,\n",
              "              colsample_bytree=None, early_stopping_rounds=None,\n",
              "              enable_categorical=False, eval_metric=None, feature_types=None,\n",
              "              gamma=None, gpu_id=None, grow_policy=None, importance_type=None,\n",
              "              interaction_constraints=None, learning_rate=None, max_bin=None,\n",
              "              max_cat_threshold=None, max_cat_to_onehot=None,\n",
              "              max_delta_step=None, max_depth=None, max_leaves=None,\n",
              "              min_child_weight=None, missing=nan, monotone_constraints=None,\n",
              "              n_estimators=100, n_jobs=None, num_parallel_tree=None,\n",
              "              predictor=None, random_state=None, ...)</pre></div></div></div></div></div>"
            ]
          },
          "metadata": {},
          "execution_count": 48
        }
      ]
    },
    {
      "cell_type": "code",
      "source": [
        "Y_train_pred = model_xgb.predict(X_train)\n",
        "Y_test_pred = model_xgb.predict(X_test[selected_feature])\n",
        "\n",
        "print('Training Report for Decision Tree Model')\n",
        "print(classification_report(Y_train, Y_train_pred))\n",
        "print('------------------------------------------------------')\n",
        "\n",
        "print('Testing Report for Decision Tree Model')\n",
        "print(classification_report(Y_test, Y_test_pred))"
      ],
      "metadata": {
        "colab": {
          "base_uri": "https://localhost:8080/"
        },
        "id": "NRjlpyiYX0Yi",
        "outputId": "962f4c0a-41f8-45ba-e1a4-922369aafc4d"
      },
      "execution_count": 49,
      "outputs": [
        {
          "output_type": "stream",
          "name": "stdout",
          "text": [
            "Training Report for Decision Tree Model\n",
            "              precision    recall  f1-score   support\n",
            "\n",
            "           0       1.00      0.99      1.00    349045\n",
            "           1       0.86      0.99      0.92     15275\n",
            "\n",
            "    accuracy                           0.99    364320\n",
            "   macro avg       0.93      0.99      0.96    364320\n",
            "weighted avg       0.99      0.99      0.99    364320\n",
            "\n",
            "------------------------------------------------------\n",
            "Testing Report for Decision Tree Model\n",
            "              precision    recall  f1-score   support\n",
            "\n",
            "           0       1.00      0.99      1.00     87263\n",
            "           1       0.86      0.99      0.92      3818\n",
            "\n",
            "    accuracy                           0.99     91081\n",
            "   macro avg       0.93      0.99      0.96     91081\n",
            "weighted avg       0.99      0.99      0.99     91081\n",
            "\n"
          ]
        }
      ]
    },
    {
      "cell_type": "markdown",
      "source": [
        "*** Interpreting the evaluation result of baseline XGBoost model*** :\n",
        "\n",
        "In our case, we want to focus on the ability of our model to correctly classify customers who're actually ordering so the relevant evaluation metric is precision on class 1 (customer made an order).\n",
        "\n",
        "On the training set, the performance of the model is considerably good where it can be interpreted that our model are correct 86% of the time when predicting a customer who's actually going to order.\n",
        "\n",
        "On the test set, the baseline model display an identical performance indicating its ability to generalize well on unseen data.\n",
        "\n",
        "to conclude, the baseline XGBoost model are viable even without performing additional tuning on the model."
      ],
      "metadata": {
        "id": "sUCzB4Qmxkn8"
      }
    },
    {
      "cell_type": "markdown",
      "source": [
        "### < Tuned Model Evaluation >"
      ],
      "metadata": {
        "id": "5AOwxdHxG3FM"
      }
    },
    {
      "cell_type": "code",
      "source": [
        "Y_train_pred = model_xgb_tuned.predict(X_train)\n",
        "Y_test_pred = model_xgb_tuned.predict(X_test)\n",
        "\n",
        "print('Training Report for Decision Tree Model')\n",
        "print(classification_report(Y_train, Y_train_pred))\n",
        "print('------------------------------------------------------')\n",
        "\n",
        "print('Testing Report for Decision Tree Model')\n",
        "print(classification_report(Y_test, Y_test_pred))"
      ],
      "metadata": {
        "colab": {
          "base_uri": "https://localhost:8080/"
        },
        "id": "eAij4dVsyT7n",
        "outputId": "73d91f5b-fe32-4512-b248-7cd16afdbbdc"
      },
      "execution_count": 50,
      "outputs": [
        {
          "output_type": "stream",
          "name": "stdout",
          "text": [
            "Training Report for Decision Tree Model\n",
            "              precision    recall  f1-score   support\n",
            "\n",
            "           0       1.00      0.99      1.00    349045\n",
            "           1       0.86      0.99      0.92     15275\n",
            "\n",
            "    accuracy                           0.99    364320\n",
            "   macro avg       0.93      0.99      0.96    364320\n",
            "weighted avg       0.99      0.99      0.99    364320\n",
            "\n",
            "------------------------------------------------------\n",
            "Testing Report for Decision Tree Model\n",
            "              precision    recall  f1-score   support\n",
            "\n",
            "           0       1.00      0.99      1.00     87263\n",
            "           1       0.86      0.99      0.92      3818\n",
            "\n",
            "    accuracy                           0.99     91081\n",
            "   macro avg       0.93      0.99      0.96     91081\n",
            "weighted avg       0.99      0.99      0.99     91081\n",
            "\n"
          ]
        }
      ]
    },
    {
      "cell_type": "code",
      "source": [
        "Y_test_pred = model_xgb_tuned.predict(X_test)\n",
        "cm = confusion_matrix(Y_test, Y_test_pred)\n",
        "disp = ConfusionMatrixDisplay(confusion_matrix=cm, display_labels=['not ordered', 'ordered'])\n",
        "disp.plot(cmap='GnBu')\n",
        "plt.show()"
      ],
      "metadata": {
        "colab": {
          "base_uri": "https://localhost:8080/",
          "height": 449
        },
        "id": "0UGJQ1WQ2xyQ",
        "outputId": "f0d0bb87-a6ad-42e3-b021-fac0cbb39a57"
      },
      "execution_count": 52,
      "outputs": [
        {
          "output_type": "display_data",
          "data": {
            "text/plain": [
              "<Figure size 640x480 with 2 Axes>"
            ],
            "image/png": "[encoded data removed]"
          },
          "metadata": {}
        }
      ]
    },
    {
      "cell_type": "markdown",
      "source": [
        "*** Interpreting the evaluation result of baseline XGBoost model*** :\n",
        "\n",
        "During hyperparemeter tuning the author employ 64 set combination from 5 different parameters. On the training set, the performance of tuned model is considerably good where it can be interpreted that our model are correct 86% of the time when predicting a customer who's actually going to order. But this performance is not any better from the non-tuned model\n",
        "\n",
        "On the test set, the baseline model also display an identical performance to the train set. The tuned model show a good generalization ability towards unseen data though this performance is not better than the untuned model. From the confusion matrix it can be seen that out of 4386 total prediction where the model predict a customer will order, the model is correct 3782 times and wrong 604 times. It signify that the model is correct 6 out of 7 times which is quite promising.\n",
        "\n",
        "to conclude, the tuned XGBoost model are viable but its not yielding a better performance compared to the baseline model."
      ],
      "metadata": {
        "id": "mBS0NVRo03VH"
      }
    },
    {
      "cell_type": "markdown",
      "source": [
        "ROC AUC Score"
      ],
      "metadata": {
        "id": "fj1cQ7835QVG"
      }
    },
    {
      "cell_type": "markdown",
      "source": [
        "### < Evaluating Tuned Model on oversampled data >"
      ],
      "metadata": {
        "id": "RKNN47ZYEWmc"
      }
    },
    {
      "cell_type": "code",
      "source": [
        "model_xgb_tuned.fit(X_train_oversampled, Y_train_oversampled)"
      ],
      "metadata": {
        "colab": {
          "base_uri": "https://localhost:8080/",
          "height": 193
        },
        "id": "t9QrvGl_tJCS",
        "outputId": "b8caacc6-94f3-4e6f-b0de-d020e1a08c21"
      },
      "execution_count": 53,
      "outputs": [
        {
          "output_type": "execute_result",
          "data": {
            "text/plain": [
              "Pipeline(steps=[('input processing',\n",
              "                 ColumnTransformer(transformers=[('select necessary feature',\n",
              "                                                  'passthrough',\n",
              "                                                  ['checked_delivery_detail',\n",
              "                                                   'sign_in',\n",
              "                                                   'saw_checkout'])])),\n",
              "                ('Decision Tree Model',\n",
              "                 XGBClassifier(base_score=None, booster='gbtree',\n",
              "                               callbacks=None, colsample_bylevel=None,\n",
              "                               colsample_bynode=None, colsample_bytree=None,\n",
              "                               early_stopping_rounds=None,\n",
              "                               enable_ca...\n",
              "                               feature_types=None, gamma=0.5, gpu_id=None,\n",
              "                               grow_policy=None, importance_type=None,\n",
              "                               interaction_constraints=None, learning_rate=None,\n",
              "                               max_bin=None, max_cat_threshold=None,\n",
              "                               max_cat_to_onehot=None, max_delta_step=None,\n",
              "                               max_depth=4, max_leaves=None, min_child_weight=5,\n",
              "                               missing=nan, monotone_constraints=None,\n",
              "                               n_estimators=100, n_jobs=None,\n",
              "                               num_parallel_tree=None, predictor=None,\n",
              "                               random_state=None, ...))])"
            ],
            "text/html": [
              "<style>#sk-container-id-6 {color: black;background-color: white;}#sk-container-id-6 pre{padding: 0;}#sk-container-id-6 div.sk-toggleable {background-color: white;}#sk-container-id-6 label.sk-toggleable__label {cursor: pointer;display: block;width: 100%;margin-bottom: 0;padding: 0.3em;box-sizing: border-box;text-align: center;}#sk-container-id-6 label.sk-toggleable__label-arrow:before {content: \"▸\";float: left;margin-right: 0.25em;color: #696969;}#sk-container-id-6 label.sk-toggleable__label-arrow:hover:before {color: black;}#sk-container-id-6 div.sk-estimator:hover label.sk-toggleable__label-arrow:before {color: black;}#sk-container-id-6 div.sk-toggleable__content {max-height: 0;max-width: 0;overflow: hidden;text-align: left;background-color: #f0f8ff;}#sk-container-id-6 div.sk-toggleable__content pre {margin: 0.2em;color: black;border-radius: 0.25em;background-color: #f0f8ff;}#sk-container-id-6 input.sk-toggleable__control:checked~div.sk-toggleable__content {max-height: 200px;max-width: 100%;overflow: auto;}#sk-container-id-6 input.sk-toggleable__control:checked~label.sk-toggleable__label-arrow:before {content: \"▾\";}#sk-container-id-6 div.sk-estimator input.sk-toggleable__control:checked~label.sk-toggleable__label {background-color: #d4ebff;}#sk-container-id-6 div.sk-label input.sk-toggleable__control:checked~label.sk-toggleable__label {background-color: #d4ebff;}#sk-container-id-6 input.sk-hidden--visually {border: 0;clip: rect(1px 1px 1px 1px);clip: rect(1px, 1px, 1px, 1px);height: 1px;margin: -1px;overflow: hidden;padding: 0;position: absolute;width: 1px;}#sk-container-id-6 div.sk-estimator {font-family: monospace;background-color: #f0f8ff;border: 1px dotted black;border-radius: 0.25em;box-sizing: border-box;margin-bottom: 0.5em;}#sk-container-id-6 div.sk-estimator:hover {background-color: #d4ebff;}#sk-container-id-6 div.sk-parallel-item::after {content: \"\";width: 100%;border-bottom: 1px solid gray;flex-grow: 1;}#sk-container-id-6 div.sk-label:hover label.sk-toggleable__label {background-color: #d4ebff;}#sk-container-id-6 div.sk-serial::before {content: \"\";position: absolute;border-left: 1px solid gray;box-sizing: border-box;top: 0;bottom: 0;left: 50%;z-index: 0;}#sk-container-id-6 div.sk-serial {display: flex;flex-direction: column;align-items: center;background-color: white;padding-right: 0.2em;padding-left: 0.2em;position: relative;}#sk-container-id-6 div.sk-item {position: relative;z-index: 1;}#sk-container-id-6 div.sk-parallel {display: flex;align-items: stretch;justify-content: center;background-color: white;position: relative;}#sk-container-id-6 div.sk-item::before, #sk-container-id-6 div.sk-parallel-item::before {content: \"\";position: absolute;border-left: 1px solid gray;box-sizing: border-box;top: 0;bottom: 0;left: 50%;z-index: -1;}#sk-container-id-6 div.sk-parallel-item {display: flex;flex-direction: column;z-index: 1;position: relative;background-color: white;}#sk-container-id-6 div.sk-parallel-item:first-child::after {align-self: flex-end;width: 50%;}#sk-container-id-6 div.sk-parallel-item:last-child::after {align-self: flex-start;width: 50%;}#sk-container-id-6 div.sk-parallel-item:only-child::after {width: 0;}#sk-container-id-6 div.sk-dashed-wrapped {border: 1px dashed gray;margin: 0 0.4em 0.5em 0.4em;box-sizing: border-box;padding-bottom: 0.4em;background-color: white;}#sk-container-id-6 div.sk-label label {font-family: monospace;font-weight: bold;display: inline-block;line-height: 1.2em;}#sk-container-id-6 div.sk-label-container {text-align: center;}#sk-container-id-6 div.sk-container {/* jupyter's `normalize.less` sets `[hidden] { display: none; }` but bootstrap.min.css set `[hidden] { display: none !important; }` so we also need the `!important` here to be able to override the default hidden behavior on the sphinx rendered scikit-learn.org. See: https://github.com/scikit-learn/scikit-learn/issues/21755 */display: inline-block !important;position: relative;}#sk-container-id-6 div.sk-text-repr-fallback {display: none;}</style><div id=\"sk-container-id-6\" class=\"sk-top-container\"><div class=\"sk-text-repr-fallback\"><pre>Pipeline(steps=[(&#x27;input processing&#x27;,\n",
              "                 ColumnTransformer(transformers=[(&#x27;select necessary feature&#x27;,\n",
              "                                                  &#x27;passthrough&#x27;,\n",
              "                                                  [&#x27;checked_delivery_detail&#x27;,\n",
              "                                                   &#x27;sign_in&#x27;,\n",
              "                                                   &#x27;saw_checkout&#x27;])])),\n",
              "                (&#x27;Decision Tree Model&#x27;,\n",
              "                 XGBClassifier(base_score=None, booster=&#x27;gbtree&#x27;,\n",
              "                               callbacks=None, colsample_bylevel=None,\n",
              "                               colsample_bynode=None, colsample_bytree=None,\n",
              "                               early_stopping_rounds=None,\n",
              "                               enable_ca...\n",
              "                               feature_types=None, gamma=0.5, gpu_id=None,\n",
              "                               grow_policy=None, importance_type=None,\n",
              "                               interaction_constraints=None, learning_rate=None,\n",
              "                               max_bin=None, max_cat_threshold=None,\n",
              "                               max_cat_to_onehot=None, max_delta_step=None,\n",
              "                               max_depth=4, max_leaves=None, min_child_weight=5,\n",
              "                               missing=nan, monotone_constraints=None,\n",
              "                               n_estimators=100, n_jobs=None,\n",
              "                               num_parallel_tree=None, predictor=None,\n",
              "                               random_state=None, ...))])</pre><b>In a Jupyter environment, please rerun this cell to show the HTML representation or trust the notebook. <br />On GitHub, the HTML representation is unable to render, please try loading this page with nbviewer.org.</b></div><div class=\"sk-container\" hidden><div class=\"sk-item sk-dashed-wrapped\"><div class=\"sk-label-container\"><div class=\"sk-label sk-toggleable\"><input class=\"sk-toggleable__control sk-hidden--visually\" id=\"sk-estimator-id-14\" type=\"checkbox\" ><label for=\"sk-estimator-id-14\" class=\"sk-toggleable__label sk-toggleable__label-arrow\">Pipeline</label><div class=\"sk-toggleable__content\"><pre>Pipeline(steps=[(&#x27;input processing&#x27;,\n",
              "                 ColumnTransformer(transformers=[(&#x27;select necessary feature&#x27;,\n",
              "                                                  &#x27;passthrough&#x27;,\n",
              "                                                  [&#x27;checked_delivery_detail&#x27;,\n",
              "                                                   &#x27;sign_in&#x27;,\n",
              "                                                   &#x27;saw_checkout&#x27;])])),\n",
              "                (&#x27;Decision Tree Model&#x27;,\n",
              "                 XGBClassifier(base_score=None, booster=&#x27;gbtree&#x27;,\n",
              "                               callbacks=None, colsample_bylevel=None,\n",
              "                               colsample_bynode=None, colsample_bytree=None,\n",
              "                               early_stopping_rounds=None,\n",
              "                               enable_ca...\n",
              "                               feature_types=None, gamma=0.5, gpu_id=None,\n",
              "                               grow_policy=None, importance_type=None,\n",
              "                               interaction_constraints=None, learning_rate=None,\n",
              "                               max_bin=None, max_cat_threshold=None,\n",
              "                               max_cat_to_onehot=None, max_delta_step=None,\n",
              "                               max_depth=4, max_leaves=None, min_child_weight=5,\n",
              "                               missing=nan, monotone_constraints=None,\n",
              "                               n_estimators=100, n_jobs=None,\n",
              "                               num_parallel_tree=None, predictor=None,\n",
              "                               random_state=None, ...))])</pre></div></div></div><div class=\"sk-serial\"><div class=\"sk-item sk-dashed-wrapped\"><div class=\"sk-label-container\"><div class=\"sk-label sk-toggleable\"><input class=\"sk-toggleable__control sk-hidden--visually\" id=\"sk-estimator-id-15\" type=\"checkbox\" ><label for=\"sk-estimator-id-15\" class=\"sk-toggleable__label sk-toggleable__label-arrow\">input processing: ColumnTransformer</label><div class=\"sk-toggleable__content\"><pre>ColumnTransformer(transformers=[(&#x27;select necessary feature&#x27;, &#x27;passthrough&#x27;,\n",
              "                                 [&#x27;checked_delivery_detail&#x27;, &#x27;sign_in&#x27;,\n",
              "                                  &#x27;saw_checkout&#x27;])])</pre></div></div></div><div class=\"sk-parallel\"><div class=\"sk-parallel-item\"><div class=\"sk-item\"><div class=\"sk-label-container\"><div class=\"sk-label sk-toggleable\"><input class=\"sk-toggleable__control sk-hidden--visually\" id=\"sk-estimator-id-16\" type=\"checkbox\" ><label for=\"sk-estimator-id-16\" class=\"sk-toggleable__label sk-toggleable__label-arrow\">select necessary feature</label><div class=\"sk-toggleable__content\"><pre>[&#x27;checked_delivery_detail&#x27;, &#x27;sign_in&#x27;, &#x27;saw_checkout&#x27;]</pre></div></div></div><div class=\"sk-serial\"><div class=\"sk-item\"><div class=\"sk-estimator sk-toggleable\"><input class=\"sk-toggleable__control sk-hidden--visually\" id=\"sk-estimator-id-17\" type=\"checkbox\" ><label for=\"sk-estimator-id-17\" class=\"sk-toggleable__label sk-toggleable__label-arrow\">passthrough</label><div class=\"sk-toggleable__content\"><pre>passthrough</pre></div></div></div></div></div></div></div></div><div class=\"sk-item\"><div class=\"sk-estimator sk-toggleable\"><input class=\"sk-toggleable__control sk-hidden--visually\" id=\"sk-estimator-id-18\" type=\"checkbox\" ><label for=\"sk-estimator-id-18\" class=\"sk-toggleable__label sk-toggleable__label-arrow\">XGBClassifier</label><div class=\"sk-toggleable__content\"><pre>XGBClassifier(base_score=None, booster=&#x27;gbtree&#x27;, callbacks=None,\n",
              "              colsample_bylevel=None, colsample_bynode=None,\n",
              "              colsample_bytree=None, early_stopping_rounds=None,\n",
              "              enable_categorical=False, eval_metric=None, feature_types=None,\n",
              "              gamma=0.5, gpu_id=None, grow_policy=None, importance_type=None,\n",
              "              interaction_constraints=None, learning_rate=None, max_bin=None,\n",
              "              max_cat_threshold=None, max_cat_to_onehot=None,\n",
              "              max_delta_step=None, max_depth=4, max_leaves=None,\n",
              "              min_child_weight=5, missing=nan, monotone_constraints=None,\n",
              "              n_estimators=100, n_jobs=None, num_parallel_tree=None,\n",
              "              predictor=None, random_state=None, ...)</pre></div></div></div></div></div></div></div>"
            ]
          },
          "metadata": {},
          "execution_count": 53
        }
      ]
    },
    {
      "cell_type": "code",
      "source": [
        "Y_train_pred = model_xgb_tuned.predict(X_train_oversampled)\n",
        "Y_test_pred = model_xgb_tuned.predict(X_test)\n",
        "\n",
        "print('Training Report for XGBoost Model on oversampled data')\n",
        "print(classification_report(Y_train_oversampled, Y_train_pred))\n",
        "print('------------------------------------------------------')\n",
        "\n",
        "print('Testing Report for XGBoost Model')\n",
        "print(classification_report(Y_test, Y_test_pred))"
      ],
      "metadata": {
        "colab": {
          "base_uri": "https://localhost:8080/"
        },
        "id": "jaEWL4KNsrhc",
        "outputId": "f6c8d715-4234-48e6-c9fc-7bf2c28c181b"
      },
      "execution_count": 62,
      "outputs": [
        {
          "output_type": "stream",
          "name": "stdout",
          "text": [
            "Training Report for XGBoost Model on oversampled data\n",
            "              precision    recall  f1-score   support\n",
            "\n",
            "           0       0.99      0.99      0.99    349045\n",
            "           1       0.99      0.99      0.99    349045\n",
            "\n",
            "    accuracy                           0.99    698090\n",
            "   macro avg       0.99      0.99      0.99    698090\n",
            "weighted avg       0.99      0.99      0.99    698090\n",
            "\n",
            "------------------------------------------------------\n",
            "Testing Report for XGBoost Model\n",
            "              precision    recall  f1-score   support\n",
            "\n",
            "           0       1.00      0.99      1.00     87263\n",
            "           1       0.85      0.99      0.91      3818\n",
            "\n",
            "    accuracy                           0.99     91081\n",
            "   macro avg       0.92      0.99      0.95     91081\n",
            "weighted avg       0.99      0.99      0.99     91081\n",
            "\n"
          ]
        }
      ]
    },
    {
      "cell_type": "code",
      "source": [
        "Y_test_pred = model_xgb_tuned.predict(X_test)\n",
        "cm = confusion_matrix(Y_test, Y_test_pred)\n",
        "disp = ConfusionMatrixDisplay(confusion_matrix=cm, display_labels=['not ordered', 'ordered'])\n",
        "disp.plot(cmap='GnBu')#plt.cm.Blues\n",
        "plt.show()"
      ],
      "metadata": {
        "colab": {
          "base_uri": "https://localhost:8080/",
          "height": 449
        },
        "id": "7ywYCoBaYDCV",
        "outputId": "1b79ce10-713a-447a-e46f-663c47d0f0bf"
      },
      "execution_count": 63,
      "outputs": [
        {
          "output_type": "display_data",
          "data": {
            "text/plain": [
              "<Figure size 640x480 with 2 Axes>"
            ],
            "image/png": "[encoded data removed]"
          },
          "metadata": {}
        }
      ]
    },
    {
      "cell_type": "code",
      "source": [
        "# ROC/AUC Score"
      ],
      "metadata": {
        "id": "A0woZCD-YKjy"
      },
      "execution_count": null,
      "outputs": []
    },
    {
      "cell_type": "markdown",
      "source": [
        "*** Interpreting the evaluation result of tuned XGBoost on oversampled data*** :\n",
        "\n",
        "to handle the class imbalance on the target variable the author fabricate an oversampled training data in hope that the model will learn better on this data. After training the model on oversampled data, the precision score result is astonishingly high at 99%. This signify that the model learn way better on oversampled data where there's no class imbalance on the target variable.\n",
        "\n",
        "But the problem arise when we evaluate the model performance on test data. the precision score of the test set is only 85%, 14% lower compared to the performance on the train set. This indicate a possible overfitting, where the model doesnt generalize well towards new unseen data.\n",
        "\n",
        "to conclude, the tuned XGBoost model that's trained on oversampled data shows sign of overfitting and considered to be non viable."
      ],
      "metadata": {
        "id": "jj_gswAw4JaQ"
      }
    },
    {
      "cell_type": "markdown",
      "source": [
        "### < Overall Analysis >\n",
        "\n"
      ],
      "metadata": {
        "id": "T1FcDZXF43gI"
      }
    },
    {
      "cell_type": "markdown",
      "source": [
        "1. the evaluation from different metrics shows that the baseline XGBoost model is viable with a ratio of correct prediction around 6 out of 7.\n",
        "\n",
        "2. the strength of XGBoost model is its relatively fast to train, naturally good at mitigating overfitting, and able to achieve good performance. The weakness of the model is its not significantly outperform the other 4 baseline model.\n",
        "\n",
        "3. performing oversampling doesnt add any improvement instead its shown that the model indicate a sign of overfitting when trained on the oversampled data.\n",
        "\n",
        "4. some noteworthy insight is\n",
        "\n",
        "5. for business consideration the author would suggest to develop an interactive pop up window containing interesting item to add to the cart before the customer proceed to checkout. This may increase engagement factor in the online store."
      ],
      "metadata": {
        "id": "AwoP_sCq5qmM"
      }
    },
    {
      "cell_type": "markdown",
      "source": [
        "# IV. MODEL SAVING"
      ],
      "metadata": {
        "id": "bqe--lcy48fk"
      }
    },
    {
      "cell_type": "code",
      "source": [
        "# saving the model, and column transformer\n",
        "with open('model_xgb_tuned.pkl', 'wb') as file_1:\n",
        "  joblib.dump(model_xgb_tuned, file_1)\n",
        "\n",
        "with open('model_transformer.pkl', 'wb') as file_2:\n",
        "  joblib.dump(input_transformer, file_2)"
      ],
      "metadata": {
        "id": "7RMeVY2OHExH"
      },
      "execution_count": 58,
      "outputs": []
    },
    {
      "cell_type": "markdown",
      "source": [
        "# X. MODEL INFERENCE"
      ],
      "metadata": {
        "id": "vCTM49kR5DLR"
      }
    },
    {
      "cell_type": "code",
      "source": [
        "# loading model\n",
        "with open('model_xgb_tuned.pkl', 'rb') as file_1:\n",
        "  model = joblib.load(file_1)\n",
        "\n",
        "with open('model_transformer.pkl', 'rb') as file_2:\n",
        "  transformer = joblib.load(file_2)"
      ],
      "metadata": {
        "id": "uyxvAaWUIJQs"
      },
      "execution_count": 59,
      "outputs": []
    },
    {
      "cell_type": "code",
      "source": [
        "test_dict = df.iloc[2292:2293].to_dict('records')\n",
        "test_dict"
      ],
      "metadata": {
        "id": "jheAii-gIQ9e"
      },
      "execution_count": null,
      "outputs": []
    },
    {
      "cell_type": "code",
      "source": [
        "# making dummmy data for inference\n",
        "test_data = pd.DataFrame({\n",
        "  'UserID': ['4170-6d363117-4170-4506-8bc3-205167'],\n",
        "  'basket_icon_click': [0],\n",
        "  'basket_add_list': [0],\n",
        "  'basket_add_detail': [0],\n",
        "  'sort_by': [0],\n",
        "  'image_picker': [0],\n",
        "  'account_page_click': [0],\n",
        "  'promo_banner_click': [0],\n",
        "  'detail_wishlist_add': [0],\n",
        "  'list_size_dropdown': [0],\n",
        "  'closed_minibasket_click': [0],\n",
        "  'checked_delivery_detail': [0],\n",
        "  'checked_returns_detail': [0],\n",
        "  'sign_in': [0],\n",
        "  'saw_checkout': [0],\n",
        "  'saw_sizecharts': [0],\n",
        "  'saw_delivery': [0],\n",
        "  'saw_account_upgrade': [0],\n",
        "  'saw_homepage': [1],\n",
        "  'device_mobile': [1],\n",
        "  'device_computer': [0],\n",
        "  'device_tablet': [0],\n",
        "  'returning_user': [0],\n",
        "  'loc_uk': [1],\n",
        "  'ordered': [0]\n",
        "  }\n",
        ")"
      ],
      "metadata": {
        "id": "Js-_i-YxIVnP"
      },
      "execution_count": 60,
      "outputs": []
    },
    {
      "cell_type": "code",
      "source": [
        "model.predict(test_data)"
      ],
      "metadata": {
        "colab": {
          "base_uri": "https://localhost:8080/"
        },
        "id": "rJ3KUN3wIoQN",
        "outputId": "5e542e48-10cc-48ae-89a9-26699f3f6736"
      },
      "execution_count": 61,
      "outputs": [
        {
          "output_type": "execute_result",
          "data": {
            "text/plain": [
              "array([0])"
            ]
          },
          "metadata": {},
          "execution_count": 61
        }
      ]
    },
    {
      "cell_type": "markdown",
      "source": [
        "# XI. CONCLUSION"
      ],
      "metadata": {
        "id": "2viYHAoA5Get"
      }
    },
    {
      "cell_type": "markdown",
      "source": [
        "1. the purpose of this project is to predict the likelihood of an order a customer is going to make at an online store. The most viable model to be used to achieve that purpose is XGBoost.\n",
        "\n",
        "2. from model evaluation its shown that the model achieve a considerably good performance of 86% correct prediction when predicting customer who's actually going to purchase an order.\n",
        "\n",
        "3. for business consideration the author would suggest to delve deeper to improve this model where it might turn into a competitive advantage for the business.\n",
        "\n",
        "4. for futher improvement the author recommend to perform a more thorough hyperparameter tuning on stronger computer, and to feature engineer additional variable that might improve the model.\n"
      ],
      "metadata": {
        "id": "HtfrvbDXNsDq"
      }
    }
  ]
}